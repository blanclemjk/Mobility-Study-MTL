{
 "cells": [
  {
   "cell_type": "code",
   "execution_count": 1,
   "metadata": {},
   "outputs": [
    {
     "name": "stderr",
     "output_type": "stream",
     "text": [
      "┌ Info: Loading DataFrames support into Gadfly.jl\n",
      "└ @ Gadfly C:\\Users\\Antoine Lamontagne\\.julia\\packages\\Gadfly\\09PWZ\\src\\mapping.jl:228\n"
     ]
    }
   ],
   "source": [
    "using CSV, DataFrames, Gadfly, Distributions, StatsBase"
   ]
  },
  {
   "cell_type": "code",
   "execution_count": 2,
   "metadata": {
    "scrolled": true
   },
   "outputs": [
    {
     "data": {
      "text/html": [
       "<table class=\"data-frame\"><thead><tr><th></th><th>IPERE</th><th>Menage</th><th>M_AUTO</th><th>M_PERS</th><th>M_DOMSM</th><th>M_revenu</th><th>M_dist_train</th><th>M_dist_metro</th><th>M_dist_centre</th><th>M_emploiTC</th><th>P_RANG</th><th>P_SEXE</th><th>P_AGE</th><th>P_GRAGE</th><th>P_STATUT</th><th>P_PERMIS</th><th>D_HREDE</th><th>D_MOTIF</th><th>D_Mode</th></tr><tr><th></th><th>Int64⍰</th><th>Int64⍰</th><th>Int64⍰</th><th>Int64⍰</th><th>Int64⍰</th><th>Int64⍰</th><th>Float64⍰</th><th>Float64⍰</th><th>Float64⍰</th><th>Int64⍰</th><th>Int64⍰</th><th>Int64⍰</th><th>Int64⍰</th><th>Int64⍰</th><th>Int64⍰</th><th>Int64⍰</th><th>Int64⍰</th><th>Int64⍰</th><th>Int64⍰</th></tr></thead><tbody><p>66,277 rows × 19 columns</p><tr><th>1</th><td>9</td><td>1000013</td><td>2</td><td>3</td><td>110</td><td>6</td><td>7.71979</td><td>1.81961</td><td>9.44328</td><td>556670</td><td>2</td><td>1</td><td>47</td><td>10</td><td>1</td><td>1</td><td>730</td><td>1</td><td>1</td></tr><tr><th>2</th><td>17</td><td>1000014</td><td>2</td><td>7</td><td>117</td><td>2</td><td>8.25894</td><td>2.35297</td><td>11.1385</td><td>318570</td><td>1</td><td>1</td><td>46</td><td>10</td><td>3</td><td>1</td><td>630</td><td>4</td><td>2</td></tr><tr><th>3</th><td>21</td><td>1000014</td><td>2</td><td>7</td><td>117</td><td>2</td><td>8.25894</td><td>2.35297</td><td>11.1385</td><td>318570</td><td>3</td><td>1</td><td>47</td><td>10</td><td>1</td><td>2</td><td>500</td><td>1</td><td>2</td></tr><tr><th>4</th><td>31</td><td>1000014</td><td>2</td><td>7</td><td>117</td><td>2</td><td>8.25894</td><td>2.35297</td><td>11.1385</td><td>318570</td><td>7</td><td>1</td><td>21</td><td>5</td><td>3</td><td>2</td><td>700</td><td>4</td><td>2</td></tr><tr><th>5</th><td>29</td><td>1000014</td><td>2</td><td>7</td><td>117</td><td>2</td><td>8.25894</td><td>2.35297</td><td>11.1385</td><td>318570</td><td>6</td><td>2</td><td>54</td><td>11</td><td>1</td><td>1</td><td>630</td><td>1</td><td>1</td></tr><tr><th>6</th><td>25</td><td>1000014</td><td>2</td><td>7</td><td>117</td><td>2</td><td>8.25894</td><td>2.35297</td><td>11.1385</td><td>318570</td><td>5</td><td>1</td><td>56</td><td>12</td><td>1</td><td>1</td><td>600</td><td>1</td><td>1</td></tr><tr><th>7</th><td>23</td><td>1000014</td><td>2</td><td>7</td><td>117</td><td>2</td><td>8.25894</td><td>2.35297</td><td>11.1385</td><td>318570</td><td>4</td><td>1</td><td>63</td><td>13</td><td>1</td><td>2</td><td>700</td><td>1</td><td>4</td></tr><tr><th>8</th><td>19</td><td>1000014</td><td>2</td><td>7</td><td>117</td><td>2</td><td>8.25894</td><td>2.35297</td><td>11.1385</td><td>318570</td><td>2</td><td>2</td><td>15</td><td>4</td><td>3</td><td>5</td><td>750</td><td>4</td><td>4</td></tr><tr><th>9</th><td>39</td><td>1000016</td><td>0</td><td>1</td><td>406</td><td>2</td><td>3.12452</td><td>0.689126</td><td>12.9415</td><td>658600</td><td>1</td><td>1</td><td>32</td><td>7</td><td>1</td><td>1</td><td>830</td><td>1</td><td>2</td></tr><tr><th>10</th><td>47</td><td>1000018</td><td>2</td><td>2</td><td>632</td><td>7</td><td>0.264051</td><td>18.4405</td><td>32.2865</td><td>19125</td><td>2</td><td>2</td><td>20</td><td>5</td><td>2</td><td>1</td><td>930</td><td>1</td><td>1</td></tr><tr><th>11</th><td>45</td><td>1000018</td><td>2</td><td>2</td><td>632</td><td>7</td><td>0.264051</td><td>18.4405</td><td>32.2865</td><td>19125</td><td>1</td><td>2</td><td>24</td><td>5</td><td>1</td><td>1</td><td>800</td><td>1</td><td>1</td></tr><tr><th>12</th><td>51</td><td>1000020</td><td>1</td><td>2</td><td>511</td><td>1</td><td>28.4438</td><td>33.35</td><td>37.0521</td><td>13565</td><td>2</td><td>2</td><td>56</td><td>12</td><td>1</td><td>1</td><td>730</td><td>1</td><td>1</td></tr><tr><th>13</th><td>49</td><td>1000020</td><td>1</td><td>2</td><td>511</td><td>1</td><td>28.4438</td><td>33.35</td><td>37.0521</td><td>13565</td><td>1</td><td>1</td><td>58</td><td>12</td><td>1</td><td>1</td><td>730</td><td>1</td><td>1</td></tr><tr><th>14</th><td>59</td><td>1000024</td><td>3</td><td>4</td><td>651</td><td>4</td><td>14.0512</td><td>28.2821</td><td>44.4947</td><td>480</td><td>1</td><td>2</td><td>36</td><td>8</td><td>1</td><td>1</td><td>730</td><td>1</td><td>1</td></tr><tr><th>15</th><td>65</td><td>1000024</td><td>3</td><td>4</td><td>651</td><td>4</td><td>14.0512</td><td>28.2821</td><td>44.4947</td><td>480</td><td>3</td><td>2</td><td>7</td><td>2</td><td>3</td><td>5</td><td>730</td><td>4</td><td>1</td></tr><tr><th>16</th><td>62</td><td>1000024</td><td>3</td><td>4</td><td>651</td><td>4</td><td>14.0512</td><td>28.2821</td><td>44.4947</td><td>480</td><td>2</td><td>1</td><td>36</td><td>8</td><td>1</td><td>1</td><td>515</td><td>1</td><td>1</td></tr><tr><th>17</th><td>80</td><td>1000039</td><td>1</td><td>2</td><td>130</td><td>3</td><td>2.5729</td><td>11.5405</td><td>16.5621</td><td>31935</td><td>2</td><td>2</td><td>56</td><td>12</td><td>1</td><td>1</td><td>800</td><td>1</td><td>1</td></tr><tr><th>18</th><td>99</td><td>1000056</td><td>0</td><td>4</td><td>104</td><td>3</td><td>0.999801</td><td>0.702709</td><td>5.0148</td><td>687495</td><td>3</td><td>1</td><td>8</td><td>2</td><td>3</td><td>5</td><td>830</td><td>4</td><td>4</td></tr><tr><th>19</th><td>101</td><td>1000056</td><td>0</td><td>4</td><td>104</td><td>3</td><td>0.999801</td><td>0.702709</td><td>5.0148</td><td>687495</td><td>3</td><td>1</td><td>8</td><td>2</td><td>3</td><td>5</td><td>1315</td><td>4</td><td>4</td></tr><tr><th>20</th><td>91</td><td>1000056</td><td>0</td><td>4</td><td>104</td><td>3</td><td>0.999801</td><td>0.702709</td><td>5.0148</td><td>687495</td><td>1</td><td>1</td><td>36</td><td>8</td><td>1</td><td>1</td><td>730</td><td>1</td><td>2</td></tr><tr><th>21</th><td>106</td><td>1000057</td><td>2</td><td>2</td><td>611</td><td>2</td><td>29.788</td><td>19.5342</td><td>31.1204</td><td>18060</td><td>2</td><td>2</td><td>62</td><td>13</td><td>1</td><td>1</td><td>830</td><td>1</td><td>1</td></tr><tr><th>22</th><td>116</td><td>1000079</td><td>2</td><td>3</td><td>661</td><td>2</td><td>4.07949</td><td>37.919</td><td>54.1316</td><td>28450</td><td>1</td><td>1</td><td>67</td><td>14</td><td>2</td><td>1</td><td>1540</td><td>1</td><td>1</td></tr><tr><th>23</th><td>137</td><td>1000090</td><td>3</td><td>3</td><td>544</td><td>3</td><td>2.43665</td><td>21.0707</td><td>22.5443</td><td>6630</td><td>3</td><td>1</td><td>19</td><td>4</td><td>1</td><td>1</td><td>400</td><td>1</td><td>1</td></tr><tr><th>24</th><td>156</td><td>1000100</td><td>2</td><td>2</td><td>401</td><td>6</td><td>4.19414</td><td>13.7345</td><td>28.545</td><td>7705</td><td>2</td><td>1</td><td>55</td><td>12</td><td>1</td><td>1</td><td>600</td><td>1</td><td>1</td></tr><tr><th>25</th><td>166</td><td>1000104</td><td>2</td><td>2</td><td>622</td><td>4</td><td>15.2296</td><td>22.396</td><td>32.4287</td><td>5825</td><td>2</td><td>2</td><td>49</td><td>10</td><td>1</td><td>1</td><td>535</td><td>1</td><td>3</td></tr><tr><th>26</th><td>180</td><td>1000106</td><td>1</td><td>4</td><td>105</td><td>3</td><td>1.97404</td><td>0.760867</td><td>6.23339</td><td>757050</td><td>3</td><td>1</td><td>9</td><td>2</td><td>3</td><td>5</td><td>800</td><td>4</td><td>4</td></tr><tr><th>27</th><td>182</td><td>1000106</td><td>1</td><td>4</td><td>105</td><td>3</td><td>1.97404</td><td>0.760867</td><td>6.23339</td><td>757050</td><td>4</td><td>1</td><td>8</td><td>2</td><td>3</td><td>5</td><td>800</td><td>4</td><td>4</td></tr><tr><th>28</th><td>171</td><td>1000106</td><td>1</td><td>4</td><td>105</td><td>3</td><td>1.97404</td><td>0.760867</td><td>6.23339</td><td>757050</td><td>1</td><td>2</td><td>43</td><td>9</td><td>1</td><td>2</td><td>613</td><td>1</td><td>2</td></tr><tr><th>29</th><td>193</td><td>1000117</td><td>2</td><td>4</td><td>402</td><td>5</td><td>2.47278</td><td>13.8904</td><td>28.701</td><td>32760</td><td>1</td><td>2</td><td>46</td><td>10</td><td>1</td><td>1</td><td>550</td><td>1</td><td>1</td></tr><tr><th>30</th><td>201</td><td>1000117</td><td>2</td><td>4</td><td>402</td><td>5</td><td>2.47278</td><td>13.8904</td><td>28.701</td><td>32760</td><td>4</td><td>2</td><td>9</td><td>2</td><td>3</td><td>5</td><td>720</td><td>4</td><td>1</td></tr><tr><th>&vellip;</th><td>&vellip;</td><td>&vellip;</td><td>&vellip;</td><td>&vellip;</td><td>&vellip;</td><td>&vellip;</td><td>&vellip;</td><td>&vellip;</td><td>&vellip;</td><td>&vellip;</td><td>&vellip;</td><td>&vellip;</td><td>&vellip;</td><td>&vellip;</td><td>&vellip;</td><td>&vellip;</td><td>&vellip;</td><td>&vellip;</td><td>&vellip;</td></tr></tbody></table>"
      ],
      "text/latex": [
       "\\begin{tabular}{r|ccccccccccccccccccc}\n",
       "\t& IPERE & Menage & M\\_AUTO & M\\_PERS & M\\_DOMSM & M\\_revenu & M\\_dist\\_train & M\\_dist\\_metro & M\\_dist\\_centre & M\\_emploiTC & P\\_RANG & P\\_SEXE & P\\_AGE & P\\_GRAGE & P\\_STATUT & P\\_PERMIS & D\\_HREDE & D\\_MOTIF & D\\_Mode\\\\\n",
       "\t\\hline\n",
       "\t& Int64⍰ & Int64⍰ & Int64⍰ & Int64⍰ & Int64⍰ & Int64⍰ & Float64⍰ & Float64⍰ & Float64⍰ & Int64⍰ & Int64⍰ & Int64⍰ & Int64⍰ & Int64⍰ & Int64⍰ & Int64⍰ & Int64⍰ & Int64⍰ & Int64⍰\\\\\n",
       "\t\\hline\n",
       "\t1 & 9 & 1000013 & 2 & 3 & 110 & 6 & 7.71979 & 1.81961 & 9.44328 & 556670 & 2 & 1 & 47 & 10 & 1 & 1 & 730 & 1 & 1 \\\\\n",
       "\t2 & 17 & 1000014 & 2 & 7 & 117 & 2 & 8.25894 & 2.35297 & 11.1385 & 318570 & 1 & 1 & 46 & 10 & 3 & 1 & 630 & 4 & 2 \\\\\n",
       "\t3 & 21 & 1000014 & 2 & 7 & 117 & 2 & 8.25894 & 2.35297 & 11.1385 & 318570 & 3 & 1 & 47 & 10 & 1 & 2 & 500 & 1 & 2 \\\\\n",
       "\t4 & 31 & 1000014 & 2 & 7 & 117 & 2 & 8.25894 & 2.35297 & 11.1385 & 318570 & 7 & 1 & 21 & 5 & 3 & 2 & 700 & 4 & 2 \\\\\n",
       "\t5 & 29 & 1000014 & 2 & 7 & 117 & 2 & 8.25894 & 2.35297 & 11.1385 & 318570 & 6 & 2 & 54 & 11 & 1 & 1 & 630 & 1 & 1 \\\\\n",
       "\t6 & 25 & 1000014 & 2 & 7 & 117 & 2 & 8.25894 & 2.35297 & 11.1385 & 318570 & 5 & 1 & 56 & 12 & 1 & 1 & 600 & 1 & 1 \\\\\n",
       "\t7 & 23 & 1000014 & 2 & 7 & 117 & 2 & 8.25894 & 2.35297 & 11.1385 & 318570 & 4 & 1 & 63 & 13 & 1 & 2 & 700 & 1 & 4 \\\\\n",
       "\t8 & 19 & 1000014 & 2 & 7 & 117 & 2 & 8.25894 & 2.35297 & 11.1385 & 318570 & 2 & 2 & 15 & 4 & 3 & 5 & 750 & 4 & 4 \\\\\n",
       "\t9 & 39 & 1000016 & 0 & 1 & 406 & 2 & 3.12452 & 0.689126 & 12.9415 & 658600 & 1 & 1 & 32 & 7 & 1 & 1 & 830 & 1 & 2 \\\\\n",
       "\t10 & 47 & 1000018 & 2 & 2 & 632 & 7 & 0.264051 & 18.4405 & 32.2865 & 19125 & 2 & 2 & 20 & 5 & 2 & 1 & 930 & 1 & 1 \\\\\n",
       "\t11 & 45 & 1000018 & 2 & 2 & 632 & 7 & 0.264051 & 18.4405 & 32.2865 & 19125 & 1 & 2 & 24 & 5 & 1 & 1 & 800 & 1 & 1 \\\\\n",
       "\t12 & 51 & 1000020 & 1 & 2 & 511 & 1 & 28.4438 & 33.35 & 37.0521 & 13565 & 2 & 2 & 56 & 12 & 1 & 1 & 730 & 1 & 1 \\\\\n",
       "\t13 & 49 & 1000020 & 1 & 2 & 511 & 1 & 28.4438 & 33.35 & 37.0521 & 13565 & 1 & 1 & 58 & 12 & 1 & 1 & 730 & 1 & 1 \\\\\n",
       "\t14 & 59 & 1000024 & 3 & 4 & 651 & 4 & 14.0512 & 28.2821 & 44.4947 & 480 & 1 & 2 & 36 & 8 & 1 & 1 & 730 & 1 & 1 \\\\\n",
       "\t15 & 65 & 1000024 & 3 & 4 & 651 & 4 & 14.0512 & 28.2821 & 44.4947 & 480 & 3 & 2 & 7 & 2 & 3 & 5 & 730 & 4 & 1 \\\\\n",
       "\t16 & 62 & 1000024 & 3 & 4 & 651 & 4 & 14.0512 & 28.2821 & 44.4947 & 480 & 2 & 1 & 36 & 8 & 1 & 1 & 515 & 1 & 1 \\\\\n",
       "\t17 & 80 & 1000039 & 1 & 2 & 130 & 3 & 2.5729 & 11.5405 & 16.5621 & 31935 & 2 & 2 & 56 & 12 & 1 & 1 & 800 & 1 & 1 \\\\\n",
       "\t18 & 99 & 1000056 & 0 & 4 & 104 & 3 & 0.999801 & 0.702709 & 5.0148 & 687495 & 3 & 1 & 8 & 2 & 3 & 5 & 830 & 4 & 4 \\\\\n",
       "\t19 & 101 & 1000056 & 0 & 4 & 104 & 3 & 0.999801 & 0.702709 & 5.0148 & 687495 & 3 & 1 & 8 & 2 & 3 & 5 & 1315 & 4 & 4 \\\\\n",
       "\t20 & 91 & 1000056 & 0 & 4 & 104 & 3 & 0.999801 & 0.702709 & 5.0148 & 687495 & 1 & 1 & 36 & 8 & 1 & 1 & 730 & 1 & 2 \\\\\n",
       "\t21 & 106 & 1000057 & 2 & 2 & 611 & 2 & 29.788 & 19.5342 & 31.1204 & 18060 & 2 & 2 & 62 & 13 & 1 & 1 & 830 & 1 & 1 \\\\\n",
       "\t22 & 116 & 1000079 & 2 & 3 & 661 & 2 & 4.07949 & 37.919 & 54.1316 & 28450 & 1 & 1 & 67 & 14 & 2 & 1 & 1540 & 1 & 1 \\\\\n",
       "\t23 & 137 & 1000090 & 3 & 3 & 544 & 3 & 2.43665 & 21.0707 & 22.5443 & 6630 & 3 & 1 & 19 & 4 & 1 & 1 & 400 & 1 & 1 \\\\\n",
       "\t24 & 156 & 1000100 & 2 & 2 & 401 & 6 & 4.19414 & 13.7345 & 28.545 & 7705 & 2 & 1 & 55 & 12 & 1 & 1 & 600 & 1 & 1 \\\\\n",
       "\t25 & 166 & 1000104 & 2 & 2 & 622 & 4 & 15.2296 & 22.396 & 32.4287 & 5825 & 2 & 2 & 49 & 10 & 1 & 1 & 535 & 1 & 3 \\\\\n",
       "\t26 & 180 & 1000106 & 1 & 4 & 105 & 3 & 1.97404 & 0.760867 & 6.23339 & 757050 & 3 & 1 & 9 & 2 & 3 & 5 & 800 & 4 & 4 \\\\\n",
       "\t27 & 182 & 1000106 & 1 & 4 & 105 & 3 & 1.97404 & 0.760867 & 6.23339 & 757050 & 4 & 1 & 8 & 2 & 3 & 5 & 800 & 4 & 4 \\\\\n",
       "\t28 & 171 & 1000106 & 1 & 4 & 105 & 3 & 1.97404 & 0.760867 & 6.23339 & 757050 & 1 & 2 & 43 & 9 & 1 & 2 & 613 & 1 & 2 \\\\\n",
       "\t29 & 193 & 1000117 & 2 & 4 & 402 & 5 & 2.47278 & 13.8904 & 28.701 & 32760 & 1 & 2 & 46 & 10 & 1 & 1 & 550 & 1 & 1 \\\\\n",
       "\t30 & 201 & 1000117 & 2 & 4 & 402 & 5 & 2.47278 & 13.8904 & 28.701 & 32760 & 4 & 2 & 9 & 2 & 3 & 5 & 720 & 4 & 1 \\\\\n",
       "\t$\\dots$ & $\\dots$ & $\\dots$ & $\\dots$ & $\\dots$ & $\\dots$ & $\\dots$ & $\\dots$ & $\\dots$ & $\\dots$ & $\\dots$ & $\\dots$ & $\\dots$ & $\\dots$ & $\\dots$ & $\\dots$ & $\\dots$ & $\\dots$ & $\\dots$ & $\\dots$ \\\\\n",
       "\\end{tabular}\n"
      ],
      "text/plain": [
       "66277×19 DataFrame. Omitted printing of 13 columns\n",
       "│ Row   │ IPERE  │ Menage  │ M_AUTO │ M_PERS │ M_DOMSM │ M_revenu │\n",
       "│       │ \u001b[90mInt64⍰\u001b[39m │ \u001b[90mInt64⍰\u001b[39m  │ \u001b[90mInt64⍰\u001b[39m │ \u001b[90mInt64⍰\u001b[39m │ \u001b[90mInt64⍰\u001b[39m  │ \u001b[90mInt64⍰\u001b[39m   │\n",
       "├───────┼────────┼─────────┼────────┼────────┼─────────┼──────────┤\n",
       "│ 1     │ 9      │ 1000013 │ 2      │ 3      │ 110     │ 6        │\n",
       "│ 2     │ 17     │ 1000014 │ 2      │ 7      │ 117     │ 2        │\n",
       "│ 3     │ 21     │ 1000014 │ 2      │ 7      │ 117     │ 2        │\n",
       "│ 4     │ 31     │ 1000014 │ 2      │ 7      │ 117     │ 2        │\n",
       "│ 5     │ 29     │ 1000014 │ 2      │ 7      │ 117     │ 2        │\n",
       "│ 6     │ 25     │ 1000014 │ 2      │ 7      │ 117     │ 2        │\n",
       "│ 7     │ 23     │ 1000014 │ 2      │ 7      │ 117     │ 2        │\n",
       "│ 8     │ 19     │ 1000014 │ 2      │ 7      │ 117     │ 2        │\n",
       "│ 9     │ 39     │ 1000016 │ 0      │ 1      │ 406     │ 2        │\n",
       "│ 10    │ 47     │ 1000018 │ 2      │ 2      │ 632     │ 7        │\n",
       "⋮\n",
       "│ 66267 │ 452865 │ 9031970 │ 2      │ 3      │ 302     │ 2        │\n",
       "│ 66268 │ 452869 │ 9031970 │ 2      │ 3      │ 302     │ 2        │\n",
       "│ 66269 │ 452867 │ 9031970 │ 2      │ 3      │ 302     │ 2        │\n",
       "│ 66270 │ 452886 │ 9032487 │ 0      │ 2      │ 106     │ 5        │\n",
       "│ 66271 │ 452890 │ 9032487 │ 0      │ 2      │ 106     │ 5        │\n",
       "│ 66272 │ 452894 │ 9032611 │ 0      │ 1      │ 108     │ 1        │\n",
       "│ 66273 │ 452914 │ 9032784 │ 1      │ 4      │ 302     │ 1        │\n",
       "│ 66274 │ 452953 │ 9033393 │ 1      │ 3      │ 642     │ 5        │\n",
       "│ 66275 │ 452962 │ 9033474 │ 1      │ 4      │ 136     │ 8        │\n",
       "│ 66276 │ 452967 │ 9033848 │ 1      │ 1      │ 307     │ 2        │\n",
       "│ 66277 │ 452973 │ 9057507 │ 2      │ 2      │ 542     │ 7        │"
      ]
     },
     "execution_count": 2,
     "metadata": {},
     "output_type": "execute_result"
    }
   ],
   "source": [
    "train = CSV.read(\"ODtrain.csv\")"
   ]
  },
  {
   "cell_type": "code",
   "execution_count": 3,
   "metadata": {
    "scrolled": true
   },
   "outputs": [
    {
     "data": {
      "text/html": [
       "<table class=\"data-frame\"><thead><tr><th></th><th>IPERE</th><th>Menage</th><th>M_AUTO</th><th>M_PERS</th><th>M_DOMSM</th><th>M_revenu</th><th>M_dist_train</th><th>M_dist_metro</th><th>M_dist_centre</th><th>M_emploiTC</th><th>P_RANG</th><th>P_SEXE</th><th>P_AGE</th><th>P_GRAGE</th><th>P_STATUT</th><th>P_PERMIS</th><th>D_HREDE</th><th>D_MOTIF</th><th>D_Mode</th></tr><tr><th></th><th>Int64</th><th>Int64</th><th>Int64</th><th>Int64</th><th>Int64</th><th>Int64</th><th>Float64</th><th>Float64</th><th>Float64</th><th>Int64</th><th>Int64</th><th>Int64</th><th>Int64</th><th>Int64</th><th>Int64</th><th>Int64</th><th>Int64</th><th>Int64</th><th>Int64</th></tr></thead><tbody><p>66,277 rows × 19 columns</p><tr><th>1</th><td>9</td><td>1000013</td><td>2</td><td>3</td><td>110</td><td>6</td><td>7.71979</td><td>1.81961</td><td>9.44328</td><td>556670</td><td>2</td><td>1</td><td>47</td><td>10</td><td>1</td><td>1</td><td>730</td><td>1</td><td>1</td></tr><tr><th>2</th><td>17</td><td>1000014</td><td>2</td><td>7</td><td>117</td><td>2</td><td>8.25894</td><td>2.35297</td><td>11.1385</td><td>318570</td><td>1</td><td>1</td><td>46</td><td>10</td><td>3</td><td>1</td><td>630</td><td>4</td><td>2</td></tr><tr><th>3</th><td>21</td><td>1000014</td><td>2</td><td>7</td><td>117</td><td>2</td><td>8.25894</td><td>2.35297</td><td>11.1385</td><td>318570</td><td>3</td><td>1</td><td>47</td><td>10</td><td>1</td><td>2</td><td>500</td><td>1</td><td>2</td></tr><tr><th>4</th><td>31</td><td>1000014</td><td>2</td><td>7</td><td>117</td><td>2</td><td>8.25894</td><td>2.35297</td><td>11.1385</td><td>318570</td><td>7</td><td>1</td><td>21</td><td>5</td><td>3</td><td>2</td><td>700</td><td>4</td><td>2</td></tr><tr><th>5</th><td>29</td><td>1000014</td><td>2</td><td>7</td><td>117</td><td>2</td><td>8.25894</td><td>2.35297</td><td>11.1385</td><td>318570</td><td>6</td><td>2</td><td>54</td><td>11</td><td>1</td><td>1</td><td>630</td><td>1</td><td>1</td></tr><tr><th>6</th><td>25</td><td>1000014</td><td>2</td><td>7</td><td>117</td><td>2</td><td>8.25894</td><td>2.35297</td><td>11.1385</td><td>318570</td><td>5</td><td>1</td><td>56</td><td>12</td><td>1</td><td>1</td><td>600</td><td>1</td><td>1</td></tr><tr><th>7</th><td>23</td><td>1000014</td><td>2</td><td>7</td><td>117</td><td>2</td><td>8.25894</td><td>2.35297</td><td>11.1385</td><td>318570</td><td>4</td><td>1</td><td>63</td><td>13</td><td>1</td><td>2</td><td>700</td><td>1</td><td>4</td></tr><tr><th>8</th><td>19</td><td>1000014</td><td>2</td><td>7</td><td>117</td><td>2</td><td>8.25894</td><td>2.35297</td><td>11.1385</td><td>318570</td><td>2</td><td>2</td><td>15</td><td>4</td><td>3</td><td>5</td><td>750</td><td>4</td><td>4</td></tr><tr><th>9</th><td>39</td><td>1000016</td><td>0</td><td>1</td><td>406</td><td>2</td><td>3.12452</td><td>0.689126</td><td>12.9415</td><td>658600</td><td>1</td><td>1</td><td>32</td><td>7</td><td>1</td><td>1</td><td>830</td><td>1</td><td>2</td></tr><tr><th>10</th><td>47</td><td>1000018</td><td>2</td><td>2</td><td>632</td><td>7</td><td>0.264051</td><td>18.4405</td><td>32.2865</td><td>19125</td><td>2</td><td>2</td><td>20</td><td>5</td><td>2</td><td>1</td><td>930</td><td>1</td><td>1</td></tr><tr><th>11</th><td>45</td><td>1000018</td><td>2</td><td>2</td><td>632</td><td>7</td><td>0.264051</td><td>18.4405</td><td>32.2865</td><td>19125</td><td>1</td><td>2</td><td>24</td><td>5</td><td>1</td><td>1</td><td>800</td><td>1</td><td>1</td></tr><tr><th>12</th><td>51</td><td>1000020</td><td>1</td><td>2</td><td>511</td><td>1</td><td>28.4438</td><td>33.35</td><td>37.0521</td><td>13565</td><td>2</td><td>2</td><td>56</td><td>12</td><td>1</td><td>1</td><td>730</td><td>1</td><td>1</td></tr><tr><th>13</th><td>49</td><td>1000020</td><td>1</td><td>2</td><td>511</td><td>1</td><td>28.4438</td><td>33.35</td><td>37.0521</td><td>13565</td><td>1</td><td>1</td><td>58</td><td>12</td><td>1</td><td>1</td><td>730</td><td>1</td><td>1</td></tr><tr><th>14</th><td>59</td><td>1000024</td><td>3</td><td>4</td><td>651</td><td>4</td><td>14.0512</td><td>28.2821</td><td>44.4947</td><td>480</td><td>1</td><td>2</td><td>36</td><td>8</td><td>1</td><td>1</td><td>730</td><td>1</td><td>1</td></tr><tr><th>15</th><td>65</td><td>1000024</td><td>3</td><td>4</td><td>651</td><td>4</td><td>14.0512</td><td>28.2821</td><td>44.4947</td><td>480</td><td>3</td><td>2</td><td>7</td><td>2</td><td>3</td><td>5</td><td>730</td><td>4</td><td>1</td></tr><tr><th>16</th><td>62</td><td>1000024</td><td>3</td><td>4</td><td>651</td><td>4</td><td>14.0512</td><td>28.2821</td><td>44.4947</td><td>480</td><td>2</td><td>1</td><td>36</td><td>8</td><td>1</td><td>1</td><td>515</td><td>1</td><td>1</td></tr><tr><th>17</th><td>80</td><td>1000039</td><td>1</td><td>2</td><td>130</td><td>3</td><td>2.5729</td><td>11.5405</td><td>16.5621</td><td>31935</td><td>2</td><td>2</td><td>56</td><td>12</td><td>1</td><td>1</td><td>800</td><td>1</td><td>1</td></tr><tr><th>18</th><td>99</td><td>1000056</td><td>0</td><td>4</td><td>104</td><td>3</td><td>0.999801</td><td>0.702709</td><td>5.0148</td><td>687495</td><td>3</td><td>1</td><td>8</td><td>2</td><td>3</td><td>5</td><td>830</td><td>4</td><td>4</td></tr><tr><th>19</th><td>101</td><td>1000056</td><td>0</td><td>4</td><td>104</td><td>3</td><td>0.999801</td><td>0.702709</td><td>5.0148</td><td>687495</td><td>3</td><td>1</td><td>8</td><td>2</td><td>3</td><td>5</td><td>1315</td><td>4</td><td>4</td></tr><tr><th>20</th><td>91</td><td>1000056</td><td>0</td><td>4</td><td>104</td><td>3</td><td>0.999801</td><td>0.702709</td><td>5.0148</td><td>687495</td><td>1</td><td>1</td><td>36</td><td>8</td><td>1</td><td>1</td><td>730</td><td>1</td><td>2</td></tr><tr><th>21</th><td>106</td><td>1000057</td><td>2</td><td>2</td><td>611</td><td>2</td><td>29.788</td><td>19.5342</td><td>31.1204</td><td>18060</td><td>2</td><td>2</td><td>62</td><td>13</td><td>1</td><td>1</td><td>830</td><td>1</td><td>1</td></tr><tr><th>22</th><td>116</td><td>1000079</td><td>2</td><td>3</td><td>661</td><td>2</td><td>4.07949</td><td>37.919</td><td>54.1316</td><td>28450</td><td>1</td><td>1</td><td>67</td><td>14</td><td>2</td><td>1</td><td>1540</td><td>1</td><td>1</td></tr><tr><th>23</th><td>137</td><td>1000090</td><td>3</td><td>3</td><td>544</td><td>3</td><td>2.43665</td><td>21.0707</td><td>22.5443</td><td>6630</td><td>3</td><td>1</td><td>19</td><td>4</td><td>1</td><td>1</td><td>400</td><td>1</td><td>1</td></tr><tr><th>24</th><td>156</td><td>1000100</td><td>2</td><td>2</td><td>401</td><td>6</td><td>4.19414</td><td>13.7345</td><td>28.545</td><td>7705</td><td>2</td><td>1</td><td>55</td><td>12</td><td>1</td><td>1</td><td>600</td><td>1</td><td>1</td></tr><tr><th>25</th><td>166</td><td>1000104</td><td>2</td><td>2</td><td>622</td><td>4</td><td>15.2296</td><td>22.396</td><td>32.4287</td><td>5825</td><td>2</td><td>2</td><td>49</td><td>10</td><td>1</td><td>1</td><td>535</td><td>1</td><td>3</td></tr><tr><th>26</th><td>180</td><td>1000106</td><td>1</td><td>4</td><td>105</td><td>3</td><td>1.97404</td><td>0.760867</td><td>6.23339</td><td>757050</td><td>3</td><td>1</td><td>9</td><td>2</td><td>3</td><td>5</td><td>800</td><td>4</td><td>4</td></tr><tr><th>27</th><td>182</td><td>1000106</td><td>1</td><td>4</td><td>105</td><td>3</td><td>1.97404</td><td>0.760867</td><td>6.23339</td><td>757050</td><td>4</td><td>1</td><td>8</td><td>2</td><td>3</td><td>5</td><td>800</td><td>4</td><td>4</td></tr><tr><th>28</th><td>171</td><td>1000106</td><td>1</td><td>4</td><td>105</td><td>3</td><td>1.97404</td><td>0.760867</td><td>6.23339</td><td>757050</td><td>1</td><td>2</td><td>43</td><td>9</td><td>1</td><td>2</td><td>613</td><td>1</td><td>2</td></tr><tr><th>29</th><td>193</td><td>1000117</td><td>2</td><td>4</td><td>402</td><td>5</td><td>2.47278</td><td>13.8904</td><td>28.701</td><td>32760</td><td>1</td><td>2</td><td>46</td><td>10</td><td>1</td><td>1</td><td>550</td><td>1</td><td>1</td></tr><tr><th>30</th><td>201</td><td>1000117</td><td>2</td><td>4</td><td>402</td><td>5</td><td>2.47278</td><td>13.8904</td><td>28.701</td><td>32760</td><td>4</td><td>2</td><td>9</td><td>2</td><td>3</td><td>5</td><td>720</td><td>4</td><td>1</td></tr><tr><th>&vellip;</th><td>&vellip;</td><td>&vellip;</td><td>&vellip;</td><td>&vellip;</td><td>&vellip;</td><td>&vellip;</td><td>&vellip;</td><td>&vellip;</td><td>&vellip;</td><td>&vellip;</td><td>&vellip;</td><td>&vellip;</td><td>&vellip;</td><td>&vellip;</td><td>&vellip;</td><td>&vellip;</td><td>&vellip;</td><td>&vellip;</td><td>&vellip;</td></tr></tbody></table>"
      ],
      "text/latex": [
       "\\begin{tabular}{r|ccccccccccccccccccc}\n",
       "\t& IPERE & Menage & M\\_AUTO & M\\_PERS & M\\_DOMSM & M\\_revenu & M\\_dist\\_train & M\\_dist\\_metro & M\\_dist\\_centre & M\\_emploiTC & P\\_RANG & P\\_SEXE & P\\_AGE & P\\_GRAGE & P\\_STATUT & P\\_PERMIS & D\\_HREDE & D\\_MOTIF & D\\_Mode\\\\\n",
       "\t\\hline\n",
       "\t& Int64 & Int64 & Int64 & Int64 & Int64 & Int64 & Float64 & Float64 & Float64 & Int64 & Int64 & Int64 & Int64 & Int64 & Int64 & Int64 & Int64 & Int64 & Int64\\\\\n",
       "\t\\hline\n",
       "\t1 & 9 & 1000013 & 2 & 3 & 110 & 6 & 7.71979 & 1.81961 & 9.44328 & 556670 & 2 & 1 & 47 & 10 & 1 & 1 & 730 & 1 & 1 \\\\\n",
       "\t2 & 17 & 1000014 & 2 & 7 & 117 & 2 & 8.25894 & 2.35297 & 11.1385 & 318570 & 1 & 1 & 46 & 10 & 3 & 1 & 630 & 4 & 2 \\\\\n",
       "\t3 & 21 & 1000014 & 2 & 7 & 117 & 2 & 8.25894 & 2.35297 & 11.1385 & 318570 & 3 & 1 & 47 & 10 & 1 & 2 & 500 & 1 & 2 \\\\\n",
       "\t4 & 31 & 1000014 & 2 & 7 & 117 & 2 & 8.25894 & 2.35297 & 11.1385 & 318570 & 7 & 1 & 21 & 5 & 3 & 2 & 700 & 4 & 2 \\\\\n",
       "\t5 & 29 & 1000014 & 2 & 7 & 117 & 2 & 8.25894 & 2.35297 & 11.1385 & 318570 & 6 & 2 & 54 & 11 & 1 & 1 & 630 & 1 & 1 \\\\\n",
       "\t6 & 25 & 1000014 & 2 & 7 & 117 & 2 & 8.25894 & 2.35297 & 11.1385 & 318570 & 5 & 1 & 56 & 12 & 1 & 1 & 600 & 1 & 1 \\\\\n",
       "\t7 & 23 & 1000014 & 2 & 7 & 117 & 2 & 8.25894 & 2.35297 & 11.1385 & 318570 & 4 & 1 & 63 & 13 & 1 & 2 & 700 & 1 & 4 \\\\\n",
       "\t8 & 19 & 1000014 & 2 & 7 & 117 & 2 & 8.25894 & 2.35297 & 11.1385 & 318570 & 2 & 2 & 15 & 4 & 3 & 5 & 750 & 4 & 4 \\\\\n",
       "\t9 & 39 & 1000016 & 0 & 1 & 406 & 2 & 3.12452 & 0.689126 & 12.9415 & 658600 & 1 & 1 & 32 & 7 & 1 & 1 & 830 & 1 & 2 \\\\\n",
       "\t10 & 47 & 1000018 & 2 & 2 & 632 & 7 & 0.264051 & 18.4405 & 32.2865 & 19125 & 2 & 2 & 20 & 5 & 2 & 1 & 930 & 1 & 1 \\\\\n",
       "\t11 & 45 & 1000018 & 2 & 2 & 632 & 7 & 0.264051 & 18.4405 & 32.2865 & 19125 & 1 & 2 & 24 & 5 & 1 & 1 & 800 & 1 & 1 \\\\\n",
       "\t12 & 51 & 1000020 & 1 & 2 & 511 & 1 & 28.4438 & 33.35 & 37.0521 & 13565 & 2 & 2 & 56 & 12 & 1 & 1 & 730 & 1 & 1 \\\\\n",
       "\t13 & 49 & 1000020 & 1 & 2 & 511 & 1 & 28.4438 & 33.35 & 37.0521 & 13565 & 1 & 1 & 58 & 12 & 1 & 1 & 730 & 1 & 1 \\\\\n",
       "\t14 & 59 & 1000024 & 3 & 4 & 651 & 4 & 14.0512 & 28.2821 & 44.4947 & 480 & 1 & 2 & 36 & 8 & 1 & 1 & 730 & 1 & 1 \\\\\n",
       "\t15 & 65 & 1000024 & 3 & 4 & 651 & 4 & 14.0512 & 28.2821 & 44.4947 & 480 & 3 & 2 & 7 & 2 & 3 & 5 & 730 & 4 & 1 \\\\\n",
       "\t16 & 62 & 1000024 & 3 & 4 & 651 & 4 & 14.0512 & 28.2821 & 44.4947 & 480 & 2 & 1 & 36 & 8 & 1 & 1 & 515 & 1 & 1 \\\\\n",
       "\t17 & 80 & 1000039 & 1 & 2 & 130 & 3 & 2.5729 & 11.5405 & 16.5621 & 31935 & 2 & 2 & 56 & 12 & 1 & 1 & 800 & 1 & 1 \\\\\n",
       "\t18 & 99 & 1000056 & 0 & 4 & 104 & 3 & 0.999801 & 0.702709 & 5.0148 & 687495 & 3 & 1 & 8 & 2 & 3 & 5 & 830 & 4 & 4 \\\\\n",
       "\t19 & 101 & 1000056 & 0 & 4 & 104 & 3 & 0.999801 & 0.702709 & 5.0148 & 687495 & 3 & 1 & 8 & 2 & 3 & 5 & 1315 & 4 & 4 \\\\\n",
       "\t20 & 91 & 1000056 & 0 & 4 & 104 & 3 & 0.999801 & 0.702709 & 5.0148 & 687495 & 1 & 1 & 36 & 8 & 1 & 1 & 730 & 1 & 2 \\\\\n",
       "\t21 & 106 & 1000057 & 2 & 2 & 611 & 2 & 29.788 & 19.5342 & 31.1204 & 18060 & 2 & 2 & 62 & 13 & 1 & 1 & 830 & 1 & 1 \\\\\n",
       "\t22 & 116 & 1000079 & 2 & 3 & 661 & 2 & 4.07949 & 37.919 & 54.1316 & 28450 & 1 & 1 & 67 & 14 & 2 & 1 & 1540 & 1 & 1 \\\\\n",
       "\t23 & 137 & 1000090 & 3 & 3 & 544 & 3 & 2.43665 & 21.0707 & 22.5443 & 6630 & 3 & 1 & 19 & 4 & 1 & 1 & 400 & 1 & 1 \\\\\n",
       "\t24 & 156 & 1000100 & 2 & 2 & 401 & 6 & 4.19414 & 13.7345 & 28.545 & 7705 & 2 & 1 & 55 & 12 & 1 & 1 & 600 & 1 & 1 \\\\\n",
       "\t25 & 166 & 1000104 & 2 & 2 & 622 & 4 & 15.2296 & 22.396 & 32.4287 & 5825 & 2 & 2 & 49 & 10 & 1 & 1 & 535 & 1 & 3 \\\\\n",
       "\t26 & 180 & 1000106 & 1 & 4 & 105 & 3 & 1.97404 & 0.760867 & 6.23339 & 757050 & 3 & 1 & 9 & 2 & 3 & 5 & 800 & 4 & 4 \\\\\n",
       "\t27 & 182 & 1000106 & 1 & 4 & 105 & 3 & 1.97404 & 0.760867 & 6.23339 & 757050 & 4 & 1 & 8 & 2 & 3 & 5 & 800 & 4 & 4 \\\\\n",
       "\t28 & 171 & 1000106 & 1 & 4 & 105 & 3 & 1.97404 & 0.760867 & 6.23339 & 757050 & 1 & 2 & 43 & 9 & 1 & 2 & 613 & 1 & 2 \\\\\n",
       "\t29 & 193 & 1000117 & 2 & 4 & 402 & 5 & 2.47278 & 13.8904 & 28.701 & 32760 & 1 & 2 & 46 & 10 & 1 & 1 & 550 & 1 & 1 \\\\\n",
       "\t30 & 201 & 1000117 & 2 & 4 & 402 & 5 & 2.47278 & 13.8904 & 28.701 & 32760 & 4 & 2 & 9 & 2 & 3 & 5 & 720 & 4 & 1 \\\\\n",
       "\t$\\dots$ & $\\dots$ & $\\dots$ & $\\dots$ & $\\dots$ & $\\dots$ & $\\dots$ & $\\dots$ & $\\dots$ & $\\dots$ & $\\dots$ & $\\dots$ & $\\dots$ & $\\dots$ & $\\dots$ & $\\dots$ & $\\dots$ & $\\dots$ & $\\dots$ & $\\dots$ \\\\\n",
       "\\end{tabular}\n"
      ],
      "text/plain": [
       "66277×19 DataFrame. Omitted printing of 13 columns\n",
       "│ Row   │ IPERE  │ Menage  │ M_AUTO │ M_PERS │ M_DOMSM │ M_revenu │\n",
       "│       │ \u001b[90mInt64\u001b[39m  │ \u001b[90mInt64\u001b[39m   │ \u001b[90mInt64\u001b[39m  │ \u001b[90mInt64\u001b[39m  │ \u001b[90mInt64\u001b[39m   │ \u001b[90mInt64\u001b[39m    │\n",
       "├───────┼────────┼─────────┼────────┼────────┼─────────┼──────────┤\n",
       "│ 1     │ 9      │ 1000013 │ 2      │ 3      │ 110     │ 6        │\n",
       "│ 2     │ 17     │ 1000014 │ 2      │ 7      │ 117     │ 2        │\n",
       "│ 3     │ 21     │ 1000014 │ 2      │ 7      │ 117     │ 2        │\n",
       "│ 4     │ 31     │ 1000014 │ 2      │ 7      │ 117     │ 2        │\n",
       "│ 5     │ 29     │ 1000014 │ 2      │ 7      │ 117     │ 2        │\n",
       "│ 6     │ 25     │ 1000014 │ 2      │ 7      │ 117     │ 2        │\n",
       "│ 7     │ 23     │ 1000014 │ 2      │ 7      │ 117     │ 2        │\n",
       "│ 8     │ 19     │ 1000014 │ 2      │ 7      │ 117     │ 2        │\n",
       "│ 9     │ 39     │ 1000016 │ 0      │ 1      │ 406     │ 2        │\n",
       "│ 10    │ 47     │ 1000018 │ 2      │ 2      │ 632     │ 7        │\n",
       "⋮\n",
       "│ 66267 │ 452865 │ 9031970 │ 2      │ 3      │ 302     │ 2        │\n",
       "│ 66268 │ 452869 │ 9031970 │ 2      │ 3      │ 302     │ 2        │\n",
       "│ 66269 │ 452867 │ 9031970 │ 2      │ 3      │ 302     │ 2        │\n",
       "│ 66270 │ 452886 │ 9032487 │ 0      │ 2      │ 106     │ 5        │\n",
       "│ 66271 │ 452890 │ 9032487 │ 0      │ 2      │ 106     │ 5        │\n",
       "│ 66272 │ 452894 │ 9032611 │ 0      │ 1      │ 108     │ 1        │\n",
       "│ 66273 │ 452914 │ 9032784 │ 1      │ 4      │ 302     │ 1        │\n",
       "│ 66274 │ 452953 │ 9033393 │ 1      │ 3      │ 642     │ 5        │\n",
       "│ 66275 │ 452962 │ 9033474 │ 1      │ 4      │ 136     │ 8        │\n",
       "│ 66276 │ 452967 │ 9033848 │ 1      │ 1      │ 307     │ 2        │\n",
       "│ 66277 │ 452973 │ 9057507 │ 2      │ 2      │ 542     │ 7        │"
      ]
     },
     "execution_count": 3,
     "metadata": {},
     "output_type": "execute_result"
    }
   ],
   "source": [
    "dropmissing!(train, disallowmissing=true)"
   ]
  },
  {
   "cell_type": "code",
   "execution_count": 4,
   "metadata": {},
   "outputs": [
    {
     "data": {
      "text/plain": [
       "19"
      ]
     },
     "execution_count": 4,
     "metadata": {},
     "output_type": "execute_result"
    }
   ],
   "source": [
    "n = size(train,1)\n",
    "p = size(train,2)"
   ]
  },
  {
   "cell_type": "code",
   "execution_count": 5,
   "metadata": {
    "scrolled": true
   },
   "outputs": [
    {
     "data": {
      "text/html": [
       "<table class=\"data-frame\"><thead><tr><th></th><th>IPERE</th><th>Menage</th><th>M_AUTO</th><th>M_PERS</th><th>M_DOMSM</th><th>M_revenu</th><th>M_dist_train</th><th>M_dist_metro</th><th>M_dist_centre</th><th>M_emploiTC</th><th>P_RANG</th><th>P_SEXE</th><th>P_AGE</th><th>P_GRAGE</th><th>P_STATUT</th><th>P_PERMIS</th><th>D_HREDE</th><th>D_MOTIF</th><th>D_Mode</th><th>D_Mode_str</th></tr><tr><th></th><th>Int64</th><th>Int64</th><th>Int64</th><th>Int64</th><th>Int64</th><th>Int64</th><th>Float64</th><th>Float64</th><th>Float64</th><th>Int64</th><th>Int64</th><th>Int64</th><th>Int64</th><th>Int64</th><th>Int64</th><th>Int64</th><th>Int64</th><th>Int64</th><th>Int64</th><th>Categorical…</th></tr></thead><tbody><p>66,277 rows × 20 columns</p><tr><th>1</th><td>9</td><td>1000013</td><td>2</td><td>3</td><td>110</td><td>6</td><td>7.71979</td><td>1.81961</td><td>9.44328</td><td>556670</td><td>2</td><td>1</td><td>47</td><td>10</td><td>1</td><td>1</td><td>730</td><td>1</td><td>1</td><td>Voiture</td></tr><tr><th>2</th><td>17</td><td>1000014</td><td>2</td><td>7</td><td>117</td><td>2</td><td>8.25894</td><td>2.35297</td><td>11.1385</td><td>318570</td><td>1</td><td>1</td><td>46</td><td>10</td><td>3</td><td>1</td><td>630</td><td>4</td><td>2</td><td>Transport Collectif</td></tr><tr><th>3</th><td>21</td><td>1000014</td><td>2</td><td>7</td><td>117</td><td>2</td><td>8.25894</td><td>2.35297</td><td>11.1385</td><td>318570</td><td>3</td><td>1</td><td>47</td><td>10</td><td>1</td><td>2</td><td>500</td><td>1</td><td>2</td><td>Transport Collectif</td></tr><tr><th>4</th><td>31</td><td>1000014</td><td>2</td><td>7</td><td>117</td><td>2</td><td>8.25894</td><td>2.35297</td><td>11.1385</td><td>318570</td><td>7</td><td>1</td><td>21</td><td>5</td><td>3</td><td>2</td><td>700</td><td>4</td><td>2</td><td>Transport Collectif</td></tr><tr><th>5</th><td>29</td><td>1000014</td><td>2</td><td>7</td><td>117</td><td>2</td><td>8.25894</td><td>2.35297</td><td>11.1385</td><td>318570</td><td>6</td><td>2</td><td>54</td><td>11</td><td>1</td><td>1</td><td>630</td><td>1</td><td>1</td><td>Voiture</td></tr><tr><th>6</th><td>25</td><td>1000014</td><td>2</td><td>7</td><td>117</td><td>2</td><td>8.25894</td><td>2.35297</td><td>11.1385</td><td>318570</td><td>5</td><td>1</td><td>56</td><td>12</td><td>1</td><td>1</td><td>600</td><td>1</td><td>1</td><td>Voiture</td></tr><tr><th>7</th><td>23</td><td>1000014</td><td>2</td><td>7</td><td>117</td><td>2</td><td>8.25894</td><td>2.35297</td><td>11.1385</td><td>318570</td><td>4</td><td>1</td><td>63</td><td>13</td><td>1</td><td>2</td><td>700</td><td>1</td><td>4</td><td>Actif</td></tr><tr><th>8</th><td>19</td><td>1000014</td><td>2</td><td>7</td><td>117</td><td>2</td><td>8.25894</td><td>2.35297</td><td>11.1385</td><td>318570</td><td>2</td><td>2</td><td>15</td><td>4</td><td>3</td><td>5</td><td>750</td><td>4</td><td>4</td><td>Actif</td></tr><tr><th>9</th><td>39</td><td>1000016</td><td>0</td><td>1</td><td>406</td><td>2</td><td>3.12452</td><td>0.689126</td><td>12.9415</td><td>658600</td><td>1</td><td>1</td><td>32</td><td>7</td><td>1</td><td>1</td><td>830</td><td>1</td><td>2</td><td>Transport Collectif</td></tr><tr><th>10</th><td>47</td><td>1000018</td><td>2</td><td>2</td><td>632</td><td>7</td><td>0.264051</td><td>18.4405</td><td>32.2865</td><td>19125</td><td>2</td><td>2</td><td>20</td><td>5</td><td>2</td><td>1</td><td>930</td><td>1</td><td>1</td><td>Voiture</td></tr><tr><th>11</th><td>45</td><td>1000018</td><td>2</td><td>2</td><td>632</td><td>7</td><td>0.264051</td><td>18.4405</td><td>32.2865</td><td>19125</td><td>1</td><td>2</td><td>24</td><td>5</td><td>1</td><td>1</td><td>800</td><td>1</td><td>1</td><td>Voiture</td></tr><tr><th>12</th><td>51</td><td>1000020</td><td>1</td><td>2</td><td>511</td><td>1</td><td>28.4438</td><td>33.35</td><td>37.0521</td><td>13565</td><td>2</td><td>2</td><td>56</td><td>12</td><td>1</td><td>1</td><td>730</td><td>1</td><td>1</td><td>Voiture</td></tr><tr><th>13</th><td>49</td><td>1000020</td><td>1</td><td>2</td><td>511</td><td>1</td><td>28.4438</td><td>33.35</td><td>37.0521</td><td>13565</td><td>1</td><td>1</td><td>58</td><td>12</td><td>1</td><td>1</td><td>730</td><td>1</td><td>1</td><td>Voiture</td></tr><tr><th>14</th><td>59</td><td>1000024</td><td>3</td><td>4</td><td>651</td><td>4</td><td>14.0512</td><td>28.2821</td><td>44.4947</td><td>480</td><td>1</td><td>2</td><td>36</td><td>8</td><td>1</td><td>1</td><td>730</td><td>1</td><td>1</td><td>Voiture</td></tr><tr><th>15</th><td>65</td><td>1000024</td><td>3</td><td>4</td><td>651</td><td>4</td><td>14.0512</td><td>28.2821</td><td>44.4947</td><td>480</td><td>3</td><td>2</td><td>7</td><td>2</td><td>3</td><td>5</td><td>730</td><td>4</td><td>1</td><td>Voiture</td></tr><tr><th>16</th><td>62</td><td>1000024</td><td>3</td><td>4</td><td>651</td><td>4</td><td>14.0512</td><td>28.2821</td><td>44.4947</td><td>480</td><td>2</td><td>1</td><td>36</td><td>8</td><td>1</td><td>1</td><td>515</td><td>1</td><td>1</td><td>Voiture</td></tr><tr><th>17</th><td>80</td><td>1000039</td><td>1</td><td>2</td><td>130</td><td>3</td><td>2.5729</td><td>11.5405</td><td>16.5621</td><td>31935</td><td>2</td><td>2</td><td>56</td><td>12</td><td>1</td><td>1</td><td>800</td><td>1</td><td>1</td><td>Voiture</td></tr><tr><th>18</th><td>99</td><td>1000056</td><td>0</td><td>4</td><td>104</td><td>3</td><td>0.999801</td><td>0.702709</td><td>5.0148</td><td>687495</td><td>3</td><td>1</td><td>8</td><td>2</td><td>3</td><td>5</td><td>830</td><td>4</td><td>4</td><td>Actif</td></tr><tr><th>19</th><td>101</td><td>1000056</td><td>0</td><td>4</td><td>104</td><td>3</td><td>0.999801</td><td>0.702709</td><td>5.0148</td><td>687495</td><td>3</td><td>1</td><td>8</td><td>2</td><td>3</td><td>5</td><td>1315</td><td>4</td><td>4</td><td>Actif</td></tr><tr><th>20</th><td>91</td><td>1000056</td><td>0</td><td>4</td><td>104</td><td>3</td><td>0.999801</td><td>0.702709</td><td>5.0148</td><td>687495</td><td>1</td><td>1</td><td>36</td><td>8</td><td>1</td><td>1</td><td>730</td><td>1</td><td>2</td><td>Transport Collectif</td></tr><tr><th>21</th><td>106</td><td>1000057</td><td>2</td><td>2</td><td>611</td><td>2</td><td>29.788</td><td>19.5342</td><td>31.1204</td><td>18060</td><td>2</td><td>2</td><td>62</td><td>13</td><td>1</td><td>1</td><td>830</td><td>1</td><td>1</td><td>Voiture</td></tr><tr><th>22</th><td>116</td><td>1000079</td><td>2</td><td>3</td><td>661</td><td>2</td><td>4.07949</td><td>37.919</td><td>54.1316</td><td>28450</td><td>1</td><td>1</td><td>67</td><td>14</td><td>2</td><td>1</td><td>1540</td><td>1</td><td>1</td><td>Voiture</td></tr><tr><th>23</th><td>137</td><td>1000090</td><td>3</td><td>3</td><td>544</td><td>3</td><td>2.43665</td><td>21.0707</td><td>22.5443</td><td>6630</td><td>3</td><td>1</td><td>19</td><td>4</td><td>1</td><td>1</td><td>400</td><td>1</td><td>1</td><td>Voiture</td></tr><tr><th>24</th><td>156</td><td>1000100</td><td>2</td><td>2</td><td>401</td><td>6</td><td>4.19414</td><td>13.7345</td><td>28.545</td><td>7705</td><td>2</td><td>1</td><td>55</td><td>12</td><td>1</td><td>1</td><td>600</td><td>1</td><td>1</td><td>Voiture</td></tr><tr><th>25</th><td>166</td><td>1000104</td><td>2</td><td>2</td><td>622</td><td>4</td><td>15.2296</td><td>22.396</td><td>32.4287</td><td>5825</td><td>2</td><td>2</td><td>49</td><td>10</td><td>1</td><td>1</td><td>535</td><td>1</td><td>3</td><td>Hybride</td></tr><tr><th>26</th><td>180</td><td>1000106</td><td>1</td><td>4</td><td>105</td><td>3</td><td>1.97404</td><td>0.760867</td><td>6.23339</td><td>757050</td><td>3</td><td>1</td><td>9</td><td>2</td><td>3</td><td>5</td><td>800</td><td>4</td><td>4</td><td>Actif</td></tr><tr><th>27</th><td>182</td><td>1000106</td><td>1</td><td>4</td><td>105</td><td>3</td><td>1.97404</td><td>0.760867</td><td>6.23339</td><td>757050</td><td>4</td><td>1</td><td>8</td><td>2</td><td>3</td><td>5</td><td>800</td><td>4</td><td>4</td><td>Actif</td></tr><tr><th>28</th><td>171</td><td>1000106</td><td>1</td><td>4</td><td>105</td><td>3</td><td>1.97404</td><td>0.760867</td><td>6.23339</td><td>757050</td><td>1</td><td>2</td><td>43</td><td>9</td><td>1</td><td>2</td><td>613</td><td>1</td><td>2</td><td>Transport Collectif</td></tr><tr><th>29</th><td>193</td><td>1000117</td><td>2</td><td>4</td><td>402</td><td>5</td><td>2.47278</td><td>13.8904</td><td>28.701</td><td>32760</td><td>1</td><td>2</td><td>46</td><td>10</td><td>1</td><td>1</td><td>550</td><td>1</td><td>1</td><td>Voiture</td></tr><tr><th>30</th><td>201</td><td>1000117</td><td>2</td><td>4</td><td>402</td><td>5</td><td>2.47278</td><td>13.8904</td><td>28.701</td><td>32760</td><td>4</td><td>2</td><td>9</td><td>2</td><td>3</td><td>5</td><td>720</td><td>4</td><td>1</td><td>Voiture</td></tr><tr><th>&vellip;</th><td>&vellip;</td><td>&vellip;</td><td>&vellip;</td><td>&vellip;</td><td>&vellip;</td><td>&vellip;</td><td>&vellip;</td><td>&vellip;</td><td>&vellip;</td><td>&vellip;</td><td>&vellip;</td><td>&vellip;</td><td>&vellip;</td><td>&vellip;</td><td>&vellip;</td><td>&vellip;</td><td>&vellip;</td><td>&vellip;</td><td>&vellip;</td><td>&vellip;</td></tr></tbody></table>"
      ],
      "text/latex": [
       "\\begin{tabular}{r|cccccccccccccccccccc}\n",
       "\t& IPERE & Menage & M\\_AUTO & M\\_PERS & M\\_DOMSM & M\\_revenu & M\\_dist\\_train & M\\_dist\\_metro & M\\_dist\\_centre & M\\_emploiTC & P\\_RANG & P\\_SEXE & P\\_AGE & P\\_GRAGE & P\\_STATUT & P\\_PERMIS & D\\_HREDE & D\\_MOTIF & D\\_Mode & D\\_Mode\\_str\\\\\n",
       "\t\\hline\n",
       "\t& Int64 & Int64 & Int64 & Int64 & Int64 & Int64 & Float64 & Float64 & Float64 & Int64 & Int64 & Int64 & Int64 & Int64 & Int64 & Int64 & Int64 & Int64 & Int64 & Categorical…\\\\\n",
       "\t\\hline\n",
       "\t1 & 9 & 1000013 & 2 & 3 & 110 & 6 & 7.71979 & 1.81961 & 9.44328 & 556670 & 2 & 1 & 47 & 10 & 1 & 1 & 730 & 1 & 1 & Voiture \\\\\n",
       "\t2 & 17 & 1000014 & 2 & 7 & 117 & 2 & 8.25894 & 2.35297 & 11.1385 & 318570 & 1 & 1 & 46 & 10 & 3 & 1 & 630 & 4 & 2 & Transport Collectif \\\\\n",
       "\t3 & 21 & 1000014 & 2 & 7 & 117 & 2 & 8.25894 & 2.35297 & 11.1385 & 318570 & 3 & 1 & 47 & 10 & 1 & 2 & 500 & 1 & 2 & Transport Collectif \\\\\n",
       "\t4 & 31 & 1000014 & 2 & 7 & 117 & 2 & 8.25894 & 2.35297 & 11.1385 & 318570 & 7 & 1 & 21 & 5 & 3 & 2 & 700 & 4 & 2 & Transport Collectif \\\\\n",
       "\t5 & 29 & 1000014 & 2 & 7 & 117 & 2 & 8.25894 & 2.35297 & 11.1385 & 318570 & 6 & 2 & 54 & 11 & 1 & 1 & 630 & 1 & 1 & Voiture \\\\\n",
       "\t6 & 25 & 1000014 & 2 & 7 & 117 & 2 & 8.25894 & 2.35297 & 11.1385 & 318570 & 5 & 1 & 56 & 12 & 1 & 1 & 600 & 1 & 1 & Voiture \\\\\n",
       "\t7 & 23 & 1000014 & 2 & 7 & 117 & 2 & 8.25894 & 2.35297 & 11.1385 & 318570 & 4 & 1 & 63 & 13 & 1 & 2 & 700 & 1 & 4 & Actif \\\\\n",
       "\t8 & 19 & 1000014 & 2 & 7 & 117 & 2 & 8.25894 & 2.35297 & 11.1385 & 318570 & 2 & 2 & 15 & 4 & 3 & 5 & 750 & 4 & 4 & Actif \\\\\n",
       "\t9 & 39 & 1000016 & 0 & 1 & 406 & 2 & 3.12452 & 0.689126 & 12.9415 & 658600 & 1 & 1 & 32 & 7 & 1 & 1 & 830 & 1 & 2 & Transport Collectif \\\\\n",
       "\t10 & 47 & 1000018 & 2 & 2 & 632 & 7 & 0.264051 & 18.4405 & 32.2865 & 19125 & 2 & 2 & 20 & 5 & 2 & 1 & 930 & 1 & 1 & Voiture \\\\\n",
       "\t11 & 45 & 1000018 & 2 & 2 & 632 & 7 & 0.264051 & 18.4405 & 32.2865 & 19125 & 1 & 2 & 24 & 5 & 1 & 1 & 800 & 1 & 1 & Voiture \\\\\n",
       "\t12 & 51 & 1000020 & 1 & 2 & 511 & 1 & 28.4438 & 33.35 & 37.0521 & 13565 & 2 & 2 & 56 & 12 & 1 & 1 & 730 & 1 & 1 & Voiture \\\\\n",
       "\t13 & 49 & 1000020 & 1 & 2 & 511 & 1 & 28.4438 & 33.35 & 37.0521 & 13565 & 1 & 1 & 58 & 12 & 1 & 1 & 730 & 1 & 1 & Voiture \\\\\n",
       "\t14 & 59 & 1000024 & 3 & 4 & 651 & 4 & 14.0512 & 28.2821 & 44.4947 & 480 & 1 & 2 & 36 & 8 & 1 & 1 & 730 & 1 & 1 & Voiture \\\\\n",
       "\t15 & 65 & 1000024 & 3 & 4 & 651 & 4 & 14.0512 & 28.2821 & 44.4947 & 480 & 3 & 2 & 7 & 2 & 3 & 5 & 730 & 4 & 1 & Voiture \\\\\n",
       "\t16 & 62 & 1000024 & 3 & 4 & 651 & 4 & 14.0512 & 28.2821 & 44.4947 & 480 & 2 & 1 & 36 & 8 & 1 & 1 & 515 & 1 & 1 & Voiture \\\\\n",
       "\t17 & 80 & 1000039 & 1 & 2 & 130 & 3 & 2.5729 & 11.5405 & 16.5621 & 31935 & 2 & 2 & 56 & 12 & 1 & 1 & 800 & 1 & 1 & Voiture \\\\\n",
       "\t18 & 99 & 1000056 & 0 & 4 & 104 & 3 & 0.999801 & 0.702709 & 5.0148 & 687495 & 3 & 1 & 8 & 2 & 3 & 5 & 830 & 4 & 4 & Actif \\\\\n",
       "\t19 & 101 & 1000056 & 0 & 4 & 104 & 3 & 0.999801 & 0.702709 & 5.0148 & 687495 & 3 & 1 & 8 & 2 & 3 & 5 & 1315 & 4 & 4 & Actif \\\\\n",
       "\t20 & 91 & 1000056 & 0 & 4 & 104 & 3 & 0.999801 & 0.702709 & 5.0148 & 687495 & 1 & 1 & 36 & 8 & 1 & 1 & 730 & 1 & 2 & Transport Collectif \\\\\n",
       "\t21 & 106 & 1000057 & 2 & 2 & 611 & 2 & 29.788 & 19.5342 & 31.1204 & 18060 & 2 & 2 & 62 & 13 & 1 & 1 & 830 & 1 & 1 & Voiture \\\\\n",
       "\t22 & 116 & 1000079 & 2 & 3 & 661 & 2 & 4.07949 & 37.919 & 54.1316 & 28450 & 1 & 1 & 67 & 14 & 2 & 1 & 1540 & 1 & 1 & Voiture \\\\\n",
       "\t23 & 137 & 1000090 & 3 & 3 & 544 & 3 & 2.43665 & 21.0707 & 22.5443 & 6630 & 3 & 1 & 19 & 4 & 1 & 1 & 400 & 1 & 1 & Voiture \\\\\n",
       "\t24 & 156 & 1000100 & 2 & 2 & 401 & 6 & 4.19414 & 13.7345 & 28.545 & 7705 & 2 & 1 & 55 & 12 & 1 & 1 & 600 & 1 & 1 & Voiture \\\\\n",
       "\t25 & 166 & 1000104 & 2 & 2 & 622 & 4 & 15.2296 & 22.396 & 32.4287 & 5825 & 2 & 2 & 49 & 10 & 1 & 1 & 535 & 1 & 3 & Hybride \\\\\n",
       "\t26 & 180 & 1000106 & 1 & 4 & 105 & 3 & 1.97404 & 0.760867 & 6.23339 & 757050 & 3 & 1 & 9 & 2 & 3 & 5 & 800 & 4 & 4 & Actif \\\\\n",
       "\t27 & 182 & 1000106 & 1 & 4 & 105 & 3 & 1.97404 & 0.760867 & 6.23339 & 757050 & 4 & 1 & 8 & 2 & 3 & 5 & 800 & 4 & 4 & Actif \\\\\n",
       "\t28 & 171 & 1000106 & 1 & 4 & 105 & 3 & 1.97404 & 0.760867 & 6.23339 & 757050 & 1 & 2 & 43 & 9 & 1 & 2 & 613 & 1 & 2 & Transport Collectif \\\\\n",
       "\t29 & 193 & 1000117 & 2 & 4 & 402 & 5 & 2.47278 & 13.8904 & 28.701 & 32760 & 1 & 2 & 46 & 10 & 1 & 1 & 550 & 1 & 1 & Voiture \\\\\n",
       "\t30 & 201 & 1000117 & 2 & 4 & 402 & 5 & 2.47278 & 13.8904 & 28.701 & 32760 & 4 & 2 & 9 & 2 & 3 & 5 & 720 & 4 & 1 & Voiture \\\\\n",
       "\t$\\dots$ & $\\dots$ & $\\dots$ & $\\dots$ & $\\dots$ & $\\dots$ & $\\dots$ & $\\dots$ & $\\dots$ & $\\dots$ & $\\dots$ & $\\dots$ & $\\dots$ & $\\dots$ & $\\dots$ & $\\dots$ & $\\dots$ & $\\dots$ & $\\dots$ & $\\dots$ & $\\dots$ \\\\\n",
       "\\end{tabular}\n"
      ],
      "text/plain": [
       "66277×20 DataFrame. Omitted printing of 14 columns\n",
       "│ Row   │ IPERE  │ Menage  │ M_AUTO │ M_PERS │ M_DOMSM │ M_revenu │\n",
       "│       │ \u001b[90mInt64\u001b[39m  │ \u001b[90mInt64\u001b[39m   │ \u001b[90mInt64\u001b[39m  │ \u001b[90mInt64\u001b[39m  │ \u001b[90mInt64\u001b[39m   │ \u001b[90mInt64\u001b[39m    │\n",
       "├───────┼────────┼─────────┼────────┼────────┼─────────┼──────────┤\n",
       "│ 1     │ 9      │ 1000013 │ 2      │ 3      │ 110     │ 6        │\n",
       "│ 2     │ 17     │ 1000014 │ 2      │ 7      │ 117     │ 2        │\n",
       "│ 3     │ 21     │ 1000014 │ 2      │ 7      │ 117     │ 2        │\n",
       "│ 4     │ 31     │ 1000014 │ 2      │ 7      │ 117     │ 2        │\n",
       "│ 5     │ 29     │ 1000014 │ 2      │ 7      │ 117     │ 2        │\n",
       "│ 6     │ 25     │ 1000014 │ 2      │ 7      │ 117     │ 2        │\n",
       "│ 7     │ 23     │ 1000014 │ 2      │ 7      │ 117     │ 2        │\n",
       "│ 8     │ 19     │ 1000014 │ 2      │ 7      │ 117     │ 2        │\n",
       "│ 9     │ 39     │ 1000016 │ 0      │ 1      │ 406     │ 2        │\n",
       "│ 10    │ 47     │ 1000018 │ 2      │ 2      │ 632     │ 7        │\n",
       "⋮\n",
       "│ 66267 │ 452865 │ 9031970 │ 2      │ 3      │ 302     │ 2        │\n",
       "│ 66268 │ 452869 │ 9031970 │ 2      │ 3      │ 302     │ 2        │\n",
       "│ 66269 │ 452867 │ 9031970 │ 2      │ 3      │ 302     │ 2        │\n",
       "│ 66270 │ 452886 │ 9032487 │ 0      │ 2      │ 106     │ 5        │\n",
       "│ 66271 │ 452890 │ 9032487 │ 0      │ 2      │ 106     │ 5        │\n",
       "│ 66272 │ 452894 │ 9032611 │ 0      │ 1      │ 108     │ 1        │\n",
       "│ 66273 │ 452914 │ 9032784 │ 1      │ 4      │ 302     │ 1        │\n",
       "│ 66274 │ 452953 │ 9033393 │ 1      │ 3      │ 642     │ 5        │\n",
       "│ 66275 │ 452962 │ 9033474 │ 1      │ 4      │ 136     │ 8        │\n",
       "│ 66276 │ 452967 │ 9033848 │ 1      │ 1      │ 307     │ 2        │\n",
       "│ 66277 │ 452973 │ 9057507 │ 2      │ 2      │ 542     │ 7        │"
      ]
     },
     "execution_count": 5,
     "metadata": {},
     "output_type": "execute_result"
    }
   ],
   "source": [
    "str_mode = [\"Voiture\", \"Transport Collectif\", \"Hybride\", \"Actif\", \"Autre\"]\n",
    "\n",
    "d = Array{String}(undef,n)\n",
    "\n",
    "for i=1:length(str_mode)\n",
    "   \n",
    "    ind = train[:D_Mode] .== i\n",
    "    d[ind] .= str_mode[i] \n",
    "    \n",
    "end\n",
    "\n",
    "train[:D_Mode_str] = d\n",
    "\n",
    "categorical!(train, :D_Mode_str)"
   ]
  },
  {
   "cell_type": "code",
   "execution_count": 6,
   "metadata": {},
   "outputs": [],
   "source": [
    "struct Occurences\n",
    "    mode::Array{Int64}\n",
    "    variables::Array{Array}\n",
    "    columns::Array{Symbol}\n",
    "    nCat::Array{Int64}\n",
    "end"
   ]
  },
  {
   "cell_type": "code",
   "execution_count": 19,
   "metadata": {},
   "outputs": [
    {
     "data": {
      "text/plain": [
       "validate (generic function with 1 method)"
      ]
     },
     "execution_count": 19,
     "metadata": {},
     "output_type": "execute_result"
    }
   ],
   "source": [
    "## COPIED FROM MAX VRAISEMBLANCE\n",
    "k=5\n",
    "struct TestSet\n",
    "    train::DataFrame\n",
    "    test::DataFrame\n",
    "end\n",
    "\n",
    "function getTestSet(initialSet::DataFrame)\n",
    "    n = length(initialSet[:D_Mode])\n",
    "    nTest = convert(Int64, round(0.20 * n))\n",
    "    index = rand(0:n-nTest+1)\n",
    "    return TestSet(vcat(initialSet[1:index-1, :], initialSet[index+nTest:n, :]), initialSet[index:index+nTest-1, :])\n",
    "    \n",
    "    a = [1,2,3]\n",
    "    b= view(a, 1:2)\n",
    "    c= vcat(view(a, 1:1), view(a, 3:3))\n",
    "end\n",
    "function validate(estimates::Array{Int64}, realValue::Array{Int64})\n",
    "    n = length(realValue)\n",
    "    nEach = [0, 0, 0, 0, 0]\n",
    "    right = [0, 0, 0, 0, 0]\n",
    "    for i=1:n\n",
    "        nEach[realValue[i]] += 1\n",
    "        if estimates[i] == realValue[i]\n",
    "            right[realValue[i]] += 1\n",
    "        end\n",
    "    end\n",
    "    \n",
    "    out = \"\"\n",
    "    for i=1:k\n",
    "        #print(str_mode[i], \" : \", right[i]/nEach[i]*100, \"%\\n\" ) \n",
    "        out *= str_mode[i] * \" : \" * string(right[i]/nEach[i]*100) * \"%\\n\"\n",
    "    end\n",
    "    #print(\"Total : \", sum(right)/n*100, \"%\\n\" )\n",
    "    tot = sum(right)/n*100\n",
    "    out *= \"Total : \" * string(tot) * \"%\\n\"\n",
    "    return (total=tot, output=out)\n",
    "end"
   ]
  },
  {
   "cell_type": "code",
   "execution_count": 27,
   "metadata": {},
   "outputs": [
    {
     "data": {
      "text/plain": [
       "JustDoItDontLetYourDreamsBeDreams (generic function with 2 methods)"
      ]
     },
     "execution_count": 27,
     "metadata": {},
     "output_type": "execute_result"
    }
   ],
   "source": [
    "function findProb(occ::Occurences, variable::Int64, value::Int64)\n",
    "    q = Array{Float64}(undef, length(occ.mode))\n",
    "    for i=1:5\n",
    "        q[i] = log(occ.variables[i, variable][value] + 1) - log(occ.mode[i] + length(occ.nCat[variable]))        \n",
    "    end\n",
    "    return q\n",
    "end\n",
    "\n",
    "function getOccurences(trainSet::DataFrame, col::Array{Symbol}, nCat::Array{Int64})\n",
    "    mode = Array{Int64, 1}(undef, 5)\n",
    "    for i=1:5\n",
    "        mode[i] = size(trainSet[trainSet[:D_Mode] .== i, :], 1)\n",
    "    end\n",
    "    \n",
    "    variables = Array{Array{Int64, 1}, 2}(undef, (5, length(col)))\n",
    "    \n",
    "    for i=1:5\n",
    "        for j=1:length(col)\n",
    "            variables[i, j] = Array{Int64, 1}(undef, nCat[j])\n",
    "            for k=1:nCat[j]\n",
    "                variables[i, j][k] = size(trainSet[(trainSet[:D_Mode] .== i) .& (trainSet[col[j]] .== k), :], 1)\n",
    "            end\n",
    "        end\n",
    "    end\n",
    "    return Occurences(mode, variables, col, nCat)\n",
    "end\n",
    "\n",
    "function filterMode(row::DataFrameRow, occ::Occurences)\n",
    "    p = Array{Float64}(undef, 5)\n",
    "    for i=1:5\n",
    "       p[i] = log(occ.mode[i] + 1) - log(sum(occ.mode) + length(occ.mode)) \n",
    "    end \n",
    "    for i=1:length(occ.columns)\n",
    "        x̃ = row[occ.columns[i]]\n",
    "        p = p + findProb(occ, i, x̃)\n",
    "    end\n",
    "    \n",
    "     _, ind = findmax(p)\n",
    "    \n",
    "    return ind\n",
    "end\n",
    "\n",
    "function JustDoItDontLetYourDreamsBeDreams(col::Array{Symbol}, nCat::Array{Int64})\n",
    "    set = getTestSet(train)\n",
    "    occ = getOccurences(set.train, col, nCat)\n",
    "    sizeTest = size(set.test, 1)\n",
    "    est = Array{Int64}(undef, sizeTest)\n",
    "    println(occ)\n",
    "    println()\n",
    "    for i=1:sizeTest\n",
    "        est[i] = filterMode(set.test[i, :], occ)\n",
    "    end\n",
    "    validate(est, set.test[:D_Mode])\n",
    "end"
   ]
  },
  {
   "cell_type": "code",
   "execution_count": 31,
   "metadata": {},
   "outputs": [
    {
     "name": "stdout",
     "output_type": "stream",
     "text": [
      "Occurences([28839, 11795, 1670, 6653, 4065], Array[[24393, 681, 2, 1, 3762] [0, 2338, 1262, 1469, 1868, 1417, 1855, 2537, 2944, 3451, 4162, 3057, 1631, 554, 184, 110] [23028, 0, 0, 5811, 0, 0, 0, 0, 0, 0, 0, 0, 0] [20808, 1617, 6067, 188, 123, 0, 35, 1]; [6798, 3699, 16, 0, 1282] [0, 66, 870, 2417, 1650, 854, 907, 900, 828, 863, 1043, 783, 440, 120, 39, 15] [6642, 0, 0, 5153, 0, 0, 0, 0, 0, 0, 0, 0, 0] [5863, 595, 5257, 28, 38, 0, 12, 2]; [1494, 103, 1, 1, 71] [0, 1, 50, 198, 240, 93, 115, 136, 166, 193, 239, 163, 63, 11, 0, 2] [1173, 0, 0, 497, 0, 0, 0, 0, 0, 0, 0, 0, 0] [1100, 56, 506, 4, 2, 0, 2, 0]; [2063, 1039, 8, 2, 3541] [0, 1760, 1565, 796, 292, 208, 273, 260, 275, 301, 362, 326, 150, 65, 14, 6] [2324, 0, 0, 4329, 0, 0, 0, 0, 0, 0, 0, 0, 0] [1901, 296, 4421, 17, 12, 0, 6, 0]; [188, 523, 1, 1, 3352] [0, 1309, 1647, 979, 30, 12, 21, 11, 12, 13, 6, 13, 9, 3, 0, 0] [99, 0, 0, 3966, 0, 0, 0, 0, 0, 0, 0, 0, 0] [82, 12, 3962, 3, 5, 0, 1, 0]], Symbol[:P_PERMIS, :P_GRAGE, :D_MOTIF, :P_STATUT], [5, 16, 13, 8])\n",
      "\n"
     ]
    },
    {
     "data": {
      "text/plain": [
       "(total = 60.535646925688425, output = \"Voiture : 79.85561571567402%\\nTransport Collectif : 48.842917251051894%\\nHybride : 0.0%\\nActif : 0.11567379988432619%\\nAutre : 84.24591738712776%\\nTotal : 60.535646925688425%\\n\")"
      ]
     },
     "execution_count": 31,
     "metadata": {},
     "output_type": "execute_result"
    }
   ],
   "source": [
    "JustDoItDontLetYourDreamsBeDreams(    \n",
    "    [:P_PERMIS, :P_GRAGE, :D_MOTIF, :P_STATUT],\n",
    "    [5, 16, 13, 8]\n",
    ")"
   ]
  },
  {
   "cell_type": "code",
   "execution_count": null,
   "metadata": {},
   "outputs": [],
   "source": [
    "train"
   ]
  },
  {
   "cell_type": "code",
   "execution_count": null,
   "metadata": {},
   "outputs": [],
   "source": []
  }
 ],
 "metadata": {
  "kernelspec": {
   "display_name": "Julia 1.1.0",
   "language": "julia",
   "name": "julia-1.1"
  },
  "language_info": {
   "file_extension": ".jl",
   "mimetype": "application/julia",
   "name": "julia",
   "version": "1.1.0"
  }
 },
 "nbformat": 4,
 "nbformat_minor": 2
}
