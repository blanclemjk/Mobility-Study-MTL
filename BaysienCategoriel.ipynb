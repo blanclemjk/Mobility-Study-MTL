{
 "cells": [
  {
   "cell_type": "markdown",
   "metadata": {},
   "source": [
    "# Fonctions pour le calcul avec du Bayésien naïf pour les variables catégorielles\n",
    "\n",
    "## Lecture et nettoyage des données (code fourni)"
   ]
  },
  {
   "cell_type": "code",
   "execution_count": 1,
   "metadata": {},
   "outputs": [
    {
     "name": "stderr",
     "output_type": "stream",
     "text": [
      "┌ Info: Loading DataFrames support into Gadfly.jl\n",
      "└ @ Gadfly C:\\Users\\farme\\.julia\\packages\\Gadfly\\09PWZ\\src\\mapping.jl:228\n"
     ]
    }
   ],
   "source": [
    "using CSV, DataFrames, Gadfly, Distributions, StatsBase"
   ]
  },
  {
   "cell_type": "code",
   "execution_count": 2,
   "metadata": {
    "scrolled": true
   },
   "outputs": [],
   "source": [
    "train = CSV.read(\"ODtrain.csv\")\n",
    "\n",
    "dropmissing!(train, disallowmissing=true)\n",
    "\n",
    "n = size(train,1)\n",
    "p = size(train,2)\n",
    "\n",
    "str_mode = [\"Voiture\", \"Transport Collectif\", \"Hybride\", \"Actif\", \"Autre\"]\n",
    "\n",
    "d = Array{String}(undef,n)\n",
    "\n",
    "for i=1:length(str_mode)\n",
    "   \n",
    "    ind = train[:D_Mode] .== i\n",
    "    d[ind] .= str_mode[i] \n",
    "    \n",
    "end\n",
    "\n",
    "train[:D_Mode_str] = d\n",
    "\n",
    "categorical!(train, :D_Mode_str);"
   ]
  },
  {
   "cell_type": "markdown",
   "metadata": {},
   "source": [
    "## Code provenant du fichier Maximum de la vraisemblance\n",
    "À mettre dans une catégorie à part dans le rapport plz"
   ]
  },
  {
   "cell_type": "code",
   "execution_count": 3,
   "metadata": {},
   "outputs": [
    {
     "data": {
      "text/plain": [
       "validate (generic function with 1 method)"
      ]
     },
     "execution_count": 3,
     "metadata": {},
     "output_type": "execute_result"
    }
   ],
   "source": [
    "## COPIED FROM MAX VRAISEMBLANCE\n",
    "k=5\n",
    "struct TestSet\n",
    "    train::DataFrame\n",
    "    test::DataFrame\n",
    "end\n",
    "\n",
    "function getTestSet(initialSet::DataFrame)\n",
    "    n = length(initialSet[:D_Mode])\n",
    "    nTest = convert(Int64, round(0.20 * n))\n",
    "    index = rand(0:n-nTest+1)\n",
    "    return TestSet(vcat(initialSet[1:index-1, :], initialSet[index+nTest:n, :]), initialSet[index:index+nTest-1, :])\n",
    "    \n",
    "    a = [1,2,3]\n",
    "    b= view(a, 1:2)\n",
    "    c= vcat(view(a, 1:1), view(a, 3:3))\n",
    "end\n",
    "function validate(estimates::Array{Int64}, realValue::Array{Int64})\n",
    "    n = length(realValue)\n",
    "    nEach = [0, 0, 0, 0, 0]\n",
    "    right = [0, 0, 0, 0, 0]\n",
    "    for i=1:n\n",
    "        nEach[realValue[i]] += 1\n",
    "        if estimates[i] == realValue[i]\n",
    "            right[realValue[i]] += 1\n",
    "        end\n",
    "    end\n",
    "    \n",
    "    out = \"\"\n",
    "    for i=1:k\n",
    "        #print(str_mode[i], \" : \", right[i]/nEach[i]*100, \"%\\n\" ) \n",
    "        out *= str_mode[i] * \" : \" * string(right[i]/nEach[i]*100) * \"%\\n\"\n",
    "    end\n",
    "    #print(\"Total : \", sum(right)/n*100, \"%\\n\" )\n",
    "    tot = sum(right)/n*100\n",
    "    out *= \"Total : \" * string(tot) * \"%\\n\"\n",
    "    return (total=tot, output=out)\n",
    "end"
   ]
  },
  {
   "cell_type": "markdown",
   "metadata": {},
   "source": [
    "## Fonctions et structures pour le calcul\n",
    "\n",
    "### Structure qui contient les nombres d'occurences des données nécessaires\n",
    "\n",
    "Cette structure contient les occurences des différentes variables.<br>\n",
    "Structure:\n",
    "- mode[i] contient ni, soit le nombre de déplacements qui ont le mode de transport i\n",
    "- variables[i, j][l] contient le nombre de déplacements qui ont le mode de transport i et qui ont la catégorie l pour la variable j. Ex: Si la permière variable est P_PERMIS, variables[4, 1][2] est le nombre de déplacement où la personne ne possède pas un permis de conduire et où le mode de transport est actif\n",
    "- colums[j] contient le symbole associé à la colonne qui contient la variable j\n",
    "- nCat[j] contient le nombre de catégories pour la variable j"
   ]
  },
  {
   "cell_type": "code",
   "execution_count": 4,
   "metadata": {},
   "outputs": [],
   "source": [
    "struct Occurences\n",
    "    mode::Array{Int64}\n",
    "    variables::Array{Array}\n",
    "    columns::Array{Symbol}\n",
    "    nCat::Array{Int64}\n",
    "end"
   ]
  },
  {
   "cell_type": "markdown",
   "metadata": {},
   "source": [
    "### Fonctions internes (\"privées\")\n",
    "\n",
    "#### getOccurences(trainSet, col, nCat)\n",
    "Cette fonction construit la structure Occurences pour un modèle donné.\n",
    "- trainSet: l'ensemble des données d'où on va extraire les occurences. \n",
    "- col: le tableau qui contient toutes les variables dont il faut extraire les occurences.\n",
    "- nCat: le nombre de catégories pour chaque variable explicative.\n",
    "\n",
    "#### findProb(occ, variable, value)\n",
    "Cette fonction retourne la probabilité associée à une variable explicative pour une valeur donnée.\n",
    "- occ: Contient les occurences (n) qui permettent de calculer la probabilité.\n",
    "- variable: Représente l'indice de la variable pour le champ variables dans occ.\n",
    "- value représente la valeur de la variable explicative.\n",
    "\n",
    "#### filterMode(row, occ)\n",
    "Cette fonction retourne quel mode est le plus probable pour un déplacement. Elle appelle la fonction findProb pour toutes les variables explicatives présentes dans occ.\n",
    "- row: Le déplacement dont on veut prévoir le mode.\n",
    "- occ: Contient les occurences (n) qui permettent de calculer la probabilité.\n"
   ]
  },
  {
   "cell_type": "code",
   "execution_count": 5,
   "metadata": {},
   "outputs": [
    {
     "data": {
      "text/plain": [
       "filterMode (generic function with 1 method)"
      ]
     },
     "execution_count": 5,
     "metadata": {},
     "output_type": "execute_result"
    }
   ],
   "source": [
    "function getOccurences(trainSet::DataFrame, col::Array{Symbol}, nCat::Array{Int64})\n",
    "    mode = Array{Int64, 1}(undef, k)\n",
    "    for i=1:k\n",
    "        mode[i] = size(trainSet[trainSet[:D_Mode] .== i, :], 1)\n",
    "    end\n",
    "    \n",
    "    variables = Array{Array{Int64, 1}, 2}(undef, (k, length(col)))\n",
    "    \n",
    "    for i=1:5\n",
    "        for j=1:length(col)\n",
    "            variables[i, j] = Array{Int64, 1}(undef, nCat[j])\n",
    "            for l=1:nCat[j]\n",
    "                variables[i, j][l] = size(trainSet[(trainSet[:D_Mode] .== i) .& (trainSet[col[j]] .== l), :], 1)\n",
    "            end\n",
    "        end\n",
    "    end\n",
    "    return Occurences(mode, variables, col, nCat)\n",
    "end\n",
    "\n",
    "function findProb(occ::Occurences, variable::Int64, value::Int64)\n",
    "    q = Array{Float64}(undef, length(occ.mode))\n",
    "    for i=1:k\n",
    "        q[i] = log(occ.variables[i, variable][value] + 1) - log(occ.mode[i] + length(occ.nCat[variable]))        \n",
    "    end\n",
    "    return q\n",
    "end\n",
    "\n",
    "function filterMode(row::DataFrameRow, occ::Occurences)\n",
    "    p = Array{Float64}(undef, k)\n",
    "    for i=1:k\n",
    "       p[i] = log(occ.mode[i] + 1) - log(sum(occ.mode) + length(occ.mode)) \n",
    "    end \n",
    "    for i=1:length(occ.columns)\n",
    "        x̃ = row[occ.columns[i]]\n",
    "        p = p + findProb(occ, i, x̃)\n",
    "    end\n",
    "    \n",
    "     _, ind = findmax(p)\n",
    "    \n",
    "    return ind\n",
    "end"
   ]
  },
  {
   "cell_type": "markdown",
   "metadata": {},
   "source": [
    "### Fonction \"publique\"\n",
    "\n",
    "getPercentRightBayes(col, nCat)\n",
    "Calcule la validité d'un modèle\n",
    "- col: le nom de la variable catégorielle .\n",
    "- le nombre de catégories pour chaque variable."
   ]
  },
  {
   "cell_type": "code",
   "execution_count": 6,
   "metadata": {},
   "outputs": [
    {
     "data": {
      "text/plain": [
       "getPercentRightBayes (generic function with 1 method)"
      ]
     },
     "execution_count": 6,
     "metadata": {},
     "output_type": "execute_result"
    }
   ],
   "source": [
    "function getPercentRightBayes(col::Array{Symbol}, nCat::Array{Int64})\n",
    "    set = getTestSet(train)\n",
    "    occ = getOccurences(set.train, col, nCat)\n",
    "    sizeTest = size(set.test, 1)\n",
    "    est = Array{Int64}(undef, sizeTest)\n",
    "    for i=1:sizeTest\n",
    "        est[i] = filterMode(set.test[i, :], occ)\n",
    "    end\n",
    "    output = validate(est, set.test[:D_Mode])\n",
    "    print(output.output)\n",
    "end"
   ]
  },
  {
   "cell_type": "markdown",
   "metadata": {},
   "source": [
    "## Exemple"
   ]
  },
  {
   "cell_type": "code",
   "execution_count": 7,
   "metadata": {},
   "outputs": [
    {
     "name": "stdout",
     "output_type": "stream",
     "text": [
      "Voiture : 79.21740320153235%\n",
      "Transport Collectif : 47.27988546886185%\n",
      "Hybride : 0.0%\n",
      "Actif : 0.12143290831815423%\n",
      "Autre : 83.71877890841813%\n",
      "Total : 60.4903809883063%\n"
     ]
    }
   ],
   "source": [
    "getPercentRightBayes(    \n",
    "    [:P_PERMIS, :P_GRAGE, :D_MOTIF, :P_STATUT],\n",
    "    [5, 16, 13, 8]\n",
    ")"
   ]
  },
  {
   "cell_type": "markdown",
   "metadata": {},
   "source": [
    "### Ajout d'une nouvelle variable, la municipalité"
   ]
  },
  {
   "cell_type": "code",
   "execution_count": 45,
   "metadata": {},
   "outputs": [
    {
     "name": "stdout",
     "output_type": "stream",
     "text": [
      "Voiture : 83.10615448161917%\n",
      "Transport Collectif : 41.59074982480729%\n",
      "Hybride : 0.0%\n",
      "Actif : 22.316555488174654%\n",
      "Autre : 82.75538894095595%\n",
      "Total : 63.93059222934742%\n"
     ]
    }
   ],
   "source": [
    "d = Array{Int64}(undef,n)\n",
    "\n",
    "for i=1:length(train[:M_DOMSM])\n",
    "    mun = train[:M_DOMSM][i];\n",
    "    if mun == 101 || mun == 102\n",
    "        d[i] = 1;\n",
    "    elseif (mun >= 103 && mun <= 112) || (mun >= 120 && mun <= 124)\n",
    "        d[i] = 2;\n",
    "    elseif mun >= 113 && mun <= 118\n",
    "        d[i] = 3;\n",
    "    elseif mun >= 126 && mun <= 141\n",
    "        d[i] = 4;\n",
    "    elseif mun >= 301 && mun <= 310\n",
    "        d[i] = 5;\n",
    "    elseif mun >= 401 && mun <= 408\n",
    "        d[i] = 6;\n",
    "    elseif mun >= 501 && mun <= 576\n",
    "        d[i] = 7;\n",
    "    elseif mun >= 601 && mun <= 691\n",
    "        d[i] = 8;\n",
    "    else\n",
    "        d[i] = 9;\n",
    "    end\n",
    "end\n",
    "\n",
    "train[:M_DOMSM_G] = d\n",
    "\n",
    "getPercentRightBayes(    \n",
    "    [:P_PERMIS,  :D_MOTIF, :P_STATUT, :M_DOMSM_G],\n",
    "    [5, 13, 8, 9]\n",
    ")"
   ]
  }
 ],
 "metadata": {
  "kernelspec": {
   "display_name": "Julia 1.0.3",
   "language": "julia",
   "name": "julia-1.0"
  },
  "language_info": {
   "file_extension": ".jl",
   "mimetype": "application/julia",
   "name": "julia",
   "version": "1.0.3"
  }
 },
 "nbformat": 4,
 "nbformat_minor": 2
}
