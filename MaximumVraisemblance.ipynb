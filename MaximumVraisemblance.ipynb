{
 "cells": [
  {
   "cell_type": "markdown",
   "metadata": {},
   "source": [
    "# Fonctions pour le calcul avec le maximum de la vraisemblance\n",
    "\n",
    "## Lecture et nettoyage des données (code fourni)"
   ]
  },
  {
   "cell_type": "code",
   "execution_count": null,
   "metadata": {},
   "outputs": [],
   "source": [
    "using CSV, DataFrames, Gadfly, Distributions, StatsBase"
   ]
  },
  {
   "cell_type": "code",
   "execution_count": null,
   "metadata": {},
   "outputs": [],
   "source": [
    "train = CSV.read(\"ODtrain.csv\")\n",
    "n = size(train,1)\n",
    "p = size(train,2)\n",
    "dropmissing!(train, disallowmissing=true)\n",
    "str_mode = [\"Voiture\", \"Transport Collectif\", \"Hybride\", \"Actif\", \"Autre\"]\n",
    "\n",
    "d = Array{String}(undef,n)\n",
    "\n",
    "for i=1:length(str_mode)\n",
    "   \n",
    "    ind = train[:D_Mode] .== i\n",
    "    d[ind] .= str_mode[i] \n",
    "    \n",
    "end\n",
    "\n",
    "train[:D_Mode_str] = d\n",
    "\n",
    "categorical!(train, :D_Mode_str);"
   ]
  },
  {
   "cell_type": "markdown",
   "metadata": {},
   "source": [
    "## Analyse des distributions des données\n",
    "\n",
    "Ici on peut changer les valeurs des trois premières variables pour tenter de trouver la bonne distribution à associer à une variable quelconque."
   ]
  },
  {
   "cell_type": "code",
   "execution_count": null,
   "metadata": {},
   "outputs": [],
   "source": [
    "dep = 2;\n",
    "sym = :M_dist_centre\n",
    "dist = Gamma\n",
    "\n",
    "voi = train[train[:D_Mode] .== dep, :];\n",
    "fd = fit_mle(dist, voi[sym]);\n",
    "xx = 0:0.1:60;\n",
    "f = pdf.(fd, xx);\n",
    "h = layer(x = voi[sym], Geom.histogram(density = true));\n",
    "f = layer(x = xx, y = f, Geom.line, Theme(default_color=\"red\"));\n",
    "plot(f, h)"
   ]
  },
  {
   "cell_type": "markdown",
   "metadata": {},
   "source": [
    "## Fonctions pour le calcul\n",
    "\n",
    "### Constante"
   ]
  },
  {
   "cell_type": "code",
   "execution_count": null,
   "metadata": {},
   "outputs": [],
   "source": [
    "k = 5"
   ]
  },
  {
   "cell_type": "markdown",
   "metadata": {},
   "source": [
    "### Fonctions internes (\"privées\")"
   ]
  },
  {
   "cell_type": "code",
   "execution_count": null,
   "metadata": {},
   "outputs": [],
   "source": [
    "function determineMode(index::Int64, dist::Array{Distribution, 2}, columns::Array{Symbol, 1}, testSet::DataFrame)\n",
    "    # Y Cat(τ)\n",
    "    τ = fit(Categorical, train[:D_Mode])\n",
    "    # P(Y = i | X = dist) = p[i]\n",
    "    p = Array{Float64}(undef, k)\n",
    "    max = 1\n",
    "    for i=1:k\n",
    "        p[i] = log(pdf(τ, i))\n",
    "        nVarExpl = size(dist, 1)\n",
    "        for j=1:nVarExpl\n",
    "           p[i] += log(pdf(dist[j, i], testSet[columns[j]][index]))\n",
    "        end\n",
    "        if p[max] < p[i]\n",
    "            max = i\n",
    "        end\n",
    "    end\n",
    "    return max\n",
    "end\n",
    "function validate(estimates::Array{Int64}, realValue::Array{Int64})\n",
    "    n = length(realValue)\n",
    "    nEach = [0, 0, 0, 0, 0]\n",
    "    right = [0, 0, 0, 0, 0]\n",
    "    for i=1:n\n",
    "        nEach[realValue[i]] += 1\n",
    "        if estimates[i] == realValue[i]\n",
    "            right[realValue[i]] += 1\n",
    "        end\n",
    "    end\n",
    "    for i=1:k\n",
    "       print(str_mode[i], \" : \", right[i]/nEach[i]*100, \"%\\n\" ) \n",
    "    end\n",
    "    print(\"Total : \", sum(right)/n*100, \"%\\n\" ) \n",
    "end\n",
    "struct TestSet\n",
    "    train::DataFrame\n",
    "    test::DataFrame\n",
    "end\n",
    "function getTestSet(initialSet::DataFrame)\n",
    "    n = length(initialSet[:D_Mode])\n",
    "    nTest = convert(Int64, round(0.20 * n))\n",
    "    index = rand(0:n-nTest+1)\n",
    "    return TestSet(vcat(initialSet[1:index-1, :], initialSet[index+nTest:n, :]), initialSet[index:index+nTest-1, :])\n",
    "    \n",
    "    a = [1,2,3]\n",
    "    b= view(a, 1:2)\n",
    "    c= vcat(view(a, 1:1), view(a, 3:3))\n",
    "end\n",
    "function getEstimation(distType::Array{UnionAll, 2}, columns::Array{Symbol, 1}, set::TestSet)\n",
    "    # Maximum de la vraisemblance pour estimer\n",
    "    nVariablesExpl = length(columns)\n",
    "    dist = Array{Distribution}(undef, nVariablesExpl, k)\n",
    "    for varExpl=1:nVariablesExpl\n",
    "        for mode=1:k\n",
    "        trainT = set.train[set.train[:D_Mode] .== mode, :];\n",
    "        # fit_mle retourne les estimateurs avec le maximum de la vraisemblance.\n",
    "        dist[varExpl, mode] = fit_mle(distType[varExpl, mode], trainT[Symbol(columns[varExpl])])\n",
    "        end\n",
    "    end\n",
    "    amount = length(set.test[:IPERE])\n",
    "    res= Array{Int64}(undef, amount)\n",
    "    for i=1:amount\n",
    "       res[i] = determineMode(i, dist, columns, set.test) \n",
    "    end\n",
    "    return res\n",
    "end"
   ]
  },
  {
   "cell_type": "markdown",
   "metadata": {},
   "source": [
    "### Fonction \"publique\""
   ]
  },
  {
   "cell_type": "code",
   "execution_count": null,
   "metadata": {},
   "outputs": [],
   "source": [
    "function getPercentRight(distType::Array{UnionAll, 2}, columns::Array{Symbol, 1})\n",
    "    set = getTestSet(train)\n",
    "    estimation = getEstimation(distType, columns, set)\n",
    "    validate(estimation, set.test[:D_Mode])\n",
    "end\n",
    "function generateSubmission(distType::Array{UnionAll, 2}, columns::Array{Symbol, 1})\n",
    "    test = CSV.read(\"ODtest.csv\")\n",
    "    submission = test[:, [:IPERE]]\n",
    "    set = TestSet(train, test)\n",
    "    estimation = getEstimation(distType, columns, set)\n",
    "    submission = DataFrame(IPERE = test[:IPERE],D_MODE = estimation)\n",
    "    CSV.write(\"Submission.csv\", submission)\n",
    "end"
   ]
  },
  {
   "cell_type": "markdown",
   "metadata": {},
   "source": [
    "### Exemple\n",
    "\n",
    "Ici, on estime que la variable P_PERMIS est distribuée selon une loi Catégorielle.\n",
    "On pense la même chose pour la variable P_STATUT.\n",
    "Pour la variable M_dist_centre, on pense plutôt qu'elle suit une loi Gamma.\n",
    "\n",
    "Pour les trois variables, nous avons donné la même distribution peut-importe la valeur de Y.\n",
    "Cependant, si nous pensions que lorsque Y = 3, la variable M_dist_centre est distribuée selon une loi normale, nous aurions pu écrire:\n",
    "Gamma Gamma Normal Gamma Gamma\n",
    "\n",
    "Les fonctions ci-dessus séparent l'échantillon train en deux portions (4/5 train, 1/5 test). Cette séparation change à toutes les fois où l'algorithme est roulé.\n",
    "Le résultat de l'appel à getPercentRight est séparé selon le mode de transport."
   ]
  },
  {
   "cell_type": "code",
   "execution_count": null,
   "metadata": {},
   "outputs": [],
   "source": [
    "getPercentRight([\n",
    "        [Categorical Categorical Categorical Categorical Categorical];\n",
    "        [Categorical Categorical Categorical Categorical Categorical];\n",
    "        [Gamma Gamma Gamma Gamma Gamma]\n",
    "        ], [\n",
    "        :P_PERMIS,\n",
    "        :P_STATUT,\n",
    "        :M_dist_centre\n",
    "        ])"
   ]
  },
  {
   "cell_type": "code",
   "execution_count": null,
   "metadata": {},
   "outputs": [],
   "source": [
    "generateSubmission([\n",
    "        [Categorical Categorical Categorical Categorical Categorical];\n",
    "        [Categorical Categorical Categorical Categorical Categorical];\n",
    "        [Gamma Gamma Gamma Gamma Gamma]\n",
    "        ], [\n",
    "        :P_PERMIS,\n",
    "        :P_STATUT,\n",
    "        :M_dist_centre\n",
    "        ])"
   ]
  },
  {
   "cell_type": "code",
   "execution_count": null,
   "metadata": {},
   "outputs": [],
   "source": []
  }
 ],
 "metadata": {
  "kernelspec": {
   "display_name": "Julia 1.0.3",
   "language": "julia",
   "name": "julia-1.0"
  },
  "language_info": {
   "file_extension": ".jl",
   "mimetype": "application/julia",
   "name": "julia",
   "version": "1.0.3"
  }
 },
 "nbformat": 4,
 "nbformat_minor": 2
}
