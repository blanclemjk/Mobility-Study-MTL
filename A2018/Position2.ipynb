{
 "cells": [
  {
   "cell_type": "markdown",
   "metadata": {
    "colab_type": "text",
    "id": "OoxoNMjkkmTL"
   },
   "source": [
    "# MTH3302 - Méth. prob. et statist. pour l’intel. artif.\n",
    "# Projet final - Equipe 2\n"
   ]
  },
  {
   "cell_type": "markdown",
   "metadata": {},
   "source": [
    "### Membres de l'équipe\n",
    "    - Amine BELLAHSEN \n",
    "    - Sanae LOTFI \n",
    "    - Paul MICHELON\n",
    "    - Théo Moins "
   ]
  },
  {
   "cell_type": "markdown",
   "metadata": {
    "colab_type": "text",
    "id": "x-n3P_vDkmTM"
   },
   "source": [
    "# Contexte et Introduction"
   ]
  },
  {
   "cell_type": "markdown",
   "metadata": {
    "colab_type": "text",
    "id": "3hsdt8uCv_Ab"
   },
   "source": [
    "Nous présentons dans ce document notre méthode de prédicition des ventes globales et nord-américaines pour le jeu de données fourni par le concours Kaggle *FINAL MTH3302 - A2018*."
   ]
  },
  {
   "cell_type": "markdown",
   "metadata": {
    "colab_type": "text",
    "id": "ju7ezg_2wjOg"
   },
   "source": [
    "Notre approche s'est construite autour des axes suivants :\n",
    "* **Analyse des données :** cette première partie propose un aperçu global du dataset, afin de percevoir ses caractéristiques principales et d'avoir une première idée des méthodes adaptées au problème demandé.\n",
    "* **Traitement des données :** on traite ici des opérations que nous effectuons sur le dataset avant de mettre en oeuvre un modèle prédictif. Il s'agit ici de traiter les valeurs manquantes, d'encoder les variables catégoriques et de normaliser le dataset.\n",
    "* **Régression linéaire :** on effectue des régressions linéaires sur l'ensemble de données traitées dans la précédente partie. On calcule également les indicateurs principaux de nos régressions pour savoir si elles sont significatives. On réalise ensuite une sélection de modèles en utilisant plusieurs méthodes.\n",
    "* **Composantes principales et régression :** on présente ici une approche par régression linéaire utilisant une analyse en composantes principales pour s'affranchir de la multicolinéarité et pour ne conserver que les variables les plus pertinentes.\n",
    "* **Analyse de la régression par ACP :** on réalise une analyse des résultats obtenus avec la régression par composantes principales. Nous commençons par tracer la courbe d'ajustement de notre modèle dans l'objectif de détecter un régime de sur ou sous apprentissage. Nous déterminons ensuite les éventuels éléments suspects de notre ensemble de données. Nous élaborons en fin de partie une ouverture sur une amélioration de notre modèle pour mieux prendre en compte les valeurs extrêmes.\n",
    "* **Régression linéaire par classe d'une variable qualitative :** cette partie traite de la méthode utilisant différentes régressions linéaires par variables qualitatives (Genre, Publisher etc...).\n",
    "* **Utilisation de la corrélation entre NA Sales et Global Sales :** nous explorons dans cette partie une méthode utilisant NA Sales pour prédire Global Sales.\n",
    "* **Evolution du résultat et Conclusions :** nous faisons un récapitulatif des résultats obtenus tout au long des semaines du concours, tout en portant un regard critique sur nos réalisation."
   ]
  },
  {
   "cell_type": "markdown",
   "metadata": {
    "colab_type": "text",
    "id": "VY_37jo4kmTN"
   },
   "source": [
    "# I. Analyse et découverte des données: "
   ]
  },
  {
   "cell_type": "markdown",
   "metadata": {
    "colab_type": "text",
    "id": "fAzJO2XmkmTO"
   },
   "source": [
    "Nous commençons par faire appel à toutes les bibliothèques qui seront nécessaires pour la première partie de notre travail."
   ]
  },
  {
   "cell_type": "code",
   "execution_count": 1,
   "metadata": {
    "colab": {},
    "colab_type": "code",
    "id": "CqSRtNoAkmTP"
   },
   "outputs": [],
   "source": [
    "import matplotlib.pyplot as plt\n",
    "import numpy as np\n",
    "from sklearn import linear_model, metrics\n",
    "from sklearn.metrics import mean_squared_error\n",
    "from pandas.plotting import scatter_matrix\n",
    "import pandas as pd\n",
    "import seaborn as sns"
   ]
  },
  {
   "cell_type": "markdown",
   "metadata": {
    "colab_type": "text",
    "id": "uRXN2I1BkmTS"
   },
   "source": [
    "On charge les fichiers de données:"
   ]
  },
  {
   "cell_type": "code",
   "execution_count": 2,
   "metadata": {
    "colab": {},
    "colab_type": "code",
    "id": "yKXudzegkmTS"
   },
   "outputs": [],
   "source": [
    "X_train = pd.read_csv(\"train3.csv\")\n",
    "X_test = pd.read_csv(\"test3.csv\")"
   ]
  },
  {
   "cell_type": "markdown",
   "metadata": {
    "colab_type": "text",
    "id": "w1CqGI8jkmTV"
   },
   "source": [
    "Examinons la forme des données desquelles on dispose:"
   ]
  },
  {
   "cell_type": "code",
   "execution_count": 3,
   "metadata": {
    "colab": {},
    "colab_type": "code",
    "id": "yAxTY0_ykmTW",
    "outputId": "02f5b7c7-1261-4774-f1ec-7a49d3fd2f67"
   },
   "outputs": [
    {
     "data": {
      "text/html": [
       "<div>\n",
       "<style scoped>\n",
       "    .dataframe tbody tr th:only-of-type {\n",
       "        vertical-align: middle;\n",
       "    }\n",
       "\n",
       "    .dataframe tbody tr th {\n",
       "        vertical-align: top;\n",
       "    }\n",
       "\n",
       "    .dataframe thead th {\n",
       "        text-align: right;\n",
       "    }\n",
       "</style>\n",
       "<table border=\"1\" class=\"dataframe\">\n",
       "  <thead>\n",
       "    <tr style=\"text-align: right;\">\n",
       "      <th></th>\n",
       "      <th>ID</th>\n",
       "      <th>Name</th>\n",
       "      <th>Platform</th>\n",
       "      <th>Year_of_Release</th>\n",
       "      <th>Genre</th>\n",
       "      <th>Publisher</th>\n",
       "      <th>JP_Sales</th>\n",
       "      <th>Other_Sales</th>\n",
       "      <th>Critic_Score</th>\n",
       "      <th>Critic_Count</th>\n",
       "      <th>User_Score</th>\n",
       "      <th>User_Count</th>\n",
       "      <th>Developer</th>\n",
       "      <th>Rating</th>\n",
       "      <th>NA_Sales</th>\n",
       "      <th>Global_Sales</th>\n",
       "    </tr>\n",
       "  </thead>\n",
       "  <tbody>\n",
       "    <tr>\n",
       "      <th>0</th>\n",
       "      <td>1</td>\n",
       "      <td>Zoo Keeper</td>\n",
       "      <td>DS</td>\n",
       "      <td>2004.0</td>\n",
       "      <td>Puzzle</td>\n",
       "      <td>Ignition Entertainment</td>\n",
       "      <td>0.050524</td>\n",
       "      <td>0.010024</td>\n",
       "      <td>74.0</td>\n",
       "      <td>40.0</td>\n",
       "      <td>7.5</td>\n",
       "      <td>13.0</td>\n",
       "      <td>Buddiez- Inc.</td>\n",
       "      <td>E</td>\n",
       "      <td>0.101432</td>\n",
       "      <td>0.172605</td>\n",
       "    </tr>\n",
       "    <tr>\n",
       "      <th>1</th>\n",
       "      <td>2</td>\n",
       "      <td>Do-Konjou Shougakussei: Bon Bita - Hadaka no C...</td>\n",
       "      <td>DS</td>\n",
       "      <td>2010.0</td>\n",
       "      <td>Action</td>\n",
       "      <td>Namco Bandai Games</td>\n",
       "      <td>0.039211</td>\n",
       "      <td>0.001791</td>\n",
       "      <td>NaN</td>\n",
       "      <td>NaN</td>\n",
       "      <td>NaN</td>\n",
       "      <td>NaN</td>\n",
       "      <td>NaN</td>\n",
       "      <td>NaN</td>\n",
       "      <td>0.000440</td>\n",
       "      <td>0.043251</td>\n",
       "    </tr>\n",
       "    <tr>\n",
       "      <th>2</th>\n",
       "      <td>3</td>\n",
       "      <td>Power Play Pool</td>\n",
       "      <td>DS</td>\n",
       "      <td>2006.0</td>\n",
       "      <td>Sports</td>\n",
       "      <td>System 3 Arcade Software</td>\n",
       "      <td>0.000374</td>\n",
       "      <td>0.001797</td>\n",
       "      <td>NaN</td>\n",
       "      <td>NaN</td>\n",
       "      <td>NaN</td>\n",
       "      <td>NaN</td>\n",
       "      <td>System 3</td>\n",
       "      <td>E</td>\n",
       "      <td>0.030829</td>\n",
       "      <td>0.041271</td>\n",
       "    </tr>\n",
       "    <tr>\n",
       "      <th>3</th>\n",
       "      <td>4</td>\n",
       "      <td>SpongeBob SquarePants: Revenge of the Flying D...</td>\n",
       "      <td>PS2</td>\n",
       "      <td>2002.0</td>\n",
       "      <td>Platform</td>\n",
       "      <td>THQ</td>\n",
       "      <td>0.001382</td>\n",
       "      <td>0.140010</td>\n",
       "      <td>NaN</td>\n",
       "      <td>NaN</td>\n",
       "      <td>6.6</td>\n",
       "      <td>41.0</td>\n",
       "      <td>Big Sky Software</td>\n",
       "      <td>E</td>\n",
       "      <td>0.528330</td>\n",
       "      <td>1.080821</td>\n",
       "    </tr>\n",
       "    <tr>\n",
       "      <th>4</th>\n",
       "      <td>5</td>\n",
       "      <td>Deception IV: Blood Ties</td>\n",
       "      <td>PSV</td>\n",
       "      <td>2014.0</td>\n",
       "      <td>Action</td>\n",
       "      <td>Tecmo Koei</td>\n",
       "      <td>0.069422</td>\n",
       "      <td>0.009535</td>\n",
       "      <td>67.0</td>\n",
       "      <td>19.0</td>\n",
       "      <td>7.5</td>\n",
       "      <td>61.0</td>\n",
       "      <td>Koei Tecmo Games</td>\n",
       "      <td>M</td>\n",
       "      <td>0.020629</td>\n",
       "      <td>0.131074</td>\n",
       "    </tr>\n",
       "  </tbody>\n",
       "</table>\n",
       "</div>"
      ],
      "text/plain": [
       "   ID                                               Name Platform  \\\n",
       "0   1                                         Zoo Keeper       DS   \n",
       "1   2  Do-Konjou Shougakussei: Bon Bita - Hadaka no C...       DS   \n",
       "2   3                                    Power Play Pool       DS   \n",
       "3   4  SpongeBob SquarePants: Revenge of the Flying D...      PS2   \n",
       "4   5                           Deception IV: Blood Ties      PSV   \n",
       "\n",
       "   Year_of_Release     Genre                 Publisher  JP_Sales  Other_Sales  \\\n",
       "0           2004.0    Puzzle    Ignition Entertainment  0.050524     0.010024   \n",
       "1           2010.0    Action        Namco Bandai Games  0.039211     0.001791   \n",
       "2           2006.0    Sports  System 3 Arcade Software  0.000374     0.001797   \n",
       "3           2002.0  Platform                       THQ  0.001382     0.140010   \n",
       "4           2014.0    Action                Tecmo Koei  0.069422     0.009535   \n",
       "\n",
       "   Critic_Score  Critic_Count  User_Score  User_Count         Developer  \\\n",
       "0          74.0          40.0         7.5        13.0     Buddiez- Inc.   \n",
       "1           NaN           NaN         NaN         NaN               NaN   \n",
       "2           NaN           NaN         NaN         NaN          System 3   \n",
       "3           NaN           NaN         6.6        41.0  Big Sky Software   \n",
       "4          67.0          19.0         7.5        61.0  Koei Tecmo Games   \n",
       "\n",
       "  Rating  NA_Sales  Global_Sales  \n",
       "0      E  0.101432      0.172605  \n",
       "1    NaN  0.000440      0.043251  \n",
       "2      E  0.030829      0.041271  \n",
       "3      E  0.528330      1.080821  \n",
       "4      M  0.020629      0.131074  "
      ]
     },
     "execution_count": 3,
     "metadata": {},
     "output_type": "execute_result"
    }
   ],
   "source": [
    "X_train.head()"
   ]
  },
  {
   "cell_type": "markdown",
   "metadata": {
    "colab_type": "text",
    "id": "IvED0JWHkmTb"
   },
   "source": [
    "Décrivons les colonnes de notre fichier de données en faisons la différence entre les variables à prédire et les variables explicatives (en complétant cette description par les informations disponibles sur Kaggle):\n",
    "\n",
    "<b> Variables à prédire:</b>\n",
    "\n",
    "- NA_sales [Variable quantitative] : Nombre de ventes du jeu en Amérique du Nord en millions d’unités.  \n",
    "- Global_Sales [Variable quantitative] : Nombre de ventes total du jeu en millions d’unités.  \n",
    "\n",
    "\n",
    "<b> Variables explicatives: </b>\n",
    "\n",
    "- Name [Variable qualitative]: Nom du jeu.\n",
    "- Platform [Variable qualitative] : Console sur laquelle le jeu fonctionne.  \n",
    "- Year of release [Variable quantitative]: Année de sortie du jeu.  \n",
    "- Genre [Variable qualitative] : le genre du jeu (Action, puzzle ...etc).  \n",
    "- Publisher [Variable qualitative] : Entreprise d'édition.  \n",
    "- JP_sales [Variable quantitative] : Nombre de ventes du jeu au Japon en millions d’unités.  \n",
    "- Other sales [Variable quantitative] : Nombre de ventes du jeu ailleurs dans le monde : Afrique, Asie sans le Japon, Europe sans l’Union Européenne et Amérique du Sud en millions d’unités.  \n",
    "- Critic_score [Variable quantitative] : Score donné par Metacritic.  \n",
    "- Critic_count [Variable quantitative] : Nombre de critiques prises en compte pour estimer le Critic_score.  \n",
    "- User_Score [Variable quantitative]: Score donné par les usagers de Metacritic.  \n",
    "- User_Count [Variable quantitative]: Nombre d’usagers considérés pour estimer le User_Score.  \n",
    "- Developer [Variable qualitative]: Compagnie créatrice du jeu.  \n",
    "- Rating [Variable qualitative] : Classement ESRB (Entertainment Software Rating Board) ie à qui s’addresse le jeu (tout public, majeur, adolescents, etc).  "
   ]
  },
  {
   "cell_type": "code",
   "execution_count": 4,
   "metadata": {
    "colab": {},
    "colab_type": "code",
    "id": "iVeKys2QkmTb",
    "outputId": "ec57678b-b3d2-4f19-efea-67f133b94474"
   },
   "outputs": [
    {
     "data": {
      "image/png": "[encoded data removed]",
      "text/plain": [
       "<Figure size 1080x1080 with 100 Axes>"
      ]
     },
     "metadata": {
      "needs_background": "light"
     },
     "output_type": "display_data"
    }
   ],
   "source": [
    "scatter_matrix(X_train, figsize = (15, 15))\n",
    "plt.show()"
   ]
  },
  {
   "cell_type": "markdown",
   "metadata": {
    "colab_type": "text",
    "id": "buddIz5UkmTg"
   },
   "source": [
    "Nous remarquons d'après ce plot que la relation entre les 2 variables à prédire, c'est-à-dire \"NA Sales\" et \"Global Sales\" semble être linéaire. Par ailleurs, nous faisons la même remarque concernant la relation entre \"critic score\" et \"user score\".\n",
    "\n",
    "Pour analyser plus en détails et d'une façon pertinente ces correlations, affichons la matrice de corrélation entre nos variables (code inspiré d'une réponse sur stackoverflow(ref.1), voir références):"
   ]
  },
  {
   "cell_type": "code",
   "execution_count": 5,
   "metadata": {
    "colab": {},
    "colab_type": "code",
    "id": "gjrCXgOdkmTh",
    "outputId": "00baad79-b4a9-4363-d77f-3044aaa7d225"
   },
   "outputs": [
    {
     "data": {
      "text/html": [
       "<style  type=\"text/css\" >\n",
       "    #T_c9217432_ff57_11e8_b9c0_55e11e626db6row0_col0 {\n",
       "            background-color:  #4479bb;\n",
       "            max-width:  80px;\n",
       "            font-size:  10pt;\n",
       "        }    #T_c9217432_ff57_11e8_b9c0_55e11e626db6row0_col1 {\n",
       "            background-color:  #d73c5b;\n",
       "            max-width:  80px;\n",
       "            font-size:  10pt;\n",
       "        }    #T_c9217432_ff57_11e8_b9c0_55e11e626db6row0_col2 {\n",
       "            background-color:  #d8415f;\n",
       "            max-width:  80px;\n",
       "            font-size:  10pt;\n",
       "        }    #T_c9217432_ff57_11e8_b9c0_55e11e626db6row0_col3 {\n",
       "            background-color:  #d73c5b;\n",
       "            max-width:  80px;\n",
       "            font-size:  10pt;\n",
       "        }    #T_c9217432_ff57_11e8_b9c0_55e11e626db6row0_col4 {\n",
       "            background-color:  #d73d5c;\n",
       "            max-width:  80px;\n",
       "            font-size:  10pt;\n",
       "        }    #T_c9217432_ff57_11e8_b9c0_55e11e626db6row0_col5 {\n",
       "            background-color:  #d94261;\n",
       "            max-width:  80px;\n",
       "            font-size:  10pt;\n",
       "        }    #T_c9217432_ff57_11e8_b9c0_55e11e626db6row0_col6 {\n",
       "            background-color:  #d73c5b;\n",
       "            max-width:  80px;\n",
       "            font-size:  10pt;\n",
       "        }    #T_c9217432_ff57_11e8_b9c0_55e11e626db6row0_col7 {\n",
       "            background-color:  #d8415f;\n",
       "            max-width:  80px;\n",
       "            font-size:  10pt;\n",
       "        }    #T_c9217432_ff57_11e8_b9c0_55e11e626db6row0_col8 {\n",
       "            background-color:  #d94261;\n",
       "            max-width:  80px;\n",
       "            font-size:  10pt;\n",
       "        }    #T_c9217432_ff57_11e8_b9c0_55e11e626db6row0_col9 {\n",
       "            background-color:  #d8415f;\n",
       "            max-width:  80px;\n",
       "            font-size:  10pt;\n",
       "        }    #T_c9217432_ff57_11e8_b9c0_55e11e626db6row1_col0 {\n",
       "            background-color:  #e7879b;\n",
       "            max-width:  80px;\n",
       "            font-size:  10pt;\n",
       "        }    #T_c9217432_ff57_11e8_b9c0_55e11e626db6row1_col1 {\n",
       "            background-color:  #4479bb;\n",
       "            max-width:  80px;\n",
       "            font-size:  10pt;\n",
       "        }    #T_c9217432_ff57_11e8_b9c0_55e11e626db6row1_col2 {\n",
       "            background-color:  #dc5570;\n",
       "            max-width:  80px;\n",
       "            font-size:  10pt;\n",
       "        }    #T_c9217432_ff57_11e8_b9c0_55e11e626db6row1_col3 {\n",
       "            background-color:  #e991a3;\n",
       "            max-width:  80px;\n",
       "            font-size:  10pt;\n",
       "        }    #T_c9217432_ff57_11e8_b9c0_55e11e626db6row1_col4 {\n",
       "            background-color:  #e78a9d;\n",
       "            max-width:  80px;\n",
       "            font-size:  10pt;\n",
       "        }    #T_c9217432_ff57_11e8_b9c0_55e11e626db6row1_col5 {\n",
       "            background-color:  #f4c9d2;\n",
       "            max-width:  80px;\n",
       "            font-size:  10pt;\n",
       "        }    #T_c9217432_ff57_11e8_b9c0_55e11e626db6row1_col6 {\n",
       "            background-color:  #d73c5b;\n",
       "            max-width:  80px;\n",
       "            font-size:  10pt;\n",
       "        }    #T_c9217432_ff57_11e8_b9c0_55e11e626db6row1_col7 {\n",
       "            background-color:  #f1bbc6;\n",
       "            max-width:  80px;\n",
       "            font-size:  10pt;\n",
       "        }    #T_c9217432_ff57_11e8_b9c0_55e11e626db6row1_col8 {\n",
       "            background-color:  #e16c84;\n",
       "            max-width:  80px;\n",
       "            font-size:  10pt;\n",
       "        }    #T_c9217432_ff57_11e8_b9c0_55e11e626db6row1_col9 {\n",
       "            background-color:  #e27087;\n",
       "            max-width:  80px;\n",
       "            font-size:  10pt;\n",
       "        }    #T_c9217432_ff57_11e8_b9c0_55e11e626db6row2_col0 {\n",
       "            background-color:  #e3768c;\n",
       "            max-width:  80px;\n",
       "            font-size:  10pt;\n",
       "        }    #T_c9217432_ff57_11e8_b9c0_55e11e626db6row2_col1 {\n",
       "            background-color:  #d73c5b;\n",
       "            max-width:  80px;\n",
       "            font-size:  10pt;\n",
       "        }    #T_c9217432_ff57_11e8_b9c0_55e11e626db6row2_col2 {\n",
       "            background-color:  #4479bb;\n",
       "            max-width:  80px;\n",
       "            font-size:  10pt;\n",
       "        }    #T_c9217432_ff57_11e8_b9c0_55e11e626db6row2_col3 {\n",
       "            background-color:  #f3c5ce;\n",
       "            max-width:  80px;\n",
       "            font-size:  10pt;\n",
       "        }    #T_c9217432_ff57_11e8_b9c0_55e11e626db6row2_col4 {\n",
       "            background-color:  #eca1b0;\n",
       "            max-width:  80px;\n",
       "            font-size:  10pt;\n",
       "        }    #T_c9217432_ff57_11e8_b9c0_55e11e626db6row2_col5 {\n",
       "            background-color:  #eeabb8;\n",
       "            max-width:  80px;\n",
       "            font-size:  10pt;\n",
       "        }    #T_c9217432_ff57_11e8_b9c0_55e11e626db6row2_col6 {\n",
       "            background-color:  #ea9aaa;\n",
       "            max-width:  80px;\n",
       "            font-size:  10pt;\n",
       "        }    #T_c9217432_ff57_11e8_b9c0_55e11e626db6row2_col7 {\n",
       "            background-color:  #e7899c;\n",
       "            max-width:  80px;\n",
       "            font-size:  10pt;\n",
       "        }    #T_c9217432_ff57_11e8_b9c0_55e11e626db6row2_col8 {\n",
       "            background-color:  #f2f2f2;\n",
       "            max-width:  80px;\n",
       "            font-size:  10pt;\n",
       "        }    #T_c9217432_ff57_11e8_b9c0_55e11e626db6row2_col9 {\n",
       "            background-color:  #bfd1e8;\n",
       "            max-width:  80px;\n",
       "            font-size:  10pt;\n",
       "        }    #T_c9217432_ff57_11e8_b9c0_55e11e626db6row3_col0 {\n",
       "            background-color:  #d73c5b;\n",
       "            max-width:  80px;\n",
       "            font-size:  10pt;\n",
       "        }    #T_c9217432_ff57_11e8_b9c0_55e11e626db6row3_col1 {\n",
       "            background-color:  #d94764;\n",
       "            max-width:  80px;\n",
       "            font-size:  10pt;\n",
       "        }    #T_c9217432_ff57_11e8_b9c0_55e11e626db6row3_col2 {\n",
       "            background-color:  #eb9ead;\n",
       "            max-width:  80px;\n",
       "            font-size:  10pt;\n",
       "        }    #T_c9217432_ff57_11e8_b9c0_55e11e626db6row3_col3 {\n",
       "            background-color:  #4479bb;\n",
       "            max-width:  80px;\n",
       "            font-size:  10pt;\n",
       "        }    #T_c9217432_ff57_11e8_b9c0_55e11e626db6row3_col4 {\n",
       "            background-color:  #e58094;\n",
       "            max-width:  80px;\n",
       "            font-size:  10pt;\n",
       "        }    #T_c9217432_ff57_11e8_b9c0_55e11e626db6row3_col5 {\n",
       "            background-color:  #e994a5;\n",
       "            max-width:  80px;\n",
       "            font-size:  10pt;\n",
       "        }    #T_c9217432_ff57_11e8_b9c0_55e11e626db6row3_col6 {\n",
       "            background-color:  #db4f6b;\n",
       "            max-width:  80px;\n",
       "            font-size:  10pt;\n",
       "        }    #T_c9217432_ff57_11e8_b9c0_55e11e626db6row3_col7 {\n",
       "            background-color:  #e890a1;\n",
       "            max-width:  80px;\n",
       "            font-size:  10pt;\n",
       "        }    #T_c9217432_ff57_11e8_b9c0_55e11e626db6row3_col8 {\n",
       "            background-color:  #c9d8eb;\n",
       "            max-width:  80px;\n",
       "            font-size:  10pt;\n",
       "        }    #T_c9217432_ff57_11e8_b9c0_55e11e626db6row3_col9 {\n",
       "            background-color:  #9fbadc;\n",
       "            max-width:  80px;\n",
       "            font-size:  10pt;\n",
       "        }    #T_c9217432_ff57_11e8_b9c0_55e11e626db6row4_col0 {\n",
       "            background-color:  #d73c5b;\n",
       "            max-width:  80px;\n",
       "            font-size:  10pt;\n",
       "        }    #T_c9217432_ff57_11e8_b9c0_55e11e626db6row4_col1 {\n",
       "            background-color:  #d73c5b;\n",
       "            max-width:  80px;\n",
       "            font-size:  10pt;\n",
       "        }    #T_c9217432_ff57_11e8_b9c0_55e11e626db6row4_col2 {\n",
       "            background-color:  #e27288;\n",
       "            max-width:  80px;\n",
       "            font-size:  10pt;\n",
       "        }    #T_c9217432_ff57_11e8_b9c0_55e11e626db6row4_col3 {\n",
       "            background-color:  #e58094;\n",
       "            max-width:  80px;\n",
       "            font-size:  10pt;\n",
       "        }    #T_c9217432_ff57_11e8_b9c0_55e11e626db6row4_col4 {\n",
       "            background-color:  #4479bb;\n",
       "            max-width:  80px;\n",
       "            font-size:  10pt;\n",
       "        }    #T_c9217432_ff57_11e8_b9c0_55e11e626db6row4_col5 {\n",
       "            background-color:  #f7d6dd;\n",
       "            max-width:  80px;\n",
       "            font-size:  10pt;\n",
       "        }    #T_c9217432_ff57_11e8_b9c0_55e11e626db6row4_col6 {\n",
       "            background-color:  #d8e3f1;\n",
       "            max-width:  80px;\n",
       "            font-size:  10pt;\n",
       "        }    #T_c9217432_ff57_11e8_b9c0_55e11e626db6row4_col7 {\n",
       "            background-color:  #eb9dac;\n",
       "            max-width:  80px;\n",
       "            font-size:  10pt;\n",
       "        }    #T_c9217432_ff57_11e8_b9c0_55e11e626db6row4_col8 {\n",
       "            background-color:  #e890a1;\n",
       "            max-width:  80px;\n",
       "            font-size:  10pt;\n",
       "        }    #T_c9217432_ff57_11e8_b9c0_55e11e626db6row4_col9 {\n",
       "            background-color:  #e991a3;\n",
       "            max-width:  80px;\n",
       "            font-size:  10pt;\n",
       "        }    #T_c9217432_ff57_11e8_b9c0_55e11e626db6row5_col0 {\n",
       "            background-color:  #d73c5b;\n",
       "            max-width:  80px;\n",
       "            font-size:  10pt;\n",
       "        }    #T_c9217432_ff57_11e8_b9c0_55e11e626db6row5_col1 {\n",
       "            background-color:  #e7899c;\n",
       "            max-width:  80px;\n",
       "            font-size:  10pt;\n",
       "        }    #T_c9217432_ff57_11e8_b9c0_55e11e626db6row5_col2 {\n",
       "            background-color:  #e4798e;\n",
       "            max-width:  80px;\n",
       "            font-size:  10pt;\n",
       "        }    #T_c9217432_ff57_11e8_b9c0_55e11e626db6row5_col3 {\n",
       "            background-color:  #e88ea0;\n",
       "            max-width:  80px;\n",
       "            font-size:  10pt;\n",
       "        }    #T_c9217432_ff57_11e8_b9c0_55e11e626db6row5_col4 {\n",
       "            background-color:  #f6d3da;\n",
       "            max-width:  80px;\n",
       "            font-size:  10pt;\n",
       "        }    #T_c9217432_ff57_11e8_b9c0_55e11e626db6row5_col5 {\n",
       "            background-color:  #4479bb;\n",
       "            max-width:  80px;\n",
       "            font-size:  10pt;\n",
       "        }    #T_c9217432_ff57_11e8_b9c0_55e11e626db6row5_col6 {\n",
       "            background-color:  #e57d92;\n",
       "            max-width:  80px;\n",
       "            font-size:  10pt;\n",
       "        }    #T_c9217432_ff57_11e8_b9c0_55e11e626db6row5_col7 {\n",
       "            background-color:  #f1bbc6;\n",
       "            max-width:  80px;\n",
       "            font-size:  10pt;\n",
       "        }    #T_c9217432_ff57_11e8_b9c0_55e11e626db6row5_col8 {\n",
       "            background-color:  #eb9ead;\n",
       "            max-width:  80px;\n",
       "            font-size:  10pt;\n",
       "        }    #T_c9217432_ff57_11e8_b9c0_55e11e626db6row5_col9 {\n",
       "            background-color:  #eca3b1;\n",
       "            max-width:  80px;\n",
       "            font-size:  10pt;\n",
       "        }    #T_c9217432_ff57_11e8_b9c0_55e11e626db6row6_col0 {\n",
       "            background-color:  #e7879b;\n",
       "            max-width:  80px;\n",
       "            font-size:  10pt;\n",
       "        }    #T_c9217432_ff57_11e8_b9c0_55e11e626db6row6_col1 {\n",
       "            background-color:  #d73c5b;\n",
       "            max-width:  80px;\n",
       "            font-size:  10pt;\n",
       "        }    #T_c9217432_ff57_11e8_b9c0_55e11e626db6row6_col2 {\n",
       "            background-color:  #eeaebb;\n",
       "            max-width:  80px;\n",
       "            font-size:  10pt;\n",
       "        }    #T_c9217432_ff57_11e8_b9c0_55e11e626db6row6_col3 {\n",
       "            background-color:  #ea99a9;\n",
       "            max-width:  80px;\n",
       "            font-size:  10pt;\n",
       "        }    #T_c9217432_ff57_11e8_b9c0_55e11e626db6row6_col4 {\n",
       "            background-color:  #b8cce5;\n",
       "            max-width:  80px;\n",
       "            font-size:  10pt;\n",
       "        }    #T_c9217432_ff57_11e8_b9c0_55e11e626db6row6_col5 {\n",
       "            background-color:  #f2c1cb;\n",
       "            max-width:  80px;\n",
       "            font-size:  10pt;\n",
       "        }    #T_c9217432_ff57_11e8_b9c0_55e11e626db6row6_col6 {\n",
       "            background-color:  #4479bb;\n",
       "            max-width:  80px;\n",
       "            font-size:  10pt;\n",
       "        }    #T_c9217432_ff57_11e8_b9c0_55e11e626db6row6_col7 {\n",
       "            background-color:  #e993a4;\n",
       "            max-width:  80px;\n",
       "            font-size:  10pt;\n",
       "        }    #T_c9217432_ff57_11e8_b9c0_55e11e626db6row6_col8 {\n",
       "            background-color:  #eca1b0;\n",
       "            max-width:  80px;\n",
       "            font-size:  10pt;\n",
       "        }    #T_c9217432_ff57_11e8_b9c0_55e11e626db6row6_col9 {\n",
       "            background-color:  #eca3b1;\n",
       "            max-width:  80px;\n",
       "            font-size:  10pt;\n",
       "        }    #T_c9217432_ff57_11e8_b9c0_55e11e626db6row7_col0 {\n",
       "            background-color:  #d73c5b;\n",
       "            max-width:  80px;\n",
       "            font-size:  10pt;\n",
       "        }    #T_c9217432_ff57_11e8_b9c0_55e11e626db6row7_col1 {\n",
       "            background-color:  #e3768c;\n",
       "            max-width:  80px;\n",
       "            font-size:  10pt;\n",
       "        }    #T_c9217432_ff57_11e8_b9c0_55e11e626db6row7_col2 {\n",
       "            background-color:  #dc516d;\n",
       "            max-width:  80px;\n",
       "            font-size:  10pt;\n",
       "        }    #T_c9217432_ff57_11e8_b9c0_55e11e626db6row7_col3 {\n",
       "            background-color:  #e78c9e;\n",
       "            max-width:  80px;\n",
       "            font-size:  10pt;\n",
       "        }    #T_c9217432_ff57_11e8_b9c0_55e11e626db6row7_col4 {\n",
       "            background-color:  #ea99a9;\n",
       "            max-width:  80px;\n",
       "            font-size:  10pt;\n",
       "        }    #T_c9217432_ff57_11e8_b9c0_55e11e626db6row7_col5 {\n",
       "            background-color:  #f1bcc7;\n",
       "            max-width:  80px;\n",
       "            font-size:  10pt;\n",
       "        }    #T_c9217432_ff57_11e8_b9c0_55e11e626db6row7_col6 {\n",
       "            background-color:  #d94462;\n",
       "            max-width:  80px;\n",
       "            font-size:  10pt;\n",
       "        }    #T_c9217432_ff57_11e8_b9c0_55e11e626db6row7_col7 {\n",
       "            background-color:  #4479bb;\n",
       "            max-width:  80px;\n",
       "            font-size:  10pt;\n",
       "        }    #T_c9217432_ff57_11e8_b9c0_55e11e626db6row7_col8 {\n",
       "            background-color:  #e7899c;\n",
       "            max-width:  80px;\n",
       "            font-size:  10pt;\n",
       "        }    #T_c9217432_ff57_11e8_b9c0_55e11e626db6row7_col9 {\n",
       "            background-color:  #e991a3;\n",
       "            max-width:  80px;\n",
       "            font-size:  10pt;\n",
       "        }    #T_c9217432_ff57_11e8_b9c0_55e11e626db6row8_col0 {\n",
       "            background-color:  #df627b;\n",
       "            max-width:  80px;\n",
       "            font-size:  10pt;\n",
       "        }    #T_c9217432_ff57_11e8_b9c0_55e11e626db6row8_col1 {\n",
       "            background-color:  #d73c5b;\n",
       "            max-width:  80px;\n",
       "            font-size:  10pt;\n",
       "        }    #T_c9217432_ff57_11e8_b9c0_55e11e626db6row8_col2 {\n",
       "            background-color:  #f2f2f2;\n",
       "            max-width:  80px;\n",
       "            font-size:  10pt;\n",
       "        }    #T_c9217432_ff57_11e8_b9c0_55e11e626db6row8_col3 {\n",
       "            background-color:  #bdd0e7;\n",
       "            max-width:  80px;\n",
       "            font-size:  10pt;\n",
       "        }    #T_c9217432_ff57_11e8_b9c0_55e11e626db6row8_col4 {\n",
       "            background-color:  #eeaab7;\n",
       "            max-width:  80px;\n",
       "            font-size:  10pt;\n",
       "        }    #T_c9217432_ff57_11e8_b9c0_55e11e626db6row8_col5 {\n",
       "            background-color:  #f1bbc6;\n",
       "            max-width:  80px;\n",
       "            font-size:  10pt;\n",
       "        }    #T_c9217432_ff57_11e8_b9c0_55e11e626db6row8_col6 {\n",
       "            background-color:  #e4798e;\n",
       "            max-width:  80px;\n",
       "            font-size:  10pt;\n",
       "        }    #T_c9217432_ff57_11e8_b9c0_55e11e626db6row8_col7 {\n",
       "            background-color:  #eda7b5;\n",
       "            max-width:  80px;\n",
       "            font-size:  10pt;\n",
       "        }    #T_c9217432_ff57_11e8_b9c0_55e11e626db6row8_col8 {\n",
       "            background-color:  #4479bb;\n",
       "            max-width:  80px;\n",
       "            font-size:  10pt;\n",
       "        }    #T_c9217432_ff57_11e8_b9c0_55e11e626db6row8_col9 {\n",
       "            background-color:  #5686c1;\n",
       "            max-width:  80px;\n",
       "            font-size:  10pt;\n",
       "        }    #T_c9217432_ff57_11e8_b9c0_55e11e626db6row9_col0 {\n",
       "            background-color:  #de5c76;\n",
       "            max-width:  80px;\n",
       "            font-size:  10pt;\n",
       "        }    #T_c9217432_ff57_11e8_b9c0_55e11e626db6row9_col1 {\n",
       "            background-color:  #d73c5b;\n",
       "            max-width:  80px;\n",
       "            font-size:  10pt;\n",
       "        }    #T_c9217432_ff57_11e8_b9c0_55e11e626db6row9_col2 {\n",
       "            background-color:  #cad9ec;\n",
       "            max-width:  80px;\n",
       "            font-size:  10pt;\n",
       "        }    #T_c9217432_ff57_11e8_b9c0_55e11e626db6row9_col3 {\n",
       "            background-color:  #98b5d9;\n",
       "            max-width:  80px;\n",
       "            font-size:  10pt;\n",
       "        }    #T_c9217432_ff57_11e8_b9c0_55e11e626db6row9_col4 {\n",
       "            background-color:  #eda7b5;\n",
       "            max-width:  80px;\n",
       "            font-size:  10pt;\n",
       "        }    #T_c9217432_ff57_11e8_b9c0_55e11e626db6row9_col5 {\n",
       "            background-color:  #f1bbc6;\n",
       "            max-width:  80px;\n",
       "            font-size:  10pt;\n",
       "        }    #T_c9217432_ff57_11e8_b9c0_55e11e626db6row9_col6 {\n",
       "            background-color:  #e3748a;\n",
       "            max-width:  80px;\n",
       "            font-size:  10pt;\n",
       "        }    #T_c9217432_ff57_11e8_b9c0_55e11e626db6row9_col7 {\n",
       "            background-color:  #eeabb8;\n",
       "            max-width:  80px;\n",
       "            font-size:  10pt;\n",
       "        }    #T_c9217432_ff57_11e8_b9c0_55e11e626db6row9_col8 {\n",
       "            background-color:  #5686c1;\n",
       "            max-width:  80px;\n",
       "            font-size:  10pt;\n",
       "        }    #T_c9217432_ff57_11e8_b9c0_55e11e626db6row9_col9 {\n",
       "            background-color:  #4479bb;\n",
       "            max-width:  80px;\n",
       "            font-size:  10pt;\n",
       "        }</style>  \n",
       "<table id=\"T_c9217432_ff57_11e8_b9c0_55e11e626db6\" ><caption>Matrice de Corrélation</caption> \n",
       "<thead>    <tr> \n",
       "        <th class=\"blank level0\" ></th> \n",
       "        <th class=\"col_heading level0 col0\" >ID</th> \n",
       "        <th class=\"col_heading level0 col1\" >Year_of_Release</th> \n",
       "        <th class=\"col_heading level0 col2\" >JP_Sales</th> \n",
       "        <th class=\"col_heading level0 col3\" >Other_Sales</th> \n",
       "        <th class=\"col_heading level0 col4\" >Critic_Score</th> \n",
       "        <th class=\"col_heading level0 col5\" >Critic_Count</th> \n",
       "        <th class=\"col_heading level0 col6\" >User_Score</th> \n",
       "        <th class=\"col_heading level0 col7\" >User_Count</th> \n",
       "        <th class=\"col_heading level0 col8\" >NA_Sales</th> \n",
       "        <th class=\"col_heading level0 col9\" >Global_Sales</th> \n",
       "    </tr></thead> \n",
       "<tbody>    <tr> \n",
       "        <th id=\"T_c9217432_ff57_11e8_b9c0_55e11e626db6level0_row0\" class=\"row_heading level0 row0\" >ID</th> \n",
       "        <td id=\"T_c9217432_ff57_11e8_b9c0_55e11e626db6row0_col0\" class=\"data row0 col0\" >1</td> \n",
       "        <td id=\"T_c9217432_ff57_11e8_b9c0_55e11e626db6row0_col1\" class=\"data row0 col1\" >0.00074</td> \n",
       "        <td id=\"T_c9217432_ff57_11e8_b9c0_55e11e626db6row0_col2\" class=\"data row0 col2\" >0.018</td> \n",
       "        <td id=\"T_c9217432_ff57_11e8_b9c0_55e11e626db6row0_col3\" class=\"data row0 col3\" >0.002</td> \n",
       "        <td id=\"T_c9217432_ff57_11e8_b9c0_55e11e626db6row0_col4\" class=\"data row0 col4\" >0.0056</td> \n",
       "        <td id=\"T_c9217432_ff57_11e8_b9c0_55e11e626db6row0_col5\" class=\"data row0 col5\" >0.02</td> \n",
       "        <td id=\"T_c9217432_ff57_11e8_b9c0_55e11e626db6row0_col6\" class=\"data row0 col6\" >0.00017</td> \n",
       "        <td id=\"T_c9217432_ff57_11e8_b9c0_55e11e626db6row0_col7\" class=\"data row0 col7\" >0.018</td> \n",
       "        <td id=\"T_c9217432_ff57_11e8_b9c0_55e11e626db6row0_col8\" class=\"data row0 col8\" >0.022</td> \n",
       "        <td id=\"T_c9217432_ff57_11e8_b9c0_55e11e626db6row0_col9\" class=\"data row0 col9\" >0.019</td> \n",
       "    </tr>    <tr> \n",
       "        <th id=\"T_c9217432_ff57_11e8_b9c0_55e11e626db6level0_row1\" class=\"row_heading level0 row1\" >Year_of_Release</th> \n",
       "        <td id=\"T_c9217432_ff57_11e8_b9c0_55e11e626db6row1_col0\" class=\"data row1 col0\" >0.00074</td> \n",
       "        <td id=\"T_c9217432_ff57_11e8_b9c0_55e11e626db6row1_col1\" class=\"data row1 col1\" >1</td> \n",
       "        <td id=\"T_c9217432_ff57_11e8_b9c0_55e11e626db6row1_col2\" class=\"data row1 col2\" >-0.17</td> \n",
       "        <td id=\"T_c9217432_ff57_11e8_b9c0_55e11e626db6row1_col3\" class=\"data row1 col3\" >0.037</td> \n",
       "        <td id=\"T_c9217432_ff57_11e8_b9c0_55e11e626db6row1_col4\" class=\"data row1 col4\" >0.0082</td> \n",
       "        <td id=\"T_c9217432_ff57_11e8_b9c0_55e11e626db6row1_col5\" class=\"data row1 col5\" >0.23</td> \n",
       "        <td id=\"T_c9217432_ff57_11e8_b9c0_55e11e626db6row1_col6\" class=\"data row1 col6\" >-0.26</td> \n",
       "        <td id=\"T_c9217432_ff57_11e8_b9c0_55e11e626db6row1_col7\" class=\"data row1 col7\" >0.18</td> \n",
       "        <td id=\"T_c9217432_ff57_11e8_b9c0_55e11e626db6row1_col8\" class=\"data row1 col8\" >-0.095</td> \n",
       "        <td id=\"T_c9217432_ff57_11e8_b9c0_55e11e626db6row1_col9\" class=\"data row1 col9\" >-0.078</td> \n",
       "    </tr>    <tr> \n",
       "        <th id=\"T_c9217432_ff57_11e8_b9c0_55e11e626db6level0_row2\" class=\"row_heading level0 row2\" >JP_Sales</th> \n",
       "        <td id=\"T_c9217432_ff57_11e8_b9c0_55e11e626db6row2_col0\" class=\"data row2 col0\" >0.018</td> \n",
       "        <td id=\"T_c9217432_ff57_11e8_b9c0_55e11e626db6row2_col1\" class=\"data row2 col1\" >-0.17</td> \n",
       "        <td id=\"T_c9217432_ff57_11e8_b9c0_55e11e626db6row2_col2\" class=\"data row2 col2\" >1</td> \n",
       "        <td id=\"T_c9217432_ff57_11e8_b9c0_55e11e626db6row2_col3\" class=\"data row2 col3\" >0.27</td> \n",
       "        <td id=\"T_c9217432_ff57_11e8_b9c0_55e11e626db6row2_col4\" class=\"data row2 col4\" >0.16</td> \n",
       "        <td id=\"T_c9217432_ff57_11e8_b9c0_55e11e626db6row2_col5\" class=\"data row2 col5\" >0.19</td> \n",
       "        <td id=\"T_c9217432_ff57_11e8_b9c0_55e11e626db6row2_col6\" class=\"data row2 col6\" >0.13</td> \n",
       "        <td id=\"T_c9217432_ff57_11e8_b9c0_55e11e626db6row2_col7\" class=\"data row2 col7\" >0.079</td> \n",
       "        <td id=\"T_c9217432_ff57_11e8_b9c0_55e11e626db6row2_col8\" class=\"data row2 col8\" >0.44</td> \n",
       "        <td id=\"T_c9217432_ff57_11e8_b9c0_55e11e626db6row2_col9\" class=\"data row2 col9\" >0.59</td> \n",
       "    </tr>    <tr> \n",
       "        <th id=\"T_c9217432_ff57_11e8_b9c0_55e11e626db6level0_row3\" class=\"row_heading level0 row3\" >Other_Sales</th> \n",
       "        <td id=\"T_c9217432_ff57_11e8_b9c0_55e11e626db6row3_col0\" class=\"data row3 col0\" >0.002</td> \n",
       "        <td id=\"T_c9217432_ff57_11e8_b9c0_55e11e626db6row3_col1\" class=\"data row3 col1\" >0.037</td> \n",
       "        <td id=\"T_c9217432_ff57_11e8_b9c0_55e11e626db6row3_col2\" class=\"data row3 col2\" >0.27</td> \n",
       "        <td id=\"T_c9217432_ff57_11e8_b9c0_55e11e626db6row3_col3\" class=\"data row3 col3\" >1</td> \n",
       "        <td id=\"T_c9217432_ff57_11e8_b9c0_55e11e626db6row3_col4\" class=\"data row3 col4\" >0.19</td> \n",
       "        <td id=\"T_c9217432_ff57_11e8_b9c0_55e11e626db6row3_col5\" class=\"data row3 col5\" >0.24</td> \n",
       "        <td id=\"T_c9217432_ff57_11e8_b9c0_55e11e626db6row3_col6\" class=\"data row3 col6\" >0.059</td> \n",
       "        <td id=\"T_c9217432_ff57_11e8_b9c0_55e11e626db6row3_col7\" class=\"data row3 col7\" >0.23</td> \n",
       "        <td id=\"T_c9217432_ff57_11e8_b9c0_55e11e626db6row3_col8\" class=\"data row3 col8\" >0.62</td> \n",
       "        <td id=\"T_c9217432_ff57_11e8_b9c0_55e11e626db6row3_col9\" class=\"data row3 col9\" >0.74</td> \n",
       "    </tr>    <tr> \n",
       "        <th id=\"T_c9217432_ff57_11e8_b9c0_55e11e626db6level0_row4\" class=\"row_heading level0 row4\" >Critic_Score</th> \n",
       "        <td id=\"T_c9217432_ff57_11e8_b9c0_55e11e626db6row4_col0\" class=\"data row4 col0\" >0.0056</td> \n",
       "        <td id=\"T_c9217432_ff57_11e8_b9c0_55e11e626db6row4_col1\" class=\"data row4 col1\" >0.0082</td> \n",
       "        <td id=\"T_c9217432_ff57_11e8_b9c0_55e11e626db6row4_col2\" class=\"data row4 col2\" >0.16</td> \n",
       "        <td id=\"T_c9217432_ff57_11e8_b9c0_55e11e626db6row4_col3\" class=\"data row4 col3\" >0.19</td> \n",
       "        <td id=\"T_c9217432_ff57_11e8_b9c0_55e11e626db6row4_col4\" class=\"data row4 col4\" >1</td> \n",
       "        <td id=\"T_c9217432_ff57_11e8_b9c0_55e11e626db6row4_col5\" class=\"data row4 col5\" >0.43</td> \n",
       "        <td id=\"T_c9217432_ff57_11e8_b9c0_55e11e626db6row4_col6\" class=\"data row4 col6\" >0.58</td> \n",
       "        <td id=\"T_c9217432_ff57_11e8_b9c0_55e11e626db6row4_col7\" class=\"data row4 col7\" >0.27</td> \n",
       "        <td id=\"T_c9217432_ff57_11e8_b9c0_55e11e626db6row4_col8\" class=\"data row4 col8\" >0.24</td> \n",
       "        <td id=\"T_c9217432_ff57_11e8_b9c0_55e11e626db6row4_col9\" class=\"data row4 col9\" >0.24</td> \n",
       "    </tr>    <tr> \n",
       "        <th id=\"T_c9217432_ff57_11e8_b9c0_55e11e626db6level0_row5\" class=\"row_heading level0 row5\" >Critic_Count</th> \n",
       "        <td id=\"T_c9217432_ff57_11e8_b9c0_55e11e626db6row5_col0\" class=\"data row5 col0\" >0.02</td> \n",
       "        <td id=\"T_c9217432_ff57_11e8_b9c0_55e11e626db6row5_col1\" class=\"data row5 col1\" >0.23</td> \n",
       "        <td id=\"T_c9217432_ff57_11e8_b9c0_55e11e626db6row5_col2\" class=\"data row5 col2\" >0.19</td> \n",
       "        <td id=\"T_c9217432_ff57_11e8_b9c0_55e11e626db6row5_col3\" class=\"data row5 col3\" >0.24</td> \n",
       "        <td id=\"T_c9217432_ff57_11e8_b9c0_55e11e626db6row5_col4\" class=\"data row5 col4\" >0.43</td> \n",
       "        <td id=\"T_c9217432_ff57_11e8_b9c0_55e11e626db6row5_col5\" class=\"data row5 col5\" >1</td> \n",
       "        <td id=\"T_c9217432_ff57_11e8_b9c0_55e11e626db6row5_col6\" class=\"data row5 col6\" >0.2</td> \n",
       "        <td id=\"T_c9217432_ff57_11e8_b9c0_55e11e626db6row5_col7\" class=\"data row5 col7\" >0.36</td> \n",
       "        <td id=\"T_c9217432_ff57_11e8_b9c0_55e11e626db6row5_col8\" class=\"data row5 col8\" >0.29</td> \n",
       "        <td id=\"T_c9217432_ff57_11e8_b9c0_55e11e626db6row5_col9\" class=\"data row5 col9\" >0.3</td> \n",
       "    </tr>    <tr> \n",
       "        <th id=\"T_c9217432_ff57_11e8_b9c0_55e11e626db6level0_row6\" class=\"row_heading level0 row6\" >User_Score</th> \n",
       "        <td id=\"T_c9217432_ff57_11e8_b9c0_55e11e626db6row6_col0\" class=\"data row6 col0\" >0.00017</td> \n",
       "        <td id=\"T_c9217432_ff57_11e8_b9c0_55e11e626db6row6_col1\" class=\"data row6 col1\" >-0.26</td> \n",
       "        <td id=\"T_c9217432_ff57_11e8_b9c0_55e11e626db6row6_col2\" class=\"data row6 col2\" >0.13</td> \n",
       "        <td id=\"T_c9217432_ff57_11e8_b9c0_55e11e626db6row6_col3\" class=\"data row6 col3\" >0.059</td> \n",
       "        <td id=\"T_c9217432_ff57_11e8_b9c0_55e11e626db6row6_col4\" class=\"data row6 col4\" >0.58</td> \n",
       "        <td id=\"T_c9217432_ff57_11e8_b9c0_55e11e626db6row6_col5\" class=\"data row6 col5\" >0.2</td> \n",
       "        <td id=\"T_c9217432_ff57_11e8_b9c0_55e11e626db6row6_col6\" class=\"data row6 col6\" >1</td> \n",
       "        <td id=\"T_c9217432_ff57_11e8_b9c0_55e11e626db6row6_col7\" class=\"data row6 col7\" >0.041</td> \n",
       "        <td id=\"T_c9217432_ff57_11e8_b9c0_55e11e626db6row6_col8\" class=\"data row6 col8\" >0.091</td> \n",
       "        <td id=\"T_c9217432_ff57_11e8_b9c0_55e11e626db6row6_col9\" class=\"data row6 col9\" >0.093</td> \n",
       "    </tr>    <tr> \n",
       "        <th id=\"T_c9217432_ff57_11e8_b9c0_55e11e626db6level0_row7\" class=\"row_heading level0 row7\" >User_Count</th> \n",
       "        <td id=\"T_c9217432_ff57_11e8_b9c0_55e11e626db6row7_col0\" class=\"data row7 col0\" >0.018</td> \n",
       "        <td id=\"T_c9217432_ff57_11e8_b9c0_55e11e626db6row7_col1\" class=\"data row7 col1\" >0.18</td> \n",
       "        <td id=\"T_c9217432_ff57_11e8_b9c0_55e11e626db6row7_col2\" class=\"data row7 col2\" >0.079</td> \n",
       "        <td id=\"T_c9217432_ff57_11e8_b9c0_55e11e626db6row7_col3\" class=\"data row7 col3\" >0.23</td> \n",
       "        <td id=\"T_c9217432_ff57_11e8_b9c0_55e11e626db6row7_col4\" class=\"data row7 col4\" >0.27</td> \n",
       "        <td id=\"T_c9217432_ff57_11e8_b9c0_55e11e626db6row7_col5\" class=\"data row7 col5\" >0.36</td> \n",
       "        <td id=\"T_c9217432_ff57_11e8_b9c0_55e11e626db6row7_col6\" class=\"data row7 col6\" >0.041</td> \n",
       "        <td id=\"T_c9217432_ff57_11e8_b9c0_55e11e626db6row7_col7\" class=\"data row7 col7\" >1</td> \n",
       "        <td id=\"T_c9217432_ff57_11e8_b9c0_55e11e626db6row7_col8\" class=\"data row7 col8\" >0.23</td> \n",
       "        <td id=\"T_c9217432_ff57_11e8_b9c0_55e11e626db6row7_col9\" class=\"data row7 col9\" >0.25</td> \n",
       "    </tr>    <tr> \n",
       "        <th id=\"T_c9217432_ff57_11e8_b9c0_55e11e626db6level0_row8\" class=\"row_heading level0 row8\" >NA_Sales</th> \n",
       "        <td id=\"T_c9217432_ff57_11e8_b9c0_55e11e626db6row8_col0\" class=\"data row8 col0\" >0.022</td> \n",
       "        <td id=\"T_c9217432_ff57_11e8_b9c0_55e11e626db6row8_col1\" class=\"data row8 col1\" >-0.095</td> \n",
       "        <td id=\"T_c9217432_ff57_11e8_b9c0_55e11e626db6row8_col2\" class=\"data row8 col2\" >0.44</td> \n",
       "        <td id=\"T_c9217432_ff57_11e8_b9c0_55e11e626db6row8_col3\" class=\"data row8 col3\" >0.62</td> \n",
       "        <td id=\"T_c9217432_ff57_11e8_b9c0_55e11e626db6row8_col4\" class=\"data row8 col4\" >0.24</td> \n",
       "        <td id=\"T_c9217432_ff57_11e8_b9c0_55e11e626db6row8_col5\" class=\"data row8 col5\" >0.29</td> \n",
       "        <td id=\"T_c9217432_ff57_11e8_b9c0_55e11e626db6row8_col6\" class=\"data row8 col6\" >0.091</td> \n",
       "        <td id=\"T_c9217432_ff57_11e8_b9c0_55e11e626db6row8_col7\" class=\"data row8 col7\" >0.23</td> \n",
       "        <td id=\"T_c9217432_ff57_11e8_b9c0_55e11e626db6row8_col8\" class=\"data row8 col8\" >1</td> \n",
       "        <td id=\"T_c9217432_ff57_11e8_b9c0_55e11e626db6row8_col9\" class=\"data row8 col9\" >0.94</td> \n",
       "    </tr>    <tr> \n",
       "        <th id=\"T_c9217432_ff57_11e8_b9c0_55e11e626db6level0_row9\" class=\"row_heading level0 row9\" >Global_Sales</th> \n",
       "        <td id=\"T_c9217432_ff57_11e8_b9c0_55e11e626db6row9_col0\" class=\"data row9 col0\" >0.019</td> \n",
       "        <td id=\"T_c9217432_ff57_11e8_b9c0_55e11e626db6row9_col1\" class=\"data row9 col1\" >-0.078</td> \n",
       "        <td id=\"T_c9217432_ff57_11e8_b9c0_55e11e626db6row9_col2\" class=\"data row9 col2\" >0.59</td> \n",
       "        <td id=\"T_c9217432_ff57_11e8_b9c0_55e11e626db6row9_col3\" class=\"data row9 col3\" >0.74</td> \n",
       "        <td id=\"T_c9217432_ff57_11e8_b9c0_55e11e626db6row9_col4\" class=\"data row9 col4\" >0.24</td> \n",
       "        <td id=\"T_c9217432_ff57_11e8_b9c0_55e11e626db6row9_col5\" class=\"data row9 col5\" >0.3</td> \n",
       "        <td id=\"T_c9217432_ff57_11e8_b9c0_55e11e626db6row9_col6\" class=\"data row9 col6\" >0.093</td> \n",
       "        <td id=\"T_c9217432_ff57_11e8_b9c0_55e11e626db6row9_col7\" class=\"data row9 col7\" >0.25</td> \n",
       "        <td id=\"T_c9217432_ff57_11e8_b9c0_55e11e626db6row9_col8\" class=\"data row9 col8\" >0.94</td> \n",
       "        <td id=\"T_c9217432_ff57_11e8_b9c0_55e11e626db6row9_col9\" class=\"data row9 col9\" >1</td> \n",
       "    </tr></tbody> \n",
       "</table> "
      ],
      "text/plain": [
       "<pandas.io.formats.style.Styler at 0x7fd0601eccc0>"
      ]
     },
     "execution_count": 5,
     "metadata": {},
     "output_type": "execute_result"
    }
   ],
   "source": [
    "%matplotlib inline\n",
    "\n",
    "# calculate the correlation matrix\n",
    "corr = X_train.corr()\n",
    "cmap = cmap=sns.diverging_palette(5, 250, as_cmap=True)\n",
    "\n",
    "def magnify():\n",
    "    return [dict(selector=\"th\",\n",
    "                 props=[(\"font-size\", \"7pt\")]),\n",
    "            dict(selector=\"td\",\n",
    "                 props=[('padding', \"0em 0em\")]),\n",
    "            dict(selector=\"th:hover\",\n",
    "                 props=[(\"font-size\", \"12pt\")]),\n",
    "            dict(selector=\"tr:hover td:hover\",\n",
    "                 props=[('max-width', '200px'),\n",
    "                        ('font-size', '12pt')])\n",
    "]\n",
    "\n",
    "corr.style.background_gradient(cmap, axis=1)\\\n",
    "    .set_properties(**{'max-width': '80px', 'font-size': '10pt'})\\\n",
    "    .set_caption(\"Matrice de Corrélation\")\\\n",
    "    .set_precision(2)\\"
   ]
  },
  {
   "cell_type": "markdown",
   "metadata": {
    "colab_type": "text",
    "id": "8jT_7914kmTj"
   },
   "source": [
    "Rappelons que la formule de la correlation entre 2 variables est la suivante : $corr(X,Y) = \\frac{cov(X,Y)}{\\sigma_X\\sigma_Y}$\n",
    "\n",
    "Par conséquent, la matrice de corrélation contiendra 1 sur la diagonale, et la corrélation empirique entre toutes les variables aléatoires."
   ]
  },
  {
   "cell_type": "markdown",
   "metadata": {
    "colab_type": "text",
    "id": "3rWOQivUkmTk"
   },
   "source": [
    "Nous observons que les 4 différents types de ventes sont fortement corrélées entre eux. Les scores le sont également un peu entre eux, mais globalement il semblerait qu'il y ait très peu de corrélation entre les différentes *features*.\n",
    "\n",
    "Nous envisagerons par la suite faire une ACP (analyse par composantes principales) pour éviter tout effet de multicolinéarité possible."
   ]
  },
  {
   "cell_type": "markdown",
   "metadata": {
    "colab_type": "text",
    "id": "eP6TCWlAkmTl"
   },
   "source": [
    "# II. Traitement des données"
   ]
  },
  {
   "cell_type": "markdown",
   "metadata": {
    "colab_type": "text",
    "id": "oSWzTv4okmTm"
   },
   "source": [
    "Le premier axe de traitement des données sera le traitement des valeurs manquantes. Récupérons d'abord le nombre de valeurs manquantes pour différentes variables dans le fichier test et train."
   ]
  },
  {
   "cell_type": "markdown",
   "metadata": {
    "colab_type": "text",
    "id": "pEge1M1TkmTm"
   },
   "source": [
    "### II.1. Traitement des valeurs manquantes:"
   ]
  },
  {
   "cell_type": "code",
   "execution_count": 6,
   "metadata": {
    "colab": {},
    "colab_type": "code",
    "id": "sPyN-HqKkmTn",
    "outputId": "4c62661a-2534-455f-95f5-0824714cf6df",
    "scrolled": false
   },
   "outputs": [
    {
     "name": "stdout",
     "output_type": "stream",
     "text": [
      "Valeurs manquantes par variable pour le fichier train : \n",
      "\n",
      " User_Count         7653\n",
      "User_Score         7653\n",
      "Critic_Count       7186\n",
      "Critic_Score       7186\n",
      "Rating             5677\n",
      "Developer          5556\n",
      "Year_of_Release     232\n",
      "Publisher            49\n",
      "Genre                 2\n",
      "Name                  2\n",
      "Global_Sales          0\n",
      "NA_Sales              0\n",
      "Other_Sales           0\n",
      "JP_Sales              0\n",
      "Platform              0\n",
      "ID                    0\n",
      "dtype: int64\n",
      "\n",
      " Valeurs manquantes par variable pour le fichier test : \n",
      "\n",
      " User_Count         1370\n",
      "User_Score         1370\n",
      "Critic_Count       1292\n",
      "Critic_Score       1292\n",
      "Rating              994\n",
      "Developer           969\n",
      "Year_of_Release      35\n",
      "Publisher             4\n",
      "Other_Sales           0\n",
      "JP_Sales              0\n",
      "Genre                 0\n",
      "Platform              0\n",
      "ID                    0\n",
      "dtype: int64\n"
     ]
    }
   ],
   "source": [
    "na_train = X_train.isna().sum().sort_values(ascending=False)\n",
    "na_test = X_test.isna().sum().sort_values(ascending=False)\n",
    "print(\"Valeurs manquantes par variable pour le fichier train :\",\n",
    "      \"\\n\\n\", na_train.dropna())\n",
    "print(\"\\n\", \"Valeurs manquantes par variable pour le fichier test :\",\n",
    "      \"\\n\\n\", na_test.dropna())"
   ]
  },
  {
   "cell_type": "markdown",
   "metadata": {
    "colab_type": "text",
    "id": "X-p2ZdZtkmTq"
   },
   "source": [
    "Pour les variables quantitatives, nous faisons les choix suivants pour compléter les valeurs manquantes pour les différentes variables:\n",
    "\n",
    "- User Count: nous choisissons de compléter les valeurs manquantes de cette variable par la moyenne du User Count des observations existentes. Cependant, nous estimons que cette variable pourrait être très importante dans la justifications des variables à prédire et donc nous devons garder l'information sur la véracité de la valeur de cette variable. Nous choisissons alors de rajouter une variable qualitative \"present user count\" qui indique si le \"count\" était présent avant le traitement des données ou il est complété par la moyenne.\n",
    "\n",
    "- User Score: nous choisissons de compléter  les valeurs manquantes de cette variable par la moyenne du User score des observations existentes également. Nous faisons le même choix de rajouter une variable qualitative \"present user score\" qui indique si le \"score\" était présent avant le traitement des données ou il est complété par la moyenne.\n",
    "\n",
    "- Critic Count: les valeurs manquantes cette variable sont traitées de la même manière que les variables précédentes.  \n",
    "\n",
    "- Critic Score : les valeurs manquantes cette variable sont traitées de la même manière que les variables précédentes.  \n",
    "\n",
    "- Year of release : les valeurs manquantes cette variable sont traitées de la même manière que les variables précédentes.  "
   ]
  },
  {
   "cell_type": "markdown",
   "metadata": {
    "colab_type": "text",
    "id": "Y4tQf5xQkmTr"
   },
   "source": [
    "Définissons alors la fonction \"parse_absent\" qui nous permettra de créer les variables additionnelles:"
   ]
  },
  {
   "cell_type": "code",
   "execution_count": 7,
   "metadata": {
    "colab": {},
    "colab_type": "code",
    "id": "n8NchZ1PkmTs"
   },
   "outputs": [],
   "source": [
    "def parse_absent(x):\n",
    "    if pd.isnull(x):\n",
    "        return \"absent\"\n",
    "    else:\n",
    "        return \"present\""
   ]
  },
  {
   "cell_type": "markdown",
   "metadata": {
    "colab_type": "text",
    "id": "h12gB_oikmTu"
   },
   "source": [
    "Pour les variables catégoriques, nous choisissons de rajouter une nouvelle catégorie \"Unknown\" pour éviter de fausser les valeurs de ces variables en remplaçant les valeurs manquantes par la catégorie dominante. Cela concerne les variables catégoriques: \"Rating\", \"Developer\", \"Publisher\", \"Genre\"."
   ]
  },
  {
   "cell_type": "markdown",
   "metadata": {
    "colab_type": "text",
    "id": "cw1r60mJkmTv"
   },
   "source": [
    "Concernant la variable \"Name\", nous remarquons qu'au plus 12 jeux du fichier entraînement partagent le même nom. Ceci est très peu sachant que le fichier contient 14094 jeux (le fait qu'il y aie plusieurs fois le même nom s'explique par le fait qu'il y a une ligne par plateforme). \n",
    "\n",
    "Nous faisons alors le choix de ne pas inclure cette variable parmi les variables explicatives que nous utiliserons par la suite."
   ]
  },
  {
   "cell_type": "code",
   "execution_count": 8,
   "metadata": {
    "colab": {},
    "colab_type": "code",
    "id": "YSD1xXVokmTv",
    "outputId": "b7ff0d9d-c32f-4ec7-9a0d-9c181bf0caa4"
   },
   "outputs": [
    {
     "data": {
      "text/plain": [
       "(14094, 16)"
      ]
     },
     "execution_count": 8,
     "metadata": {},
     "output_type": "execute_result"
    }
   ],
   "source": [
    "X_train.shape"
   ]
  },
  {
   "cell_type": "code",
   "execution_count": 9,
   "metadata": {
    "colab": {},
    "colab_type": "code",
    "id": "BsZ0zZrWkmTz",
    "outputId": "50318549-e776-443b-974a-7f243eba58d9",
    "scrolled": true
   },
   "outputs": [
    {
     "data": {
      "text/plain": [
       "Need for Speed: Most Wanted    12\n",
       "FIFA 14                         9\n",
       "Madden NFL 07                   9\n",
       "Madden NFL 08                   8\n",
       "Ratatouille                     8\n",
       "Name: Name, dtype: int64"
      ]
     },
     "execution_count": 9,
     "metadata": {},
     "output_type": "execute_result"
    }
   ],
   "source": [
    "X_train[\"Name\"].value_counts().sort_values(ascending = False).head()"
   ]
  },
  {
   "cell_type": "markdown",
   "metadata": {
    "colab_type": "text",
    "id": "KWRrAtXykmT2"
   },
   "source": [
    "La 2ème partie très importante dans le traitement des données est l'encodage des variables catégoriques."
   ]
  },
  {
   "cell_type": "markdown",
   "metadata": {
    "colab_type": "text",
    "id": "SkSr3jfCkmT3"
   },
   "source": [
    "### II.2. Encodage des variables catégoriques:"
   ]
  },
  {
   "cell_type": "markdown",
   "metadata": {
    "colab_type": "text",
    "id": "1Up3NDOWkmT4"
   },
   "source": [
    "#### II.2.1. Encodage de la variable \"Developer\":\n"
   ]
  },
  {
   "cell_type": "markdown",
   "metadata": {
    "colab_type": "text",
    "id": "E4RcSzmakmT6"
   },
   "source": [
    "Examinons le nombre de classes uniques/ non redondantes pour cette variable: "
   ]
  },
  {
   "cell_type": "code",
   "execution_count": 10,
   "metadata": {
    "colab": {},
    "colab_type": "code",
    "id": "ZnUrBVUvkmT8",
    "outputId": "5f1044aa-e633-4d15-bc30-76b5cf1875c8"
   },
   "outputs": [
    {
     "name": "stdout",
     "output_type": "stream",
     "text": [
      "classes de Developer dans train:  1594\n",
      "classes de Developer dans test:  678\n"
     ]
    }
   ],
   "source": [
    "print('classes de Developer dans train: ', X_train.Developer.unique().size)\n",
    "print('classes de Developer dans test: ', X_test.Developer.unique().size)"
   ]
  },
  {
   "cell_type": "markdown",
   "metadata": {
    "colab_type": "text",
    "id": "v0tkNKKRkmUA"
   },
   "source": [
    "Le nombre des classes est très grand, donc il serait impossible d'encoder toutes ces classes en tant que variables binaires.\n",
    "Nous faisons alors le choix de ne garder que les classes qui représentent un grand nombre de jeux (seuil déterminé de sorte qu'on réduit considérablement le nombre de classes à encoder). Pour regroupons toutes les classes restantes sous le nom \"Other\"."
   ]
  },
  {
   "cell_type": "code",
   "execution_count": 11,
   "metadata": {
    "colab": {},
    "colab_type": "code",
    "id": "XssgSTpKkmUB",
    "outputId": "616a13d9-aa5f-42b4-a7e0-1fc194afe94d"
   },
   "outputs": [
    {
     "data": {
      "text/plain": [
       "Ubisoft                                             171\n",
       "EA Sports                                           147\n",
       "EA Canada                                           140\n",
       "Konami                                              139\n",
       "Capcom                                              115\n",
       "EA Tiburon                                           93\n",
       "Electronic Arts                                      86\n",
       "Ubisoft Montreal                                     86\n",
       "Visual Concepts                                      86\n",
       "Vicarious Visions                                    66\n",
       "Nintendo                                             65\n",
       "Traveller's Tales                                    64\n",
       "Omega Force                                          64\n",
       "THQ                                                  62\n",
       "Activision                                           60\n",
       "Midway                                               56\n",
       "TT Games                                             54\n",
       "Codemasters                                          53\n",
       "Yuke's                                               53\n",
       "Harmonix Music Systems                               51\n",
       "High Voltage Software                                48\n",
       "Namco                                                48\n",
       "Artificial Mind and Movement                         44\n",
       "Maxis                                                43\n",
       "Arc System Works                                     42\n",
       "Neversoft Entertainment                              42\n",
       "Treyarch                                             41\n",
       "Eurocom Entertainment Software                       40\n",
       "Square Enix                                          40\n",
       "FUN Labs                                             40\n",
       "                                                   ... \n",
       "Syscom                                                1\n",
       "Stainless Steel Studios                               1\n",
       "Harmonix Music Systems- Demiurge Studios              1\n",
       "Mekensleep                                            1\n",
       "Nightlight Studios                                    1\n",
       "Wicked Studios                                        1\n",
       "FAKT Software                                         1\n",
       "Blueshift                                             1\n",
       "Genius Sonority Inc.- Disney Interactive Studios      1\n",
       "Omega Force- Tecmo Koei Games                         1\n",
       "Enlight Software                                      1\n",
       "505 Games- Sarbakan Inc.                              1\n",
       "THQ- Yuke's                                           1\n",
       "Curious Pictures                                      1\n",
       "EA Canada- Exient Entertainment                       1\n",
       "Midway Studios - Los Angeles                          1\n",
       "Asmik Ace Entertainment- Inc                          1\n",
       "Dearsoft                                              1\n",
       "LucasArts- Red Fly Studio                             1\n",
       "Nvizzio Creations                                     1\n",
       "Tommo                                                 1\n",
       "Stalker Entertainment                                 1\n",
       "Omiya Soft- Jamsworks                                 1\n",
       "Melesta                                               1\n",
       "TDK Mediactive                                        1\n",
       "Will                                                  1\n",
       "Namco Bandai Games- Bandai Namco Games                1\n",
       "Pam Development- 2K Sports                            1\n",
       "Blueside                                              1\n",
       "Inti- Inti Creates                                    1\n",
       "Name: Developer, Length: 1593, dtype: int64"
      ]
     },
     "execution_count": 11,
     "metadata": {},
     "output_type": "execute_result"
    }
   ],
   "source": [
    "X_train[\"Developer\"].value_counts().sort_values(ascending = False)"
   ]
  },
  {
   "cell_type": "markdown",
   "metadata": {
    "colab_type": "text",
    "id": "sJuzFesVkmUE"
   },
   "source": [
    "Nous choisissons alors de garder les 14 Classes les plus représentées dans l'ensemble d'entrainement. \n",
    "Le nombre 15 a été choisi qualitativement : il faut trouver un compromis entre un nombre de variables restreint pour éviter d'avoir trop de variables pour l'encodage, mais quand même être en mesure de caractériser une proportion de jeux non négligeable autrement que par \"Unknown\".\n",
    "\n",
    "La fonction suivante nous permet de faire cette réduction du nombre des classes pour la variable \"developer\":"
   ]
  },
  {
   "cell_type": "code",
   "execution_count": 12,
   "metadata": {
    "colab": {},
    "colab_type": "code",
    "id": "zhIL3IUTkmUF"
   },
   "outputs": [],
   "source": [
    "def reduce_developer(x):\n",
    "    keep_list = X_train[\"Developer\"].value_counts().sort_values(ascending = False).index.tolist()[1:15]\n",
    "    keep_list.append(\"Unknown\")\n",
    "    if x not in keep_list:\n",
    "        return \"Other\"\n",
    "    else:\n",
    "        return x"
   ]
  },
  {
   "cell_type": "markdown",
   "metadata": {
    "colab_type": "text",
    "id": "ZAJ7YyLAkmUI"
   },
   "source": [
    "Nous utiliserons le \"One Hot Encoding\" qui consiste à remplacer chaque classe par un vecteur qui contient 1 pour la classe correspendante et des zéros pour les autres classes. Ainsi, on remplacera une feature catégorique pouvant prendre 3 valeurs différentes, par 3 features catégoriques pouvant prendre les valeurs 0 ou 1."
   ]
  },
  {
   "cell_type": "markdown",
   "metadata": {
    "colab_type": "text",
    "id": "A5dQ9_sjkmUJ"
   },
   "source": [
    "Nous allons suivre ces mêmes étapes pour réduire le nombre des classes pour toutes les autres variables catégoriques à encoder."
   ]
  },
  {
   "cell_type": "markdown",
   "metadata": {
    "colab_type": "text",
    "id": "CphOfk9qkmUJ"
   },
   "source": [
    "#### II.2.2. Encodage de la variable \"Publisher\":\n"
   ]
  },
  {
   "cell_type": "markdown",
   "metadata": {
    "colab_type": "text",
    "id": "GOaujLrjkmUK"
   },
   "source": [
    "- Examiner le nombre de classes uniques/ non redondantes pour cette variable: "
   ]
  },
  {
   "cell_type": "code",
   "execution_count": 13,
   "metadata": {
    "colab": {},
    "colab_type": "code",
    "id": "B4C3c_78kmUK",
    "outputId": "fece6de8-3711-4701-afb9-44184a421909"
   },
   "outputs": [
    {
     "name": "stdout",
     "output_type": "stream",
     "text": [
      "Nombre de classes de Publisher dans train:  553\n",
      "Nombre de classes de Publisher dans test:  281\n"
     ]
    }
   ],
   "source": [
    "print('Nombre de classes de Publisher dans train: ', X_train.Publisher.unique().size)\n",
    "print('Nombre de classes de Publisher dans test: ', X_test.Publisher.unique().size)"
   ]
  },
  {
   "cell_type": "markdown",
   "metadata": {
    "colab_type": "text",
    "id": "3d2B6149kmUN"
   },
   "source": [
    "- Déterminer les classes à garder:"
   ]
  },
  {
   "cell_type": "code",
   "execution_count": 14,
   "metadata": {
    "colab": {},
    "colab_type": "code",
    "id": "5JqkjTd1kmUO",
    "outputId": "f5ec2b28-d444-4d24-a83e-0e24d5caa597"
   },
   "outputs": [
    {
     "data": {
      "text/plain": [
       "Electronic Arts                           1147\n",
       "Activision                                 833\n",
       "Namco Bandai Games                         798\n",
       "Ubisoft                                    774\n",
       "Konami Digital Entertainment               706\n",
       "THQ                                        591\n",
       "Nintendo                                   589\n",
       "Sony Computer Entertainment                584\n",
       "Sega                                       535\n",
       "Take-Two Interactive                       358\n",
       "Capcom                                     323\n",
       "Atari                                      312\n",
       "Tecmo Koei                                 299\n",
       "Square Enix                                205\n",
       "Warner Bros. Interactive Entertainment     186\n",
       "Disney Interactive Studios                 184\n",
       "Eidos Interactive                          178\n",
       "Unknown                                    172\n",
       "Midway Games                               165\n",
       "Microsoft Game Studios                     163\n",
       "505 Games                                  161\n",
       "Acclaim Entertainment                      157\n",
       "D3Publisher                                154\n",
       "Vivendi Games                              140\n",
       "Codemasters                                127\n",
       "Idea Factory                               111\n",
       "Deep Silver                                107\n",
       "Zoo Digital Publishing                      92\n",
       "Nippon Ichi Software                        87\n",
       "Majesco Entertainment                       80\n",
       "                                          ... \n",
       "Type-Moon                                    1\n",
       "Boost On                                     1\n",
       "New                                          1\n",
       "Evolution Games                              1\n",
       "id Software                                  1\n",
       "Aria                                         1\n",
       "Giza10                                       1\n",
       "Quelle                                       1\n",
       "Interchannel-Holon                           1\n",
       "HAL Laboratory                               1\n",
       "Ascaron Entertainment                        1\n",
       "Pack In Soft                                 1\n",
       "Wizard Video Games                           1\n",
       "MediaQuest                                   1\n",
       "Her Interactive                              1\n",
       "DigiCube                                     1\n",
       "Tryfirst                                     1\n",
       "Fuji                                         1\n",
       "WayForward Technologies                      1\n",
       "Berkeley                                     1\n",
       "Inti Creates                                 1\n",
       "Phoenix Games                                1\n",
       "Pow                                          1\n",
       "Xing Entertainment                           1\n",
       "Playmates                                    1\n",
       "Interworks Unlimited- Inc.                   1\n",
       "On Demand                                    1\n",
       "Mitsui                                       1\n",
       "T&E Soft                                     1\n",
       "Altron                                       1\n",
       "Name: Publisher, Length: 552, dtype: int64"
      ]
     },
     "execution_count": 14,
     "metadata": {},
     "output_type": "execute_result"
    }
   ],
   "source": [
    "X_train[\"Publisher\"].value_counts().sort_values(ascending = False)"
   ]
  },
  {
   "cell_type": "markdown",
   "metadata": {
    "colab_type": "text",
    "id": "W3SKTyhfkmUQ"
   },
   "source": [
    "Nous choisissons de garder les 9 premières classes: \"Electronic Arts\", \"Activision\", \"Namco Bandai Games\", \"Ubisoft\", \"Konami Digital Entertainment\", \"THQ\", \"Nintendo\", \"Sony Computer Entertainment\", \"Sega\"."
   ]
  },
  {
   "cell_type": "markdown",
   "metadata": {
    "colab_type": "text",
    "id": "CJ78k1EYkmUR"
   },
   "source": [
    "- Ecrire la fonction suivante nous permet de faire cette réduction du nombre des classes pour la variable \"Publisher\":"
   ]
  },
  {
   "cell_type": "code",
   "execution_count": 15,
   "metadata": {
    "colab": {},
    "colab_type": "code",
    "id": "ZugYX32rkmUS"
   },
   "outputs": [],
   "source": [
    "def reduce_publisher(x):\n",
    "    keep_list = X_train[\"Publisher\"].value_counts().sort_values(ascending = False).index.tolist()[1:10]\n",
    "    keep_list.append(\"Unknown\")\n",
    "    if x not in keep_list:\n",
    "        return \"Other\"\n",
    "    else:\n",
    "        return x"
   ]
  },
  {
   "cell_type": "markdown",
   "metadata": {
    "colab_type": "text",
    "id": "vxsFDvvxkmUU"
   },
   "source": [
    "- Le \"One Hot Encoding\" est choisi pour encoder cette variable."
   ]
  },
  {
   "cell_type": "markdown",
   "metadata": {
    "colab_type": "text",
    "id": "ihmtVCY6kmUV"
   },
   "source": [
    "#### II.2.3. Encodage de la variable \"Rating\":\n"
   ]
  },
  {
   "cell_type": "markdown",
   "metadata": {
    "colab_type": "text",
    "id": "BDUS5DylkmUV"
   },
   "source": [
    "- Examiner le nombre de classes uniques/ non redondantes pour cette variable: "
   ]
  },
  {
   "cell_type": "code",
   "execution_count": 16,
   "metadata": {
    "colab": {},
    "colab_type": "code",
    "id": "OnHTZ8kWkmUW",
    "outputId": "1499afe9-b00e-4ca3-cb0b-c8a23bcd65d3",
    "scrolled": true
   },
   "outputs": [
    {
     "name": "stdout",
     "output_type": "stream",
     "text": [
      "classes de Rating dans train:  9\n",
      "classes de Rating dans test:  6\n"
     ]
    }
   ],
   "source": [
    "print('classes de Rating dans train: ', X_train.Rating.unique().size)\n",
    "print('classes de Rating dans test: ', X_test.Rating.unique().size)"
   ]
  },
  {
   "cell_type": "markdown",
   "metadata": {
    "colab_type": "text",
    "id": "fUhoDIzWkmUa"
   },
   "source": [
    "- Déterminer les classes à garder:"
   ]
  },
  {
   "cell_type": "code",
   "execution_count": 17,
   "metadata": {
    "colab": {},
    "colab_type": "code",
    "id": "vFN8XD3qkmUb",
    "outputId": "a4a23416-2ec9-4842-8069-e3fac9ab0e35",
    "scrolled": true
   },
   "outputs": [
    {
     "data": {
      "text/plain": [
       "E       3369\n",
       "T       2515\n",
       "M       1325\n",
       "E10+    1195\n",
       "EC         7\n",
       "K-A        3\n",
       "RP         2\n",
       "AO         1\n",
       "Name: Rating, dtype: int64"
      ]
     },
     "execution_count": 17,
     "metadata": {},
     "output_type": "execute_result"
    }
   ],
   "source": [
    "X_train[\"Rating\"].value_counts().sort_values(ascending = False)"
   ]
  },
  {
   "cell_type": "markdown",
   "metadata": {
    "colab_type": "text",
    "id": "sDLuuNm2kmUc"
   },
   "source": [
    "Nous choisissons de garder les classes suivantes: \"E\", \"T\", \"M\" et \"E10+\". Les classes restantes sont encodées en tant que \"other\"."
   ]
  },
  {
   "cell_type": "markdown",
   "metadata": {
    "colab_type": "text",
    "id": "WkqvuwL4kmUd"
   },
   "source": [
    "- Ecrire la fonction suivante nous permet de faire cette réduction du nombre des classes pour la variable \"Rating\":"
   ]
  },
  {
   "cell_type": "code",
   "execution_count": 18,
   "metadata": {
    "colab": {},
    "colab_type": "code",
    "id": "pUIRBdcVkmUe"
   },
   "outputs": [],
   "source": [
    "def reduce_rating(x):\n",
    "    keep_list = [\"E\", \"T\", \"M\", \"E10+\", \"Unknown\"]\n",
    "    if x not in keep_list:\n",
    "        return \"Other\"\n",
    "    else:\n",
    "        return x"
   ]
  },
  {
   "cell_type": "markdown",
   "metadata": {
    "colab_type": "text",
    "id": "n8chCiBBkmUf"
   },
   "source": [
    "- Le \"One Hot Encoding\" est choisi pour encoder cette variable."
   ]
  },
  {
   "cell_type": "markdown",
   "metadata": {
    "colab_type": "text",
    "id": "7OsVz_R9kmUg"
   },
   "source": [
    "#### II.2.4. Encodage de la variable \"Platform\":\n"
   ]
  },
  {
   "cell_type": "markdown",
   "metadata": {
    "colab_type": "text",
    "id": "ctsldU0GkmUg"
   },
   "source": [
    "- Examiner le nombre de classes uniques/ non redondantes pour cette variable:"
   ]
  },
  {
   "cell_type": "code",
   "execution_count": 19,
   "metadata": {
    "colab": {},
    "colab_type": "code",
    "id": "9jXMW_4vkmUh",
    "outputId": "039cc3cb-3fc6-4233-851f-76c490b52e5f",
    "scrolled": true
   },
   "outputs": [
    {
     "name": "stdout",
     "output_type": "stream",
     "text": [
      "classes de Platform dans train:  30\n",
      "classes de Platform dans test:  27\n"
     ]
    }
   ],
   "source": [
    "print('classes de Platform dans train: ', X_train.Platform.unique().size)\n",
    "print('classes de Platform dans test: ', X_test.Platform.unique().size)"
   ]
  },
  {
   "cell_type": "markdown",
   "metadata": {
    "colab_type": "text",
    "id": "10rqnAKDkmUj"
   },
   "source": [
    "- Déterminer les classes à garder:"
   ]
  },
  {
   "cell_type": "code",
   "execution_count": 20,
   "metadata": {
    "colab": {},
    "colab_type": "code",
    "id": "d64vMwM0kmUk",
    "outputId": "ad0dbdba-859c-482c-f42c-e4c975f48d5a",
    "scrolled": false
   },
   "outputs": [
    {
     "data": {
      "text/plain": [
       "PS2     1861\n",
       "DS      1807\n",
       "PS3     1143\n",
       "Wii     1109\n",
       "X360    1042\n",
       "PSP     1031\n",
       "PS      1010\n",
       "PC       801\n",
       "GBA      696\n",
       "XB       696\n",
       "GC       472\n",
       "3DS      432\n",
       "PSV      356\n",
       "PS4      319\n",
       "N64      265\n",
       "XOne     216\n",
       "SNES     191\n",
       "SAT      151\n",
       "WiiU     121\n",
       "2600     111\n",
       "GB        85\n",
       "NES       84\n",
       "DC        43\n",
       "GEN       25\n",
       "NG        12\n",
       "SCD        6\n",
       "WS         4\n",
       "TG16       2\n",
       "3DO        2\n",
       "PCFX       1\n",
       "Name: Platform, dtype: int64"
      ]
     },
     "execution_count": 20,
     "metadata": {},
     "output_type": "execute_result"
    }
   ],
   "source": [
    "X_train[\"Platform\"].value_counts().sort_values(ascending = False)"
   ]
  },
  {
   "cell_type": "markdown",
   "metadata": {
    "colab_type": "text",
    "id": "14PmixFXkmUm"
   },
   "source": [
    "Là encore, nous choisissons de garder les 14 variables les plus représentés."
   ]
  },
  {
   "cell_type": "markdown",
   "metadata": {
    "colab_type": "text",
    "id": "GL7BTFyNkmUn"
   },
   "source": [
    "- Ecrire la fonction suivante nous permet de faire cette réduction du nombre des classes pour la variable \"Platform\":"
   ]
  },
  {
   "cell_type": "code",
   "execution_count": 21,
   "metadata": {
    "colab": {},
    "colab_type": "code",
    "id": "2T2n0O1jkmUo"
   },
   "outputs": [],
   "source": [
    "def reduce_platform(x):\n",
    "    keep_list = X_train[\"Platform\"].value_counts().sort_values(ascending = False).index.tolist()[1:15]\n",
    "    if x not in keep_list:\n",
    "        return \"Other\"\n",
    "    else:\n",
    "        return x"
   ]
  },
  {
   "cell_type": "markdown",
   "metadata": {
    "colab_type": "text",
    "id": "rHHJu2FCkmUr"
   },
   "source": [
    "- Le \"One Hot Encoding\" est choisi pour encoder cette variable."
   ]
  },
  {
   "cell_type": "markdown",
   "metadata": {
    "colab_type": "text",
    "id": "zIIXuVxEkmUs"
   },
   "source": [
    "### II.3. Normalisation:"
   ]
  },
  {
   "cell_type": "markdown",
   "metadata": {
    "colab_type": "text",
    "id": "XbRU5xLLkmUu"
   },
   "source": [
    "La normalisation permet d'exprimer la colonne sous-forme d'une distribution normale centrée en 0 et de variance 1. L'intérêt de réduire ainsi les features est de les mettre toutes à la même échelle. En effet, certains algorithmes de classification auront tendance à considérer des colonnes avec des petites valeurs comme négligeable par rapport à des colonnes avec de grandes, et ainsi à l'ignorer lors de l'apprentissage (ref.2).\n",
    "\n",
    "Nous faisons alors le choix de normaliser toutes les variables explicatives quantitatives."
   ]
  },
  {
   "cell_type": "markdown",
   "metadata": {
    "colab_type": "text",
    "id": "fvKFtBImkmUv"
   },
   "source": [
    "### II.4 Transformation des données"
   ]
  },
  {
   "cell_type": "markdown",
   "metadata": {
    "colab_type": "text",
    "id": "CWt8kkdTkmUw"
   },
   "source": [
    "Nous devons alors appliquer les transformations décrites dans les paragraphes précedents. Nous pouvons faire cela d'une façon classique en effectuant une transformation après l'autre, variable par variable.\n",
    "\n",
    "Cependant, nous choisissons d'exploiter le principe du \"pipeline\" (ref.2). En effet, l'implémentation d'une transformation après l'autre est fastidieuse et redondante (elle nécessite beaucoup de copier-coller). D'autre part, si on voulait effectuer une modification dans le processus de traitement des données et tester son impact sur la performance, il faudrait tout relancer manuellement sans rien oublier. Une solution existe dans sklearn pour pallier à ce problème, c'est ce qu'on appelle \"le pipeline\". Il permet de lister la liste des transformations par colonne et de les appliquer en une seule fois (ref.2)."
   ]
  },
  {
   "cell_type": "markdown",
   "metadata": {
    "colab_type": "text",
    "id": "cLcfrTOKkmUx"
   },
   "source": [
    "#### Suppression de colonnes non traitées :"
   ]
  },
  {
   "cell_type": "code",
   "execution_count": 22,
   "metadata": {
    "colab": {},
    "colab_type": "code",
    "id": "Yma7ug-tkmUx"
   },
   "outputs": [],
   "source": [
    "'''\n",
    "Suppression de :\n",
    "    - ID\n",
    "    - Name\n",
    "''' \n",
    "\n",
    "# garder le ID dans la dataframe des résultats\n",
    "results = pd.DataFrame()\n",
    "results['ID'] = X_test['ID']\n",
    "\n",
    "# supprimer les colonnes ID et name\n",
    "Names = X_train.Name\n",
    "X_train = X_train.drop(columns = [\"ID\", \"Name\"])\n",
    "X_test = X_test.drop(columns = [\"ID\"])\n",
    "\n",
    "# Extraction de la feature à prédire, et stockage dans y_train :\n",
    "y_train = X_train[[\"NA_Sales\", \"Global_Sales\"]]\n",
    "X_train = X_train.drop(columns = [\"NA_Sales\", \"Global_Sales\"])"
   ]
  },
  {
   "cell_type": "markdown",
   "metadata": {
    "colab_type": "text",
    "id": "jomadzBNkmUz"
   },
   "source": [
    "Vérification de la suppression"
   ]
  },
  {
   "cell_type": "code",
   "execution_count": 23,
   "metadata": {
    "colab": {},
    "colab_type": "code",
    "id": "vlVKxlsokmU1",
    "outputId": "134e387b-1e69-49b8-d177-3d2d7adfbac9"
   },
   "outputs": [
    {
     "data": {
      "text/html": [
       "<div>\n",
       "<style scoped>\n",
       "    .dataframe tbody tr th:only-of-type {\n",
       "        vertical-align: middle;\n",
       "    }\n",
       "\n",
       "    .dataframe tbody tr th {\n",
       "        vertical-align: top;\n",
       "    }\n",
       "\n",
       "    .dataframe thead th {\n",
       "        text-align: right;\n",
       "    }\n",
       "</style>\n",
       "<table border=\"1\" class=\"dataframe\">\n",
       "  <thead>\n",
       "    <tr style=\"text-align: right;\">\n",
       "      <th></th>\n",
       "      <th>Platform</th>\n",
       "      <th>Year_of_Release</th>\n",
       "      <th>Genre</th>\n",
       "      <th>Publisher</th>\n",
       "      <th>JP_Sales</th>\n",
       "      <th>Other_Sales</th>\n",
       "      <th>Critic_Score</th>\n",
       "      <th>Critic_Count</th>\n",
       "      <th>User_Score</th>\n",
       "      <th>User_Count</th>\n",
       "      <th>Developer</th>\n",
       "      <th>Rating</th>\n",
       "    </tr>\n",
       "  </thead>\n",
       "  <tbody>\n",
       "    <tr>\n",
       "      <th>0</th>\n",
       "      <td>DS</td>\n",
       "      <td>2004.0</td>\n",
       "      <td>Puzzle</td>\n",
       "      <td>Ignition Entertainment</td>\n",
       "      <td>0.050524</td>\n",
       "      <td>0.010024</td>\n",
       "      <td>74.0</td>\n",
       "      <td>40.0</td>\n",
       "      <td>7.5</td>\n",
       "      <td>13.0</td>\n",
       "      <td>Buddiez- Inc.</td>\n",
       "      <td>E</td>\n",
       "    </tr>\n",
       "    <tr>\n",
       "      <th>1</th>\n",
       "      <td>DS</td>\n",
       "      <td>2010.0</td>\n",
       "      <td>Action</td>\n",
       "      <td>Namco Bandai Games</td>\n",
       "      <td>0.039211</td>\n",
       "      <td>0.001791</td>\n",
       "      <td>NaN</td>\n",
       "      <td>NaN</td>\n",
       "      <td>NaN</td>\n",
       "      <td>NaN</td>\n",
       "      <td>NaN</td>\n",
       "      <td>NaN</td>\n",
       "    </tr>\n",
       "    <tr>\n",
       "      <th>2</th>\n",
       "      <td>DS</td>\n",
       "      <td>2006.0</td>\n",
       "      <td>Sports</td>\n",
       "      <td>System 3 Arcade Software</td>\n",
       "      <td>0.000374</td>\n",
       "      <td>0.001797</td>\n",
       "      <td>NaN</td>\n",
       "      <td>NaN</td>\n",
       "      <td>NaN</td>\n",
       "      <td>NaN</td>\n",
       "      <td>System 3</td>\n",
       "      <td>E</td>\n",
       "    </tr>\n",
       "    <tr>\n",
       "      <th>3</th>\n",
       "      <td>PS2</td>\n",
       "      <td>2002.0</td>\n",
       "      <td>Platform</td>\n",
       "      <td>THQ</td>\n",
       "      <td>0.001382</td>\n",
       "      <td>0.140010</td>\n",
       "      <td>NaN</td>\n",
       "      <td>NaN</td>\n",
       "      <td>6.6</td>\n",
       "      <td>41.0</td>\n",
       "      <td>Big Sky Software</td>\n",
       "      <td>E</td>\n",
       "    </tr>\n",
       "    <tr>\n",
       "      <th>4</th>\n",
       "      <td>PSV</td>\n",
       "      <td>2014.0</td>\n",
       "      <td>Action</td>\n",
       "      <td>Tecmo Koei</td>\n",
       "      <td>0.069422</td>\n",
       "      <td>0.009535</td>\n",
       "      <td>67.0</td>\n",
       "      <td>19.0</td>\n",
       "      <td>7.5</td>\n",
       "      <td>61.0</td>\n",
       "      <td>Koei Tecmo Games</td>\n",
       "      <td>M</td>\n",
       "    </tr>\n",
       "  </tbody>\n",
       "</table>\n",
       "</div>"
      ],
      "text/plain": [
       "  Platform  Year_of_Release     Genre                 Publisher  JP_Sales  \\\n",
       "0       DS           2004.0    Puzzle    Ignition Entertainment  0.050524   \n",
       "1       DS           2010.0    Action        Namco Bandai Games  0.039211   \n",
       "2       DS           2006.0    Sports  System 3 Arcade Software  0.000374   \n",
       "3      PS2           2002.0  Platform                       THQ  0.001382   \n",
       "4      PSV           2014.0    Action                Tecmo Koei  0.069422   \n",
       "\n",
       "   Other_Sales  Critic_Score  Critic_Count  User_Score  User_Count  \\\n",
       "0     0.010024          74.0          40.0         7.5        13.0   \n",
       "1     0.001791           NaN           NaN         NaN         NaN   \n",
       "2     0.001797           NaN           NaN         NaN         NaN   \n",
       "3     0.140010           NaN           NaN         6.6        41.0   \n",
       "4     0.009535          67.0          19.0         7.5        61.0   \n",
       "\n",
       "          Developer Rating  \n",
       "0     Buddiez- Inc.      E  \n",
       "1               NaN    NaN  \n",
       "2          System 3      E  \n",
       "3  Big Sky Software      E  \n",
       "4  Koei Tecmo Games      M  "
      ]
     },
     "execution_count": 23,
     "metadata": {},
     "output_type": "execute_result"
    }
   ],
   "source": [
    "X_train.head()"
   ]
  },
  {
   "cell_type": "code",
   "execution_count": 24,
   "metadata": {
    "colab": {},
    "colab_type": "code",
    "id": "GLzF87v6kmU3",
    "outputId": "5645ff64-bfa4-4417-86e3-4fafd41f8eb8"
   },
   "outputs": [
    {
     "data": {
      "text/html": [
       "<div>\n",
       "<style scoped>\n",
       "    .dataframe tbody tr th:only-of-type {\n",
       "        vertical-align: middle;\n",
       "    }\n",
       "\n",
       "    .dataframe tbody tr th {\n",
       "        vertical-align: top;\n",
       "    }\n",
       "\n",
       "    .dataframe thead th {\n",
       "        text-align: right;\n",
       "    }\n",
       "</style>\n",
       "<table border=\"1\" class=\"dataframe\">\n",
       "  <thead>\n",
       "    <tr style=\"text-align: right;\">\n",
       "      <th></th>\n",
       "      <th>NA_Sales</th>\n",
       "      <th>Global_Sales</th>\n",
       "    </tr>\n",
       "  </thead>\n",
       "  <tbody>\n",
       "    <tr>\n",
       "      <th>0</th>\n",
       "      <td>0.101432</td>\n",
       "      <td>0.172605</td>\n",
       "    </tr>\n",
       "    <tr>\n",
       "      <th>1</th>\n",
       "      <td>0.000440</td>\n",
       "      <td>0.043251</td>\n",
       "    </tr>\n",
       "    <tr>\n",
       "      <th>2</th>\n",
       "      <td>0.030829</td>\n",
       "      <td>0.041271</td>\n",
       "    </tr>\n",
       "    <tr>\n",
       "      <th>3</th>\n",
       "      <td>0.528330</td>\n",
       "      <td>1.080821</td>\n",
       "    </tr>\n",
       "    <tr>\n",
       "      <th>4</th>\n",
       "      <td>0.020629</td>\n",
       "      <td>0.131074</td>\n",
       "    </tr>\n",
       "  </tbody>\n",
       "</table>\n",
       "</div>"
      ],
      "text/plain": [
       "   NA_Sales  Global_Sales\n",
       "0  0.101432      0.172605\n",
       "1  0.000440      0.043251\n",
       "2  0.030829      0.041271\n",
       "3  0.528330      1.080821\n",
       "4  0.020629      0.131074"
      ]
     },
     "execution_count": 24,
     "metadata": {},
     "output_type": "execute_result"
    }
   ],
   "source": [
    "y_train.head()"
   ]
  },
  {
   "cell_type": "markdown",
   "metadata": {
    "colab_type": "text",
    "id": "is-PvsudkmU6"
   },
   "source": [
    "#### Le Pipeline"
   ]
  },
  {
   "cell_type": "markdown",
   "metadata": {
    "colab_type": "text",
    "id": "jsfZ_gxskmU7"
   },
   "source": [
    "Ecrivons alors le pipeline définie ci-dessus qui nous permettra d'effectuer toutes les transformations à la fois.  \n",
    "##### Le fichier preprocessing est un fichier externe que le correcteur trouvera dans le zip avec ce notebook."
   ]
  },
  {
   "cell_type": "code",
   "execution_count": 25,
   "metadata": {
    "colab": {},
    "colab_type": "code",
    "id": "ZjPn9v8fkmU7",
    "scrolled": true
   },
   "outputs": [],
   "source": [
    "from sklearn.impute import SimpleImputer\n",
    "from sklearn.preprocessing import LabelEncoder\n",
    "from sklearn.preprocessing import OneHotEncoder\n",
    "from sklearn.preprocessing import StandardScaler\n",
    "\n",
    "from preprocessing import TransformationWrapper\n",
    "from preprocessing import LabelEncoderP\n",
    "from sklearn.pipeline import Pipeline, FeatureUnion\n",
    "from sklearn.compose import ColumnTransformer\n",
    "\n",
    "# Process Plateform\n",
    "\n",
    "pipeline_platform = Pipeline([\n",
    "    (\"fillna\", SimpleImputer(strategy = 'constant', fill_value = \"Unknown\")),\n",
    "    (\"Platform\", TransformationWrapper(transformation = reduce_platform)),\n",
    "    (\"encode\",OneHotEncoder(categories = 'auto', sparse = False))\n",
    "])\n",
    "\n",
    "# Process Rating\n",
    "\n",
    "pipeline_rating = Pipeline([\n",
    "    (\"fillna\", SimpleImputer(strategy = 'constant', fill_value = \"Unknown\")),\n",
    "    (\"developer\", TransformationWrapper(transformation = reduce_rating)),\n",
    "    (\"encode\",OneHotEncoder(categories = 'auto', sparse = False))\n",
    "])\n",
    "\n",
    "# Process Developer\n",
    "\n",
    "pipeline_Developer = Pipeline([\n",
    "    (\"fillna\", SimpleImputer(strategy = 'constant', fill_value = \"Unknown\")),\n",
    "    (\"developer\", TransformationWrapper(transformation = reduce_developer)),\n",
    "    (\"encode\",OneHotEncoder(categories = 'auto', sparse = False))\n",
    "])\n",
    "\n",
    "# Process user count\n",
    "\n",
    "\n",
    "pipeline_absent_user_count = Pipeline([\n",
    "    (\"absent_user_count\", TransformationWrapper(transformation = parse_absent)),\n",
    "    (\"encode\",LabelEncoderP()),\n",
    "])\n",
    "\n",
    "\n",
    "pipeline_userCount = Pipeline([\n",
    "    (\"fillna\", SimpleImputer(strategy = 'mean')),\n",
    "    (\"scaler\",StandardScaler())\n",
    "])\n",
    "\n",
    "\n",
    "pipeline_User_Count = Pipeline([\n",
    "    \n",
    "    ('feats', FeatureUnion([\n",
    "        ('absent_user_count', pipeline_absent_user_count), \n",
    "        ('user_count', pipeline_userCount)\n",
    "    ])),\n",
    "    \n",
    "])\n",
    "\n",
    "\n",
    "# Process critic count\n",
    "\n",
    "pipeline_absent_critic_count = Pipeline([\n",
    "    (\"absent_critic_count\", TransformationWrapper(transformation = parse_absent)),\n",
    "    (\"encode\",LabelEncoderP()),\n",
    "])\n",
    "\n",
    "pipeline_criticCount = Pipeline([\n",
    "    (\"fillna\", SimpleImputer(strategy = 'mean')),\n",
    "    (\"scaler\",StandardScaler())\n",
    "])\n",
    "\n",
    "\n",
    "pipeline_Critic_Count = Pipeline([\n",
    "    \n",
    "    ('feats', FeatureUnion([\n",
    "        ('absent_critic_count', pipeline_absent_critic_count), \n",
    "        ('critic_count', pipeline_criticCount)\n",
    "    ])),\n",
    "    \n",
    "])\n",
    "\n",
    "# process Publisher \n",
    "\n",
    "pipeline_Publisher = Pipeline([\n",
    "    (\"fillna\", SimpleImputer(strategy = 'constant', fill_value = \"Unknown\")),\n",
    "    (\"publisher\", TransformationWrapper(transformation = reduce_publisher)),\n",
    "    (\"encode\",OneHotEncoder(categories = 'auto', sparse = False))\n",
    "])\n",
    "\n",
    "# Process the year\n",
    "\n",
    "\n",
    "pipeline_absent_year = Pipeline([\n",
    "    (\"absent_user_year\", TransformationWrapper(transformation = parse_absent)),\n",
    "    (\"encode\",LabelEncoderP()),\n",
    "])\n",
    "\n",
    "\n",
    "pipeline_year_process = Pipeline([\n",
    "    (\"fillna\", SimpleImputer(strategy = 'mean')),\n",
    "    (\"scaler\",StandardScaler())\n",
    "])\n",
    "\n",
    "\n",
    "pipeline_Year = Pipeline([\n",
    "    \n",
    "    ('feats', FeatureUnion([\n",
    "        ('absent_year', pipeline_absent_year), \n",
    "        ('year', pipeline_year_process)\n",
    "    ])),\n",
    "    \n",
    "])\n",
    "\n",
    "# Process genre\n",
    "\n",
    "pipeline_Genre = Pipeline([\n",
    "    (\"fillna\", SimpleImputer(strategy = 'constant', fill_value = \"Unknown\")),\n",
    "    (\"encode\",OneHotEncoder(categories = 'auto', sparse = False))\n",
    "])\n",
    "\n",
    "# process JP Sales\n",
    "\n",
    "pipeline_JP_Sales = Pipeline([\n",
    "    (\"fillna\", SimpleImputer(strategy = 'mean')),\n",
    "    (\"scaler\",StandardScaler())\n",
    "])\n",
    "\n",
    "# Process Other Sales\n",
    "pipeline_Other_Sales = Pipeline([\n",
    "    (\"fillna\", SimpleImputer(strategy = 'mean')),\n",
    "    (\"scaler\",StandardScaler())\n",
    "])\n",
    "\n",
    "# Process Critic score\n",
    "pipeline_absent_critic = Pipeline([\n",
    "    (\"absent_critic_score\", TransformationWrapper(transformation = parse_absent)),\n",
    "    (\"encode\",LabelEncoderP()),\n",
    "])\n",
    "\n",
    "pipeline_critic = Pipeline([\n",
    "    (\"fillna\", SimpleImputer(strategy = 'mean')),\n",
    "    (\"scaler\",StandardScaler())\n",
    "])\n",
    "\n",
    "\n",
    "\n",
    "pipeline_Critic_Score = Pipeline([\n",
    "    \n",
    "    ('feats', FeatureUnion([\n",
    "        ('absent_critic_score', pipeline_absent_critic), \n",
    "        ('critic_score', pipeline_critic)\n",
    "    ])),\n",
    "    \n",
    "])\n",
    "\n",
    "# Process User Score\n",
    "\n",
    "pipeline_absent_user = Pipeline([\n",
    "    (\"absent_user_score\", TransformationWrapper(transformation = parse_absent)),\n",
    "    (\"encode\",LabelEncoderP()),\n",
    "])\n",
    "\n",
    "\n",
    "pipeline_user = Pipeline([\n",
    "    (\"fillna\", SimpleImputer(strategy = 'mean')),\n",
    "    (\"scaler\",StandardScaler())\n",
    "])\n",
    "\n",
    "\n",
    "pipeline_User_Score = Pipeline([\n",
    "    \n",
    "    ('feats', FeatureUnion([\n",
    "        ('absent_user_score', pipeline_absent_user), \n",
    "        ('user_score', pipeline_user)\n",
    "    ])),\n",
    "    \n",
    "])\n",
    "\n",
    "# Write the entire pipeline\n",
    "\n",
    "full_pipeline = ColumnTransformer([\n",
    "        (\"User_Count\", pipeline_User_Count, [\"User_Count\"]),\n",
    "        (\"Critic_Count\", pipeline_Critic_Count, [\"Critic_Count\"]),\n",
    "        (\"Year_of_Release\", pipeline_Year, [\"Year_of_Release\"]),\n",
    "        (\"JP_Sales\", pipeline_JP_Sales, [\"JP_Sales\"]),\n",
    "        (\"Other_Sales\", pipeline_Other_Sales, [\"Other_Sales\"]),\n",
    "        (\"Critic_Score\", pipeline_Critic_Score, [\"Critic_Score\"]),\n",
    "        (\"User_Score\", pipeline_User_Score, [\"User_Score\"]),\n",
    "        (\"Genre\", pipeline_Genre, [\"Genre\"]),\n",
    "        (\"Rating\", pipeline_rating, [\"Rating\"]),\n",
    "        (\"Publisher\", pipeline_Publisher, [\"Publisher\"]),\n",
    "        (\"Developer\", pipeline_Developer, [\"Developer\"]),\n",
    "        (\"Platform\", pipeline_platform, [\"Platform\"])\n",
    "    ])"
   ]
  },
  {
   "cell_type": "markdown",
   "metadata": {
    "colab_type": "text",
    "id": "c55YTlYskmU9"
   },
   "source": [
    "Appliquons maintenant ce pipeline sur les 2 ensembles d'entraînement et de test: "
   ]
  },
  {
   "cell_type": "code",
   "execution_count": 26,
   "metadata": {
    "colab": {},
    "colab_type": "code",
    "id": "Wr8mzmaZkmU-",
    "outputId": "84f8b067-4353-43ee-9459-71c7bd05ccdf"
   },
   "outputs": [],
   "source": [
    "import copy\n",
    "import warnings\n",
    "warnings.filterwarnings(\"ignore\")\n",
    "\n",
    "column_names = ['Present_User_Count', 'User_Count', 'Present_Critic_Count',\n",
    "                'Critic_Count', 'Present_Year_of_Release',\n",
    "                'Year_of_Release','JP_Sales', 'Other_Sales', 'Present_Critic_Score',\n",
    "                'Critic_Score','Present_User_Score',\n",
    "                'User_Score']\n",
    "\n",
    "\n",
    "for i in range(X_train.Genre.unique().size):\n",
    "    column_names.append('Genre'+str(i+1))\n",
    "\n",
    "for i in range(1,7):\n",
    "    column_names.append('Rating'+str(i))\n",
    "    \n",
    "for i in range(1,12):\n",
    "    column_names.append('Publisher'+str(i))\n",
    "\n",
    "for i in range(1,17):\n",
    "    column_names.append('Developer'+str(i))\n",
    "    \n",
    "for i in range(1,16):\n",
    "    column_names.append('Platform'+str(i))\n",
    "    \n",
    "X_train_prepared = pd.DataFrame(full_pipeline.fit_transform(X_train),columns = column_names)\n",
    "nan_series = pd.Series([np.nan for i in range(X_test.shape[1])], index=X_test.columns)\n",
    "X_test_prepared = X_test\n",
    "X_test_prepared = X_test_prepared.append(nan_series, ignore_index = True)\n",
    "X_test_prepared = pd.DataFrame(full_pipeline.fit_transform(X_test_prepared),columns = column_names)\n",
    "X_test_prepared = X_test_prepared.drop(X_test_prepared.index[len(X_test_prepared)-1])"
   ]
  },
  {
   "cell_type": "markdown",
   "metadata": {
    "colab_type": "text",
    "id": "NDOOTXXLkmVA"
   },
   "source": [
    "On voit déjà ici pourquoi on se limite dans le nombre de variables conservés : le temps de traitement est déjà relativement long avec les choix de traitement effectués plus haut. "
   ]
  },
  {
   "cell_type": "code",
   "execution_count": 27,
   "metadata": {
    "colab": {},
    "colab_type": "code",
    "id": "9EFKv4ckkmVB",
    "outputId": "230b0af7-7eb5-49aa-b042-f8635349f384"
   },
   "outputs": [
    {
     "data": {
      "text/plain": [
       "73"
      ]
     },
     "execution_count": 27,
     "metadata": {},
     "output_type": "execute_result"
    }
   ],
   "source": [
    "len(X_test_prepared.columns)"
   ]
  },
  {
   "cell_type": "code",
   "execution_count": 28,
   "metadata": {
    "colab": {},
    "colab_type": "code",
    "id": "S0JsAl9PkmVD",
    "outputId": "ca4ebd29-f7f7-42fa-d267-1c16864f46b9",
    "scrolled": true
   },
   "outputs": [
    {
     "data": {
      "text/html": [
       "<div>\n",
       "<style scoped>\n",
       "    .dataframe tbody tr th:only-of-type {\n",
       "        vertical-align: middle;\n",
       "    }\n",
       "\n",
       "    .dataframe tbody tr th {\n",
       "        vertical-align: top;\n",
       "    }\n",
       "\n",
       "    .dataframe thead th {\n",
       "        text-align: right;\n",
       "    }\n",
       "</style>\n",
       "<table border=\"1\" class=\"dataframe\">\n",
       "  <thead>\n",
       "    <tr style=\"text-align: right;\">\n",
       "      <th></th>\n",
       "      <th>Present_User_Count</th>\n",
       "      <th>User_Count</th>\n",
       "      <th>Present_Critic_Count</th>\n",
       "      <th>Critic_Count</th>\n",
       "      <th>Present_Year_of_Release</th>\n",
       "      <th>Year_of_Release</th>\n",
       "      <th>JP_Sales</th>\n",
       "      <th>Other_Sales</th>\n",
       "      <th>Present_Critic_Score</th>\n",
       "      <th>Critic_Score</th>\n",
       "      <th>...</th>\n",
       "      <th>Platform6</th>\n",
       "      <th>Platform7</th>\n",
       "      <th>Platform8</th>\n",
       "      <th>Platform9</th>\n",
       "      <th>Platform10</th>\n",
       "      <th>Platform11</th>\n",
       "      <th>Platform12</th>\n",
       "      <th>Platform13</th>\n",
       "      <th>Platform14</th>\n",
       "      <th>Platform15</th>\n",
       "    </tr>\n",
       "  </thead>\n",
       "  <tbody>\n",
       "    <tr>\n",
       "      <th>0</th>\n",
       "      <td>1.0</td>\n",
       "      <td>-0.380294</td>\n",
       "      <td>1.0</td>\n",
       "      <td>-1.171481e+00</td>\n",
       "      <td>1.0</td>\n",
       "      <td>-0.775435</td>\n",
       "      <td>-0.220556</td>\n",
       "      <td>-0.280090</td>\n",
       "      <td>1.0</td>\n",
       "      <td>-4.726214</td>\n",
       "      <td>...</td>\n",
       "      <td>0.0</td>\n",
       "      <td>0.0</td>\n",
       "      <td>0.0</td>\n",
       "      <td>0.0</td>\n",
       "      <td>0.0</td>\n",
       "      <td>0.0</td>\n",
       "      <td>0.0</td>\n",
       "      <td>0.0</td>\n",
       "      <td>0.0</td>\n",
       "      <td>0.0</td>\n",
       "    </tr>\n",
       "    <tr>\n",
       "      <th>1</th>\n",
       "      <td>1.0</td>\n",
       "      <td>-0.344527</td>\n",
       "      <td>1.0</td>\n",
       "      <td>6.520491e-01</td>\n",
       "      <td>1.0</td>\n",
       "      <td>0.240319</td>\n",
       "      <td>-0.219423</td>\n",
       "      <td>-0.162062</td>\n",
       "      <td>1.0</td>\n",
       "      <td>0.343954</td>\n",
       "      <td>...</td>\n",
       "      <td>0.0</td>\n",
       "      <td>0.0</td>\n",
       "      <td>0.0</td>\n",
       "      <td>1.0</td>\n",
       "      <td>0.0</td>\n",
       "      <td>0.0</td>\n",
       "      <td>0.0</td>\n",
       "      <td>0.0</td>\n",
       "      <td>0.0</td>\n",
       "      <td>0.0</td>\n",
       "    </tr>\n",
       "    <tr>\n",
       "      <th>2</th>\n",
       "      <td>0.0</td>\n",
       "      <td>0.000000</td>\n",
       "      <td>0.0</td>\n",
       "      <td>-2.699367e-16</td>\n",
       "      <td>1.0</td>\n",
       "      <td>-1.621897</td>\n",
       "      <td>0.439013</td>\n",
       "      <td>0.004269</td>\n",
       "      <td>0.0</td>\n",
       "      <td>0.000000</td>\n",
       "      <td>...</td>\n",
       "      <td>0.0</td>\n",
       "      <td>0.0</td>\n",
       "      <td>0.0</td>\n",
       "      <td>0.0</td>\n",
       "      <td>0.0</td>\n",
       "      <td>0.0</td>\n",
       "      <td>0.0</td>\n",
       "      <td>0.0</td>\n",
       "      <td>0.0</td>\n",
       "      <td>0.0</td>\n",
       "    </tr>\n",
       "    <tr>\n",
       "      <th>3</th>\n",
       "      <td>1.0</td>\n",
       "      <td>-0.310864</td>\n",
       "      <td>1.0</td>\n",
       "      <td>-4.876574e-01</td>\n",
       "      <td>1.0</td>\n",
       "      <td>-0.775435</td>\n",
       "      <td>-0.219623</td>\n",
       "      <td>-0.233292</td>\n",
       "      <td>1.0</td>\n",
       "      <td>1.294610</td>\n",
       "      <td>...</td>\n",
       "      <td>0.0</td>\n",
       "      <td>0.0</td>\n",
       "      <td>0.0</td>\n",
       "      <td>0.0</td>\n",
       "      <td>0.0</td>\n",
       "      <td>0.0</td>\n",
       "      <td>0.0</td>\n",
       "      <td>0.0</td>\n",
       "      <td>0.0</td>\n",
       "      <td>0.0</td>\n",
       "    </tr>\n",
       "    <tr>\n",
       "      <th>4</th>\n",
       "      <td>1.0</td>\n",
       "      <td>0.021558</td>\n",
       "      <td>1.0</td>\n",
       "      <td>3.159403e+00</td>\n",
       "      <td>1.0</td>\n",
       "      <td>0.578904</td>\n",
       "      <td>-0.220764</td>\n",
       "      <td>-0.054937</td>\n",
       "      <td>1.0</td>\n",
       "      <td>-0.606703</td>\n",
       "      <td>...</td>\n",
       "      <td>0.0</td>\n",
       "      <td>0.0</td>\n",
       "      <td>0.0</td>\n",
       "      <td>0.0</td>\n",
       "      <td>0.0</td>\n",
       "      <td>0.0</td>\n",
       "      <td>0.0</td>\n",
       "      <td>0.0</td>\n",
       "      <td>1.0</td>\n",
       "      <td>0.0</td>\n",
       "    </tr>\n",
       "  </tbody>\n",
       "</table>\n",
       "<p>5 rows × 73 columns</p>\n",
       "</div>"
      ],
      "text/plain": [
       "   Present_User_Count  User_Count  Present_Critic_Count  Critic_Count  \\\n",
       "0                 1.0   -0.380294                   1.0 -1.171481e+00   \n",
       "1                 1.0   -0.344527                   1.0  6.520491e-01   \n",
       "2                 0.0    0.000000                   0.0 -2.699367e-16   \n",
       "3                 1.0   -0.310864                   1.0 -4.876574e-01   \n",
       "4                 1.0    0.021558                   1.0  3.159403e+00   \n",
       "\n",
       "   Present_Year_of_Release  Year_of_Release  JP_Sales  Other_Sales  \\\n",
       "0                      1.0        -0.775435 -0.220556    -0.280090   \n",
       "1                      1.0         0.240319 -0.219423    -0.162062   \n",
       "2                      1.0        -1.621897  0.439013     0.004269   \n",
       "3                      1.0        -0.775435 -0.219623    -0.233292   \n",
       "4                      1.0         0.578904 -0.220764    -0.054937   \n",
       "\n",
       "   Present_Critic_Score  Critic_Score     ...      Platform6  Platform7  \\\n",
       "0                   1.0     -4.726214     ...            0.0        0.0   \n",
       "1                   1.0      0.343954     ...            0.0        0.0   \n",
       "2                   0.0      0.000000     ...            0.0        0.0   \n",
       "3                   1.0      1.294610     ...            0.0        0.0   \n",
       "4                   1.0     -0.606703     ...            0.0        0.0   \n",
       "\n",
       "   Platform8  Platform9  Platform10  Platform11  Platform12  Platform13  \\\n",
       "0        0.0        0.0         0.0         0.0         0.0         0.0   \n",
       "1        0.0        1.0         0.0         0.0         0.0         0.0   \n",
       "2        0.0        0.0         0.0         0.0         0.0         0.0   \n",
       "3        0.0        0.0         0.0         0.0         0.0         0.0   \n",
       "4        0.0        0.0         0.0         0.0         0.0         0.0   \n",
       "\n",
       "   Platform14  Platform15  \n",
       "0         0.0         0.0  \n",
       "1         0.0         0.0  \n",
       "2         0.0         0.0  \n",
       "3         0.0         0.0  \n",
       "4         1.0         0.0  \n",
       "\n",
       "[5 rows x 73 columns]"
      ]
     },
     "execution_count": 28,
     "metadata": {},
     "output_type": "execute_result"
    }
   ],
   "source": [
    "X_test_prepared.head()"
   ]
  },
  {
   "cell_type": "markdown",
   "metadata": {
    "colab_type": "text",
    "id": "d0mcHizLkmVF"
   },
   "source": [
    "Maintenant que nos données sont prêtes à exploiter, nous allons faire des premiers essais de prédiction."
   ]
  },
  {
   "cell_type": "markdown",
   "metadata": {
    "colab_type": "text",
    "id": "ME1iwZoekmVG"
   },
   "source": [
    "# III. Régression Linéaire - Choisir le meilleur sous-modèle "
   ]
  },
  {
   "cell_type": "markdown",
   "metadata": {
    "colab_type": "text",
    "id": "TVm3HClKkmVH"
   },
   "source": [
    "## A. Régression Linéaire"
   ]
  },
  {
   "cell_type": "markdown",
   "metadata": {
    "colab_type": "text",
    "id": "QTAXJdxGkmVH"
   },
   "source": [
    "Nous savons que l'apprentissage supervisé consiste à supposer que notre variable d'intérêt Y (ici Global Sales ou NA Sales) est donnée par: $Y = f(X) + \\epsilon$, où  $f$ est une fonction inconnue et non aléatoire de $X_1, . . . , X_p$, nos variables traitées dans la section précédente (dans ce cas, $p=73$). $\\epsilon$ est une erreur aléatoire supposée indépendante de X, de moyenne nulle.\n",
    "\n",
    "Dans le cadre de ce projet, nous commençons par tester le modèle de régression linéaire. Cela revient à supposer que la fonction $f$ est de la forme : $f (X) = \\beta_0 + \\beta_1 X_1 + · · · + \\beta_p X_p$. Les $\\beta$ sont les coefficients de régression. On souhaite alors estimer la fonction f par une fonction $\\tilde{f}$, ce qui revient dans ce cas à estimer les $\\beta$. La méthode la plus connue pour estimer ces paramètres est la méthode des moindres carrés. Cette méthode consiste à choisir les $\\beta$ qui minimisent le RSS : Residual Sum of Squares $RSS(\\beta) = (y - X \\beta)^T (y - X \\beta)$, où $\\beta$ est le vecteur des $(\\beta_0, \\beta_1, ..., \\beta_p)^T)$, $y$ est la variables à prédire et $X$ est la matrice des variables explicatives avec une première colonne de $1$.\n",
    "\n",
    "Utilisons alors la librairie statsmodels.api existante dans Python pour ajuster un modèle de régression linéaire pour les 2 variables cibles avec 73 variables explicatives:"
   ]
  },
  {
   "cell_type": "markdown",
   "metadata": {
    "colab_type": "text",
    "id": "Jan8ZiAJkmVH"
   },
   "source": [
    "<b> Régression linéaire pour Global Sales: </b>"
   ]
  },
  {
   "cell_type": "code",
   "execution_count": 29,
   "metadata": {
    "colab": {},
    "colab_type": "code",
    "id": "OXzhruiFkmVJ",
    "outputId": "d78b74e9-ca60-4f25-fd2c-b85a93409674",
    "scrolled": false
   },
   "outputs": [
    {
     "name": "stdout",
     "output_type": "stream",
     "text": [
      "                            OLS Regression Results                            \n",
      "==============================================================================\n",
      "Dep. Variable:           Global_Sales   R-squared:                       0.737\n",
      "Model:                            OLS   Adj. R-squared:                  0.736\n",
      "Method:                 Least Squares   F-statistic:                     595.9\n",
      "Date:                Thu, 13 Dec 2018   Prob (F-statistic):               0.00\n",
      "Time:                        23:24:51   Log-Likelihood:                -16684.\n",
      "No. Observations:               14094   AIC:                         3.350e+04\n",
      "Df Residuals:                   14027   BIC:                         3.401e+04\n",
      "Df Model:                          66                                         \n",
      "Covariance Type:            nonrobust                                         \n",
      "===========================================================================================\n",
      "                              coef    std err          t      P>|t|      [0.025      0.975]\n",
      "-------------------------------------------------------------------------------------------\n",
      "const                       0.4433      0.059      7.576      0.000       0.329       0.558\n",
      "Present_User_Count       8.339e+09   9.98e+11      0.008      0.993   -1.95e+12    1.96e+12\n",
      "User_Count                  0.0771      0.008      9.741      0.000       0.062       0.093\n",
      "Present_Critic_Count     -1.08e+10   1.29e+12     -0.008      0.993   -2.54e+12    2.52e+12\n",
      "Critic_Count                0.0403      0.009      4.515      0.000       0.023       0.058\n",
      "Present_Year_of_Release     0.0183      0.060      0.305      0.760      -0.099       0.135\n",
      "Year_of_Release            -0.0737      0.011     -7.013      0.000      -0.094      -0.053\n",
      "JP_Sales                    0.6356      0.008     78.979      0.000       0.620       0.651\n",
      "Other_Sales                 0.8946      0.008    118.477      0.000       0.880       0.909\n",
      "Present_Critic_Score      1.08e+10   1.29e+12      0.008      0.993   -2.52e+12    2.54e+12\n",
      "Critic_Score                0.0532      0.009      5.755      0.000       0.035       0.071\n",
      "Present_User_Score      -8.339e+09   9.98e+11     -0.008      0.993   -1.96e+12    1.95e+12\n",
      "User_Score                 -0.0160      0.008     -1.923      0.054      -0.032       0.000\n",
      "Genre1                  -7.625e+07   9.13e+09     -0.008      0.993    -1.8e+10    1.78e+10\n",
      "Genre2                  -7.625e+07   9.13e+09     -0.008      0.993    -1.8e+10    1.78e+10\n",
      "Genre3                  -7.625e+07   9.13e+09     -0.008      0.993    -1.8e+10    1.78e+10\n",
      "Genre4                  -7.625e+07   9.13e+09     -0.008      0.993    -1.8e+10    1.78e+10\n",
      "Genre5                  -7.625e+07   9.13e+09     -0.008      0.993    -1.8e+10    1.78e+10\n",
      "Genre6                  -7.625e+07   9.13e+09     -0.008      0.993    -1.8e+10    1.78e+10\n",
      "Genre7                  -7.625e+07   9.13e+09     -0.008      0.993    -1.8e+10    1.78e+10\n",
      "Genre8                  -7.625e+07   9.13e+09     -0.008      0.993    -1.8e+10    1.78e+10\n",
      "Genre9                  -7.625e+07   9.13e+09     -0.008      0.993    -1.8e+10    1.78e+10\n",
      "Genre10                 -7.625e+07   9.13e+09     -0.008      0.993    -1.8e+10    1.78e+10\n",
      "Genre11                 -7.625e+07   9.13e+09     -0.008      0.993    -1.8e+10    1.78e+10\n",
      "Genre12                 -7.625e+07   9.13e+09     -0.008      0.993    -1.8e+10    1.78e+10\n",
      "Genre13                 -7.625e+07   9.13e+09     -0.008      0.993    -1.8e+10    1.78e+10\n",
      "Rating1                 -1.719e+08   2.06e+10     -0.008      0.993   -4.05e+10    4.02e+10\n",
      "Rating2                 -1.719e+08   2.06e+10     -0.008      0.993   -4.05e+10    4.02e+10\n",
      "Rating3                 -1.719e+08   2.06e+10     -0.008      0.993   -4.05e+10    4.02e+10\n",
      "Rating4                 -1.719e+08   2.06e+10     -0.008      0.993   -4.05e+10    4.02e+10\n",
      "Rating5                 -1.719e+08   2.06e+10     -0.008      0.993   -4.05e+10    4.02e+10\n",
      "Rating6                 -1.719e+08   2.06e+10     -0.008      0.993   -4.05e+10    4.02e+10\n",
      "Publisher1               2.083e+08   2.49e+10      0.008      0.993   -4.87e+10    4.91e+10\n",
      "Publisher2               2.083e+08   2.49e+10      0.008      0.993   -4.87e+10    4.91e+10\n",
      "Publisher3               2.083e+08   2.49e+10      0.008      0.993   -4.87e+10    4.91e+10\n",
      "Publisher4               2.083e+08   2.49e+10      0.008      0.993   -4.87e+10    4.91e+10\n",
      "Publisher5               2.083e+08   2.49e+10      0.008      0.993   -4.87e+10    4.91e+10\n",
      "Publisher6               2.083e+08   2.49e+10      0.008      0.993   -4.87e+10    4.91e+10\n",
      "Publisher7               2.083e+08   2.49e+10      0.008      0.993   -4.87e+10    4.91e+10\n",
      "Publisher8               2.083e+08   2.49e+10      0.008      0.993   -4.87e+10    4.91e+10\n",
      "Publisher9               2.083e+08   2.49e+10      0.008      0.993   -4.87e+10    4.91e+10\n",
      "Publisher10              2.083e+08   2.49e+10      0.008      0.993   -4.87e+10    4.91e+10\n",
      "Publisher11              2.083e+08   2.49e+10      0.008      0.993   -4.87e+10    4.91e+10\n",
      "Developer1              -5.707e+07   6.83e+09     -0.008      0.993   -1.34e+10    1.33e+10\n",
      "Developer2              -5.707e+07   6.83e+09     -0.008      0.993   -1.34e+10    1.33e+10\n",
      "Developer3              -5.707e+07   6.83e+09     -0.008      0.993   -1.34e+10    1.33e+10\n",
      "Developer4              -5.707e+07   6.83e+09     -0.008      0.993   -1.34e+10    1.33e+10\n",
      "Developer5              -5.707e+07   6.83e+09     -0.008      0.993   -1.34e+10    1.33e+10\n",
      "Developer6              -5.707e+07   6.83e+09     -0.008      0.993   -1.34e+10    1.33e+10\n",
      "Developer7              -5.707e+07   6.83e+09     -0.008      0.993   -1.34e+10    1.33e+10\n",
      "Developer8              -5.707e+07   6.83e+09     -0.008      0.993   -1.34e+10    1.33e+10\n",
      "Developer9              -5.707e+07   6.83e+09     -0.008      0.993   -1.34e+10    1.33e+10\n",
      "Developer10             -5.707e+07   6.83e+09     -0.008      0.993   -1.34e+10    1.33e+10\n",
      "Developer11             -5.707e+07   6.83e+09     -0.008      0.993   -1.34e+10    1.33e+10\n",
      "Developer12             -5.707e+07   6.83e+09     -0.008      0.993   -1.34e+10    1.33e+10\n",
      "Developer13             -5.707e+07   6.83e+09     -0.008      0.993   -1.34e+10    1.33e+10\n",
      "Developer14             -5.707e+07   6.83e+09     -0.008      0.993   -1.34e+10    1.33e+10\n",
      "Developer15             -5.707e+07   6.83e+09     -0.008      0.993   -1.34e+10    1.33e+10\n",
      "Developer16             -5.707e+07   6.83e+09     -0.008      0.993   -1.34e+10    1.33e+10\n",
      "Platform1                9.692e+07   1.16e+10      0.008      0.993   -2.26e+10    2.28e+10\n",
      "Platform2                9.692e+07   1.16e+10      0.008      0.993   -2.26e+10    2.28e+10\n",
      "Platform3                9.692e+07   1.16e+10      0.008      0.993   -2.26e+10    2.28e+10\n",
      "Platform4                9.692e+07   1.16e+10      0.008      0.993   -2.26e+10    2.28e+10\n",
      "Platform5                9.692e+07   1.16e+10      0.008      0.993   -2.26e+10    2.28e+10\n",
      "Platform6                9.692e+07   1.16e+10      0.008      0.993   -2.26e+10    2.28e+10\n",
      "Platform7                9.692e+07   1.16e+10      0.008      0.993   -2.26e+10    2.28e+10\n",
      "Platform8                9.692e+07   1.16e+10      0.008      0.993   -2.26e+10    2.28e+10\n",
      "Platform9                9.692e+07   1.16e+10      0.008      0.993   -2.26e+10    2.28e+10\n",
      "Platform10               9.692e+07   1.16e+10      0.008      0.993   -2.26e+10    2.28e+10\n",
      "Platform11               9.692e+07   1.16e+10      0.008      0.993   -2.26e+10    2.28e+10\n",
      "Platform12               9.692e+07   1.16e+10      0.008      0.993   -2.26e+10    2.28e+10\n",
      "Platform13               9.692e+07   1.16e+10      0.008      0.993   -2.26e+10    2.28e+10\n",
      "Platform14               9.692e+07   1.16e+10      0.008      0.993   -2.26e+10    2.28e+10\n",
      "Platform15               9.692e+07   1.16e+10      0.008      0.993   -2.26e+10    2.28e+10\n",
      "==============================================================================\n",
      "Omnibus:                    14684.247   Durbin-Watson:                   2.003\n",
      "Prob(Omnibus):                  0.000   Jarque-Bera (JB):        210423979.265\n",
      "Skew:                           3.610   Prob(JB):                         0.00\n",
      "Kurtosis:                     601.556   Cond. No.                     1.19e+16\n",
      "==============================================================================\n",
      "\n",
      "Warnings:\n",
      "[1] Standard Errors assume that the covariance matrix of the errors is correctly specified.\n",
      "[2] The smallest eigenvalue is 4.38e-28. This might indicate that there are\n",
      "strong multicollinearity problems or that the design matrix is singular.\n"
     ]
    }
   ],
   "source": [
    "import statsmodels.api as sm\n",
    "X = sm.add_constant(X_train_prepared)\n",
    "model_global_sales = sm.OLS(y_train.Global_Sales, X).fit()\n",
    "model_na_sales = sm.OLS(y_train.NA_Sales, X).fit()\n",
    "\n",
    "print(model_global_sales.summary())"
   ]
  },
  {
   "cell_type": "markdown",
   "metadata": {
    "colab_type": "text",
    "id": "jrd65DUukmVO"
   },
   "source": [
    "<b> Analyse: </b> Le sommaire est très riche et nous permet de faire une analyse détaillée. En effet:\n",
    "\n",
    "- le $R^2$, définie en tant que le rapport de la variabilité expliquée par le modèle sur la variabilité totale, est égal à 0.736. Cela signifie que le modèle de régression linéaire arrive à expliquer 73% de la variabilité, ce qui est un pourcentage plutôt admissible.\n",
    "- le $R^2$ ajusté, qui est un indice adapté de $R^2$ en prenant en compte le nombre de variables est aussi de 73%, ce qui représente unbon pourcentage.\n",
    "- Le test statistique F qui permet de dire si la régression linéaire est significative a une p-value < 5%. Cela nous permet de rejeter l'hypothèse nulle, qui affirme que la régression linéaire n'est pas significative.\n",
    "- Nous remarquons par contre que les p-values des différentes variables explicatives ne sont pas toutes inférieures au seuil critique que nous choisissons de 5% $\\implies$ une réduction du nombre des variables s'impose par la suite.\n",
    "- Le 2ème warning indique qu'il est possible que la multicolinéarité soit présente pour notre problème. Encore une fois, une réduction du nombre des variables s'impose par la suite.\n",
    "\n",
    "Passons maintenant à l'analyse des résultats pour NA Sales:"
   ]
  },
  {
   "cell_type": "markdown",
   "metadata": {
    "colab_type": "text",
    "id": "OC4smjQnkmVO"
   },
   "source": [
    "<b> Régression linéaire pour NA Sales: </b>"
   ]
  },
  {
   "cell_type": "code",
   "execution_count": 30,
   "metadata": {
    "colab": {},
    "colab_type": "code",
    "id": "iG4EdovskmVP",
    "outputId": "9f34f04e-af72-48de-e78a-3689869edf56"
   },
   "outputs": [
    {
     "name": "stdout",
     "output_type": "stream",
     "text": [
      "                            OLS Regression Results                            \n",
      "==============================================================================\n",
      "Dep. Variable:               NA_Sales   R-squared:                       0.512\n",
      "Model:                            OLS   Adj. R-squared:                  0.510\n",
      "Method:                 Least Squares   F-statistic:                     223.4\n",
      "Date:                Thu, 13 Dec 2018   Prob (F-statistic):               0.00\n",
      "Time:                        23:24:51   Log-Likelihood:                -12352.\n",
      "No. Observations:               14094   AIC:                         2.484e+04\n",
      "Df Residuals:                   14027   BIC:                         2.534e+04\n",
      "Df Model:                          66                                         \n",
      "Covariance Type:            nonrobust                                         \n",
      "===========================================================================================\n",
      "                              coef    std err          t      P>|t|      [0.025      0.975]\n",
      "-------------------------------------------------------------------------------------------\n",
      "const                       0.2663      0.043      6.189      0.000       0.182       0.351\n",
      "Present_User_Count       1.533e+09   7.34e+11      0.002      0.998   -1.44e+12    1.44e+12\n",
      "User_Count                  0.0377      0.006      6.472      0.000       0.026       0.049\n",
      "Present_Critic_Count    -1.985e+09    9.5e+11     -0.002      0.998   -1.86e+12    1.86e+12\n",
      "Critic_Count                0.0248      0.007      3.780      0.000       0.012       0.038\n",
      "Present_Year_of_Release    -0.0020      0.044     -0.046      0.963      -0.088       0.084\n",
      "Year_of_Release            -0.0788      0.008    -10.185      0.000      -0.094      -0.064\n",
      "JP_Sales                    0.2291      0.006     38.719      0.000       0.218       0.241\n",
      "Other_Sales                 0.4170      0.006     75.098      0.000       0.406       0.428\n",
      "Present_Critic_Score     1.985e+09    9.5e+11      0.002      0.998   -1.86e+12    1.86e+12\n",
      "Critic_Score                0.0355      0.007      5.217      0.000       0.022       0.049\n",
      "Present_User_Score      -1.533e+09   7.34e+11     -0.002      0.998   -1.44e+12    1.44e+12\n",
      "User_Score                 -0.0075      0.006     -1.225      0.221      -0.019       0.004\n",
      "Genre1                  -1.402e+07   6.71e+09     -0.002      0.998   -1.32e+10    1.31e+10\n",
      "Genre2                  -1.402e+07   6.71e+09     -0.002      0.998   -1.32e+10    1.31e+10\n",
      "Genre3                  -1.402e+07   6.71e+09     -0.002      0.998   -1.32e+10    1.31e+10\n",
      "Genre4                  -1.402e+07   6.71e+09     -0.002      0.998   -1.32e+10    1.31e+10\n",
      "Genre5                  -1.402e+07   6.71e+09     -0.002      0.998   -1.32e+10    1.31e+10\n",
      "Genre6                  -1.402e+07   6.71e+09     -0.002      0.998   -1.32e+10    1.31e+10\n",
      "Genre7                  -1.402e+07   6.71e+09     -0.002      0.998   -1.32e+10    1.31e+10\n",
      "Genre8                  -1.402e+07   6.71e+09     -0.002      0.998   -1.32e+10    1.31e+10\n",
      "Genre9                  -1.402e+07   6.71e+09     -0.002      0.998   -1.32e+10    1.31e+10\n",
      "Genre10                 -1.402e+07   6.71e+09     -0.002      0.998   -1.32e+10    1.31e+10\n",
      "Genre11                 -1.402e+07   6.71e+09     -0.002      0.998   -1.32e+10    1.31e+10\n",
      "Genre12                 -1.402e+07   6.71e+09     -0.002      0.998   -1.32e+10    1.31e+10\n",
      "Genre13                 -1.402e+07   6.71e+09     -0.002      0.998   -1.32e+10    1.31e+10\n",
      "Rating1                  -3.16e+07   1.51e+10     -0.002      0.998   -2.97e+10    2.96e+10\n",
      "Rating2                  -3.16e+07   1.51e+10     -0.002      0.998   -2.97e+10    2.96e+10\n",
      "Rating3                  -3.16e+07   1.51e+10     -0.002      0.998   -2.97e+10    2.96e+10\n",
      "Rating4                  -3.16e+07   1.51e+10     -0.002      0.998   -2.97e+10    2.96e+10\n",
      "Rating5                  -3.16e+07   1.51e+10     -0.002      0.998   -2.97e+10    2.96e+10\n",
      "Rating6                  -3.16e+07   1.51e+10     -0.002      0.998   -2.97e+10    2.96e+10\n",
      "Publisher1               3.829e+07   1.83e+10      0.002      0.998   -3.59e+10     3.6e+10\n",
      "Publisher2               3.829e+07   1.83e+10      0.002      0.998   -3.59e+10     3.6e+10\n",
      "Publisher3               3.829e+07   1.83e+10      0.002      0.998   -3.59e+10     3.6e+10\n",
      "Publisher4               3.829e+07   1.83e+10      0.002      0.998   -3.59e+10     3.6e+10\n",
      "Publisher5               3.829e+07   1.83e+10      0.002      0.998   -3.59e+10     3.6e+10\n",
      "Publisher6               3.829e+07   1.83e+10      0.002      0.998   -3.59e+10     3.6e+10\n",
      "Publisher7               3.829e+07   1.83e+10      0.002      0.998   -3.59e+10     3.6e+10\n",
      "Publisher8               3.829e+07   1.83e+10      0.002      0.998   -3.59e+10     3.6e+10\n",
      "Publisher9               3.829e+07   1.83e+10      0.002      0.998   -3.59e+10     3.6e+10\n",
      "Publisher10              3.829e+07   1.83e+10      0.002      0.998   -3.59e+10     3.6e+10\n",
      "Publisher11              3.829e+07   1.83e+10      0.002      0.998   -3.59e+10     3.6e+10\n",
      "Developer1              -1.049e+07   5.02e+09     -0.002      0.998   -9.86e+09    9.84e+09\n",
      "Developer2              -1.049e+07   5.02e+09     -0.002      0.998   -9.86e+09    9.84e+09\n",
      "Developer3              -1.049e+07   5.02e+09     -0.002      0.998   -9.86e+09    9.84e+09\n",
      "Developer4              -1.049e+07   5.02e+09     -0.002      0.998   -9.86e+09    9.84e+09\n",
      "Developer5              -1.049e+07   5.02e+09     -0.002      0.998   -9.86e+09    9.84e+09\n",
      "Developer6              -1.049e+07   5.02e+09     -0.002      0.998   -9.86e+09    9.84e+09\n",
      "Developer7              -1.049e+07   5.02e+09     -0.002      0.998   -9.86e+09    9.84e+09\n",
      "Developer8              -1.049e+07   5.02e+09     -0.002      0.998   -9.86e+09    9.84e+09\n",
      "Developer9              -1.049e+07   5.02e+09     -0.002      0.998   -9.86e+09    9.84e+09\n",
      "Developer10             -1.049e+07   5.02e+09     -0.002      0.998   -9.86e+09    9.84e+09\n",
      "Developer11             -1.049e+07   5.02e+09     -0.002      0.998   -9.86e+09    9.84e+09\n",
      "Developer12             -1.049e+07   5.02e+09     -0.002      0.998   -9.86e+09    9.84e+09\n",
      "Developer13             -1.049e+07   5.02e+09     -0.002      0.998   -9.86e+09    9.84e+09\n",
      "Developer14             -1.049e+07   5.02e+09     -0.002      0.998   -9.86e+09    9.84e+09\n",
      "Developer15             -1.049e+07   5.02e+09     -0.002      0.998   -9.86e+09    9.84e+09\n",
      "Developer16             -1.049e+07   5.02e+09     -0.002      0.998   -9.86e+09    9.84e+09\n",
      "Platform1                1.782e+07   8.53e+09      0.002      0.998   -1.67e+10    1.67e+10\n",
      "Platform2                1.782e+07   8.53e+09      0.002      0.998   -1.67e+10    1.67e+10\n",
      "Platform3                1.782e+07   8.53e+09      0.002      0.998   -1.67e+10    1.67e+10\n",
      "Platform4                1.782e+07   8.53e+09      0.002      0.998   -1.67e+10    1.67e+10\n",
      "Platform5                1.782e+07   8.53e+09      0.002      0.998   -1.67e+10    1.67e+10\n",
      "Platform6                1.782e+07   8.53e+09      0.002      0.998   -1.67e+10    1.67e+10\n",
      "Platform7                1.782e+07   8.53e+09      0.002      0.998   -1.67e+10    1.67e+10\n",
      "Platform8                1.782e+07   8.53e+09      0.002      0.998   -1.67e+10    1.67e+10\n",
      "Platform9                1.782e+07   8.53e+09      0.002      0.998   -1.67e+10    1.67e+10\n",
      "Platform10               1.782e+07   8.53e+09      0.002      0.998   -1.67e+10    1.67e+10\n",
      "Platform11               1.782e+07   8.53e+09      0.002      0.998   -1.67e+10    1.67e+10\n",
      "Platform12               1.782e+07   8.53e+09      0.002      0.998   -1.67e+10    1.67e+10\n",
      "Platform13               1.782e+07   8.53e+09      0.002      0.998   -1.67e+10    1.67e+10\n",
      "Platform14               1.782e+07   8.53e+09      0.002      0.998   -1.67e+10    1.67e+10\n",
      "Platform15               1.782e+07   8.53e+09      0.002      0.998   -1.67e+10    1.67e+10\n",
      "==============================================================================\n",
      "Omnibus:                    26079.148   Durbin-Watson:                   2.004\n",
      "Prob(Omnibus):                  0.000   Jarque-Bera (JB):        215387699.203\n",
      "Skew:                          13.144   Prob(JB):                         0.00\n",
      "Kurtosis:                     608.047   Cond. No.                     1.19e+16\n",
      "==============================================================================\n",
      "\n",
      "Warnings:\n",
      "[1] Standard Errors assume that the covariance matrix of the errors is correctly specified.\n",
      "[2] The smallest eigenvalue is 4.38e-28. This might indicate that there are\n",
      "strong multicollinearity problems or that the design matrix is singular.\n"
     ]
    }
   ],
   "source": [
    "print(model_na_sales.summary())"
   ]
  },
  {
   "cell_type": "markdown",
   "metadata": {
    "colab_type": "text",
    "id": "CW6oIinjkmVS"
   },
   "source": [
    "<b> Analyse: </b> Pour cette 2ème variable cible, nous constatons que:\n",
    "\n",
    "- le $R^2$ est égal à 0.509. Cela signifie que le modèle de régression linéaire explique seulement 50% de la variabilité de la varible cible, ce qui est un pourcentage plutôt faible.\n",
    "- le $R^2$ ajusté est aussi de l'ordre de 50% : pourcentage faible également.\n",
    "- Le test statistique F qui permet de dire si la régression linéaire est significative a une p-value < 5%. Cela nous permet de rejeter l'hypothèse nulle, qui affirme que la régression linéaire n'est pas significative. Donc la régression est significative même si le $R^2$ ajusté est faible.\n",
    "- Comme pour le cas précédent, nous remarquons par contre que les p-values des différentes variables explicatives ne sont pas toutes inférieures au seuil critique que nous choisissons de 5% $\\implies$ une réduction du nombre des variables s'impose par la suite.\n",
    "- Comme pour le cas précédent, le 2ème warning indique qu'il est possible que la multicolinéarité soit présente pour notre problème. Encore une fois, une réduction du nombre des variables s'impose par la suite."
   ]
  },
  {
   "cell_type": "markdown",
   "metadata": {
    "colab_type": "text",
    "id": "wOz3xf38kmVS"
   },
   "source": [
    "Nous avons obtenu des résultats moyens en utilisons ce modèle simple. Dans la section suivante, nous allons essayer de sélectionner un sous-ensemble de variables qui permettrait d'améliorer le $R^2$ ajusté."
   ]
  },
  {
   "cell_type": "markdown",
   "metadata": {
    "colab_type": "text",
    "id": "CMEGi5XBkmVT"
   },
   "source": [
    "## B. Choisir le meilleur sous-modèle "
   ]
  },
  {
   "cell_type": "markdown",
   "metadata": {
    "colab_type": "text",
    "id": "T5OEdx9hkmVT"
   },
   "source": [
    "### III.1 Sélection par meilleur sous-ensemble en comparant tous les sous-ensembles"
   ]
  },
  {
   "cell_type": "markdown",
   "metadata": {
    "colab_type": "text",
    "id": "cIkjY9hRkmVU"
   },
   "source": [
    "Une manière efficace de choisir le meilleur sous-ensemble de variables serait d'ajuster tous les modèles de régression possibles à p variables, p allant de 0 à 73. Cependant, ce n'est pas raisonnable de faire cela. La dataframe préparée contient 73 variables. Cela fait $2^{73}$ modèles à comparer !!! Nous allons alors avoir recours à une sélection ascendante des variables à garder."
   ]
  },
  {
   "cell_type": "markdown",
   "metadata": {
    "colab_type": "text",
    "id": "DnMhBBhvkmVV"
   },
   "source": [
    "### III.2 Méthode de sélection ascendante"
   ]
  },
  {
   "cell_type": "markdown",
   "metadata": {
    "colab_type": "text",
    "id": "a-kp06B_kmVV"
   },
   "source": [
    "La sélection débute avec le modèle sans variable, on y ajoute successivement des variables. \n",
    "\n",
    "L'algorithme utilisé est le suivant:\n",
    "\n",
    "1. On note $M_0$ le modèle sans variables,\n",
    "2. Pour k = 1, 2, . . . , p − 1\n",
    " - 2.1 on considère tous les p − k modèles qui augmentent de 1 le nombre de variables dans $M_k$\n",
    " - 2.2 on choisit le meilleur des p − k modèles, noté $M_{k+1}$, selon le RSS .\n",
    "3. on choisit le meilleur modèle parmi M_0,M_1, . . . ,M_p par validation croisée avec des critères tels que R2_ajusté ,C_p, BIC et AIC présentés plus tard."
   ]
  },
  {
   "cell_type": "markdown",
   "metadata": {
    "colab_type": "text",
    "id": "hjqI-KkfkmVX"
   },
   "source": [
    "#### III.2.1 Méthode de sélection ascendante - Pour NA Sales \n"
   ]
  },
  {
   "cell_type": "markdown",
   "metadata": {
    "colab_type": "text",
    "id": "N8aVCO72kmVY"
   },
   "source": [
    "Le code suivant permet de faire la sélection du meilleur modèle consistitué de $p$ variables, p allant de 1 à 73:"
   ]
  },
  {
   "cell_type": "code",
   "execution_count": 31,
   "metadata": {
    "colab": {},
    "colab_type": "code",
    "id": "zD1qcO43kmVY"
   },
   "outputs": [],
   "source": [
    "import itertools\n",
    "\n",
    "\n",
    "def fit_linear_reg(X,Y):\n",
    "    #Fit linear regression model and return RSS and R squared values\n",
    "    model_k = linear_model.LinearRegression(fit_intercept = True)\n",
    "    model_k.fit(X,Y)\n",
    "    RSS = mean_squared_error(Y,model_k.predict(X)) * len(Y)\n",
    "    R_squared = model_k.score(X,Y)\n",
    "    return RSS, R_squared\n",
    "\n",
    "\n",
    "#Initialization variables\n",
    "Y = y_train[[\"NA_Sales\"]]\n",
    "X = X_train_prepared\n",
    "k = 73\n",
    "\n",
    "remaining_features = list(X.columns.values)\n",
    "features = []\n",
    "RSS_list, R_squared_list = [np.inf], [np.inf] #Due to 1 indexing of the loop...\n",
    "features_list = dict()\n",
    "\n",
    "for i in range(1,k+1):\n",
    "    best_RSS = np.inf\n",
    "    \n",
    "    for combo in itertools.combinations(remaining_features,1):\n",
    "\n",
    "            RSS = fit_linear_reg(X[list(combo) + features],Y)   #Store temp result \n",
    "\n",
    "            if RSS[0] < best_RSS:\n",
    "                best_RSS = RSS[0]\n",
    "                best_R_squared = RSS[1] \n",
    "                best_feature = combo[0]\n",
    "\n",
    "    #Updating variables for next loop\n",
    "    features.append(best_feature)\n",
    "    remaining_features.remove(best_feature)\n",
    "    \n",
    "    #Saving values for plotting\n",
    "    RSS_list.append(best_RSS)\n",
    "    R_squared_list.append(best_R_squared)\n",
    "    features_list[i] = features.copy()"
   ]
  },
  {
   "cell_type": "code",
   "execution_count": 32,
   "metadata": {
    "colab": {},
    "colab_type": "code",
    "id": "IjJZlF9ZkmVa",
    "outputId": "4f8db556-dbc2-4540-8906-d3b3606664fd"
   },
   "outputs": [
    {
     "name": "stdout",
     "output_type": "stream",
     "text": [
      "Forward stepwise subset selection\n",
      "Number of features | Features | RSS\n"
     ]
    },
    {
     "data": {
      "text/plain": [
       "[(1, ['Other_Sales'], 5970.0),\n",
       " (2, ['Other_Sales', 'JP_Sales'], 5215.0),\n",
       " (3, ['Other_Sales', 'JP_Sales', 'Platform14'], 5159.0),\n",
       " (4, ['Other_Sales', 'JP_Sales', 'Platform14', 'Year_of_Release'], 5099.0)]"
      ]
     },
     "metadata": {},
     "output_type": "display_data"
    }
   ],
   "source": [
    "print('Forward stepwise subset selection')\n",
    "print('Number of features |', 'Features |', 'RSS')\n",
    "display([(i,features_list[i], round(RSS_list[i])) for i in range(1,5)])"
   ]
  },
  {
   "cell_type": "code",
   "execution_count": 33,
   "metadata": {
    "colab": {},
    "colab_type": "code",
    "id": "5R__y44UkmVb"
   },
   "outputs": [],
   "source": [
    "df1 = pd.concat([pd.DataFrame({'features':features_list}),pd.DataFrame({'RSS':RSS_list, 'R_squared': R_squared_list})], axis=1, join='inner')\n",
    "df1['numb_features'] = df1.index"
   ]
  },
  {
   "cell_type": "code",
   "execution_count": 34,
   "metadata": {
    "colab": {},
    "colab_type": "code",
    "id": "9oLnLRTEkmVe",
    "outputId": "22776869-4986-4657-bc69-32ad685a7720",
    "scrolled": false
   },
   "outputs": [
    {
     "data": {
      "text/html": [
       "<div>\n",
       "<style scoped>\n",
       "    .dataframe tbody tr th:only-of-type {\n",
       "        vertical-align: middle;\n",
       "    }\n",
       "\n",
       "    .dataframe tbody tr th {\n",
       "        vertical-align: top;\n",
       "    }\n",
       "\n",
       "    .dataframe thead th {\n",
       "        text-align: right;\n",
       "    }\n",
       "</style>\n",
       "<table border=\"1\" class=\"dataframe\">\n",
       "  <thead>\n",
       "    <tr style=\"text-align: right;\">\n",
       "      <th></th>\n",
       "      <th>features</th>\n",
       "      <th>RSS</th>\n",
       "      <th>R_squared</th>\n",
       "      <th>numb_features</th>\n",
       "      <th>C_p</th>\n",
       "      <th>AIC</th>\n",
       "      <th>BIC</th>\n",
       "      <th>R_squared_adj</th>\n",
       "    </tr>\n",
       "  </thead>\n",
       "  <tbody>\n",
       "    <tr>\n",
       "      <th>1</th>\n",
       "      <td>[Other_Sales]</td>\n",
       "      <td>5969.775287</td>\n",
       "      <td>0.388774</td>\n",
       "      <td>1</td>\n",
       "      <td>0.423617</td>\n",
       "      <td>1.247263</td>\n",
       "      <td>1.247799</td>\n",
       "      <td>0.388731</td>\n",
       "    </tr>\n",
       "    <tr>\n",
       "      <th>2</th>\n",
       "      <td>[Other_Sales, JP_Sales]</td>\n",
       "      <td>5214.712633</td>\n",
       "      <td>0.466083</td>\n",
       "      <td>2</td>\n",
       "      <td>0.370092</td>\n",
       "      <td>1.089668</td>\n",
       "      <td>1.090740</td>\n",
       "      <td>0.466007</td>\n",
       "    </tr>\n",
       "    <tr>\n",
       "      <th>3</th>\n",
       "      <td>[Other_Sales, JP_Sales, Platform14]</td>\n",
       "      <td>5159.099598</td>\n",
       "      <td>0.471777</td>\n",
       "      <td>3</td>\n",
       "      <td>0.366194</td>\n",
       "      <td>1.078192</td>\n",
       "      <td>1.079799</td>\n",
       "      <td>0.471664</td>\n",
       "    </tr>\n",
       "    <tr>\n",
       "      <th>4</th>\n",
       "      <td>[Other_Sales, JP_Sales, Platform14, Year_of_Re...</td>\n",
       "      <td>5098.504732</td>\n",
       "      <td>0.477981</td>\n",
       "      <td>4</td>\n",
       "      <td>0.361943</td>\n",
       "      <td>1.065675</td>\n",
       "      <td>1.067819</td>\n",
       "      <td>0.477833</td>\n",
       "    </tr>\n",
       "    <tr>\n",
       "      <th>5</th>\n",
       "      <td>[Other_Sales, JP_Sales, Platform14, Year_of_Re...</td>\n",
       "      <td>5051.237807</td>\n",
       "      <td>0.482820</td>\n",
       "      <td>5</td>\n",
       "      <td>0.358637</td>\n",
       "      <td>1.055943</td>\n",
       "      <td>1.058622</td>\n",
       "      <td>0.482637</td>\n",
       "    </tr>\n",
       "  </tbody>\n",
       "</table>\n",
       "</div>"
      ],
      "text/plain": [
       "                                            features          RSS  R_squared  \\\n",
       "1                                      [Other_Sales]  5969.775287   0.388774   \n",
       "2                            [Other_Sales, JP_Sales]  5214.712633   0.466083   \n",
       "3                [Other_Sales, JP_Sales, Platform14]  5159.099598   0.471777   \n",
       "4  [Other_Sales, JP_Sales, Platform14, Year_of_Re...  5098.504732   0.477981   \n",
       "5  [Other_Sales, JP_Sales, Platform14, Year_of_Re...  5051.237807   0.482820   \n",
       "\n",
       "   numb_features       C_p       AIC       BIC  R_squared_adj  \n",
       "1              1  0.423617  1.247263  1.247799       0.388731  \n",
       "2              2  0.370092  1.089668  1.090740       0.466007  \n",
       "3              3  0.366194  1.078192  1.079799       0.471664  \n",
       "4              4  0.361943  1.065675  1.067819       0.477833  \n",
       "5              5  0.358637  1.055943  1.058622       0.482637  "
      ]
     },
     "execution_count": 34,
     "metadata": {},
     "output_type": "execute_result"
    }
   ],
   "source": [
    "#Initializing useful variables\n",
    "m = len(Y)\n",
    "p = 73\n",
    "hat_sigma_squared = (1/(m - p -1)) * min(df1['RSS'])\n",
    "\n",
    "#Computing\n",
    "df1['C_p'] = (1/m) * (df1['RSS'] + 2 * df1['numb_features'] * hat_sigma_squared )\n",
    "df1['AIC'] = (1/(m*hat_sigma_squared)) * (df1['RSS'] + 2 * df1['numb_features'] * hat_sigma_squared )\n",
    "df1['BIC'] = (1/(m*hat_sigma_squared)) * (df1['RSS'] +  np.log(m) * df1['numb_features'] * hat_sigma_squared )\n",
    "df1['R_squared_adj'] = 1 - ( (1 - df1['R_squared'])*(m-1)/(m-df1['numb_features'] -1))\n",
    "df1.head()"
   ]
  },
  {
   "cell_type": "markdown",
   "metadata": {
    "colab_type": "text",
    "id": "4gcqrdxwkmVh"
   },
   "source": [
    "Le tableau ci-dessus donne les variables à sélectionner pour un nombre de variables allant de 1 à 4. Nous avons remarqué pour la matrice de corrélation que Other Sales et JP Sales sont les variables les plus corréléés avec nos variables cibles. Cela est confirmé par le tableau ci-dessus."
   ]
  },
  {
   "cell_type": "code",
   "execution_count": 35,
   "metadata": {
    "colab": {},
    "colab_type": "code",
    "id": "ZpxhSwlmkmVi",
    "outputId": "70467707-fcd3-457c-d765-fc98d3d6f408"
   },
   "outputs": [
    {
     "name": "stdout",
     "output_type": "stream",
     "text": [
      "47\n",
      "0.5106763976068112\n"
     ]
    }
   ],
   "source": [
    "print(df1['R_squared_adj'].idxmax())\n",
    "print(df1['R_squared_adj'].max())"
   ]
  },
  {
   "cell_type": "markdown",
   "metadata": {
    "colab_type": "text",
    "id": "XyRVM4eAkmVl"
   },
   "source": [
    "Le meilleur R^2 ajusté est de 50% pour 41 variables. Cela ne représente pas une grande amélioration par rapport à la section précédente."
   ]
  },
  {
   "cell_type": "markdown",
   "metadata": {
    "colab_type": "text",
    "id": "RCmfrNZSkmVl"
   },
   "source": [
    "Visualisons maintenant l'évolution des 4 indices: $C_p$, AIC, BIC et $R^2$ ajusté en fonction du nombre des variables:"
   ]
  },
  {
   "cell_type": "code",
   "execution_count": 36,
   "metadata": {
    "colab": {},
    "colab_type": "code",
    "id": "fVGaSYPokmVm",
    "outputId": "4a3a7897-3488-425e-fd41-402f01cd0a0f",
    "scrolled": false
   },
   "outputs": [
    {
     "data": {
      "image/png": "[encoded data removed]",
      "text/plain": [
       "<Figure size 1296x432 with 4 Axes>"
      ]
     },
     "metadata": {
      "needs_background": "light"
     },
     "output_type": "display_data"
    }
   ],
   "source": [
    "variables = ['C_p', 'AIC','BIC','R_squared_adj']\n",
    "fig = plt.figure(figsize = (18,6))\n",
    "\n",
    "for i,v in enumerate(variables):\n",
    "    ax = fig.add_subplot(1, 4, i+1)\n",
    "    ax.plot(df1['numb_features'],df1[v], color = 'lightblue')\n",
    "    ax.scatter(df1['numb_features'],df1[v], color = 'darkblue')\n",
    "    if v == 'R_squared_adj':\n",
    "        ax.plot(df1[v].idxmax(),df1[v].max(), marker = 'x', markersize = 20)\n",
    "    else:\n",
    "        ax.plot(df1[v].idxmin(),df1[v].min(), marker = 'x', markersize = 20)\n",
    "    ax.set_xlabel('Number of predictors')\n",
    "    ax.set_ylabel(v)\n",
    "\n",
    "fig.suptitle('Subset selection using C_p, AIC, BIC, Adjusted R2', fontsize = 16)\n",
    "plt.show()"
   ]
  },
  {
   "cell_type": "markdown",
   "metadata": {
    "colab_type": "text",
    "id": "CKHkGgXNkmVo"
   },
   "source": [
    "Les 4 indices indiquent que le nombre optimal de variables à choisir est entre 20 et 40. Nous choissons le R^2 ajusté pour sélectionner le sous ensemble des variables à garder, soit 47 variables avec un R^2 ajusté de 51%"
   ]
  },
  {
   "cell_type": "markdown",
   "metadata": {
    "colab_type": "text",
    "id": "byIsHwCkkmVo"
   },
   "source": [
    "#### III.2.2  Méthode de sélection ascendante - Pour Global Sales\n"
   ]
  },
  {
   "cell_type": "markdown",
   "metadata": {
    "colab_type": "text",
    "id": "FSV0NXGpkmVp"
   },
   "source": [
    "On refait une sélection de variables ascendante pour Global Sales:"
   ]
  },
  {
   "cell_type": "code",
   "execution_count": 37,
   "metadata": {
    "colab": {},
    "colab_type": "code",
    "id": "IGXpZJETkmVp"
   },
   "outputs": [],
   "source": [
    "#Initialization variables\n",
    "Y = y_train[[\"Global_Sales\"]]\n",
    "X = X_train_prepared\n",
    "k = 73\n",
    "\n",
    "remaining_features = list(X.columns.values)\n",
    "features = []\n",
    "RSS_list, R_squared_list = [np.inf], [np.inf] #Due to 1 indexing of the loop...\n",
    "features_list = dict()\n",
    "\n",
    "for i in range(1,k+1):\n",
    "    best_RSS = np.inf\n",
    "    \n",
    "    for combo in itertools.combinations(remaining_features,1):\n",
    "\n",
    "            RSS = fit_linear_reg(X[list(combo) + features],Y)   #Store temp result \n",
    "\n",
    "            if RSS[0] < best_RSS:\n",
    "                best_RSS = RSS[0]\n",
    "                best_R_squared = RSS[1] \n",
    "                best_feature = combo[0]\n",
    "\n",
    "    #Updating variables for next loop\n",
    "    features.append(best_feature)\n",
    "    remaining_features.remove(best_feature)\n",
    "    \n",
    "    #Saving values for plotting\n",
    "    RSS_list.append(best_RSS)\n",
    "    R_squared_list.append(best_R_squared)\n",
    "    features_list[i] = features.copy()"
   ]
  },
  {
   "cell_type": "code",
   "execution_count": 38,
   "metadata": {
    "colab": {},
    "colab_type": "code",
    "id": "Q-bAiCfOkmVs",
    "outputId": "e473199c-c4b8-4761-89d3-f65e2aa1044f",
    "scrolled": true
   },
   "outputs": [
    {
     "name": "stdout",
     "output_type": "stream",
     "text": [
      "Forward stepwise subset selection\n",
      "Number of features | Features | RSS\n"
     ]
    },
    {
     "data": {
      "text/plain": [
       "[(1, ['Other_Sales'], 15173.0),\n",
       " (2, ['Other_Sales', 'JP_Sales'], 9729.0),\n",
       " (3, ['Other_Sales', 'JP_Sales', 'Developer8'], 9551.0),\n",
       " (4, ['Other_Sales', 'JP_Sales', 'Developer8', 'Critic_Count'], 9456.0)]"
      ]
     },
     "metadata": {},
     "output_type": "display_data"
    }
   ],
   "source": [
    "print('Forward stepwise subset selection')\n",
    "print('Number of features |', 'Features |', 'RSS')\n",
    "display([(i,features_list[i], round(RSS_list[i])) for i in range(1,5)])"
   ]
  },
  {
   "cell_type": "code",
   "execution_count": 39,
   "metadata": {
    "colab": {},
    "colab_type": "code",
    "id": "Y114TtPQkmVw"
   },
   "outputs": [],
   "source": [
    "df1 = pd.concat([pd.DataFrame({'features':features_list}),pd.DataFrame({'RSS':RSS_list, 'R_squared': R_squared_list})], axis=1, join='inner')\n",
    "df1['numb_features'] = df1.index"
   ]
  },
  {
   "cell_type": "code",
   "execution_count": 40,
   "metadata": {
    "colab": {},
    "colab_type": "code",
    "id": "UAvfNMmnkmVy",
    "outputId": "862afac8-4d3f-486c-9cc4-5cd344695456",
    "scrolled": false
   },
   "outputs": [
    {
     "data": {
      "text/html": [
       "<div>\n",
       "<style scoped>\n",
       "    .dataframe tbody tr th:only-of-type {\n",
       "        vertical-align: middle;\n",
       "    }\n",
       "\n",
       "    .dataframe tbody tr th {\n",
       "        vertical-align: top;\n",
       "    }\n",
       "\n",
       "    .dataframe thead th {\n",
       "        text-align: right;\n",
       "    }\n",
       "</style>\n",
       "<table border=\"1\" class=\"dataframe\">\n",
       "  <thead>\n",
       "    <tr style=\"text-align: right;\">\n",
       "      <th></th>\n",
       "      <th>features</th>\n",
       "      <th>RSS</th>\n",
       "      <th>R_squared</th>\n",
       "      <th>numb_features</th>\n",
       "      <th>C_p</th>\n",
       "      <th>AIC</th>\n",
       "      <th>BIC</th>\n",
       "      <th>R_squared_adj</th>\n",
       "    </tr>\n",
       "  </thead>\n",
       "  <tbody>\n",
       "    <tr>\n",
       "      <th>1</th>\n",
       "      <td>[Other_Sales]</td>\n",
       "      <td>15173.315349</td>\n",
       "      <td>0.547012</td>\n",
       "      <td>1</td>\n",
       "      <td>1.076669</td>\n",
       "      <td>1.714215</td>\n",
       "      <td>1.714751</td>\n",
       "      <td>0.546980</td>\n",
       "    </tr>\n",
       "    <tr>\n",
       "      <th>2</th>\n",
       "      <td>[Other_Sales, JP_Sales]</td>\n",
       "      <td>9728.880440</td>\n",
       "      <td>0.709552</td>\n",
       "      <td>2</td>\n",
       "      <td>0.690464</td>\n",
       "      <td>1.099319</td>\n",
       "      <td>1.100391</td>\n",
       "      <td>0.709510</td>\n",
       "    </tr>\n",
       "    <tr>\n",
       "      <th>3</th>\n",
       "      <td>[Other_Sales, JP_Sales, Developer8]</td>\n",
       "      <td>9550.904469</td>\n",
       "      <td>0.714865</td>\n",
       "      <td>3</td>\n",
       "      <td>0.677925</td>\n",
       "      <td>1.079356</td>\n",
       "      <td>1.080964</td>\n",
       "      <td>0.714804</td>\n",
       "    </tr>\n",
       "    <tr>\n",
       "      <th>4</th>\n",
       "      <td>[Other_Sales, JP_Sales, Developer8, Critic_Count]</td>\n",
       "      <td>9455.580564</td>\n",
       "      <td>0.717711</td>\n",
       "      <td>4</td>\n",
       "      <td>0.671251</td>\n",
       "      <td>1.068729</td>\n",
       "      <td>1.070873</td>\n",
       "      <td>0.717631</td>\n",
       "    </tr>\n",
       "    <tr>\n",
       "      <th>5</th>\n",
       "      <td>[Other_Sales, JP_Sales, Developer8, Critic_Cou...</td>\n",
       "      <td>9378.157055</td>\n",
       "      <td>0.720022</td>\n",
       "      <td>5</td>\n",
       "      <td>0.665846</td>\n",
       "      <td>1.060125</td>\n",
       "      <td>1.062805</td>\n",
       "      <td>0.719923</td>\n",
       "    </tr>\n",
       "  </tbody>\n",
       "</table>\n",
       "</div>"
      ],
      "text/plain": [
       "                                            features           RSS  R_squared  \\\n",
       "1                                      [Other_Sales]  15173.315349   0.547012   \n",
       "2                            [Other_Sales, JP_Sales]   9728.880440   0.709552   \n",
       "3                [Other_Sales, JP_Sales, Developer8]   9550.904469   0.714865   \n",
       "4  [Other_Sales, JP_Sales, Developer8, Critic_Count]   9455.580564   0.717711   \n",
       "5  [Other_Sales, JP_Sales, Developer8, Critic_Cou...   9378.157055   0.720022   \n",
       "\n",
       "   numb_features       C_p       AIC       BIC  R_squared_adj  \n",
       "1              1  1.076669  1.714215  1.714751       0.546980  \n",
       "2              2  0.690464  1.099319  1.100391       0.709510  \n",
       "3              3  0.677925  1.079356  1.080964       0.714804  \n",
       "4              4  0.671251  1.068729  1.070873       0.717631  \n",
       "5              5  0.665846  1.060125  1.062805       0.719923  "
      ]
     },
     "execution_count": 40,
     "metadata": {},
     "output_type": "execute_result"
    }
   ],
   "source": [
    "#Initializing useful variables\n",
    "m = len(Y)\n",
    "p = 73\n",
    "hat_sigma_squared = (1/(m - p -1)) * min(df1['RSS'])\n",
    "\n",
    "#Computing\n",
    "df1['C_p'] = (1/m) * (df1['RSS'] + 2 * df1['numb_features'] * hat_sigma_squared )\n",
    "df1['AIC'] = (1/(m*hat_sigma_squared)) * (df1['RSS'] + 2 * df1['numb_features'] * hat_sigma_squared )\n",
    "df1['BIC'] = (1/(m*hat_sigma_squared)) * (df1['RSS'] +  np.log(m) * df1['numb_features'] * hat_sigma_squared )\n",
    "df1['R_squared_adj'] = 1 - ( (1 - df1['R_squared'])*(m-1)/(m-df1['numb_features'] -1))\n",
    "df1.head()"
   ]
  },
  {
   "cell_type": "markdown",
   "metadata": {
    "colab_type": "text",
    "id": "0VNJhpitkmV0"
   },
   "source": [
    "Le tableau ci-dessus donne les variables à sélectionner pour un nombre de variables allant de 1 à 4. Encore une fois, nous avons remarqué pour la matrice de corrélation que Other Sales et JP Sales sont les variables les plus corréléés avec nos variables cibles. Cela est confirmé par le tableau ci-dessus."
   ]
  },
  {
   "cell_type": "code",
   "execution_count": 41,
   "metadata": {
    "colab": {},
    "colab_type": "code",
    "id": "9jlcPP77kmV1",
    "outputId": "c682531d-6de3-46af-b0f6-b16fb53e4b6d",
    "scrolled": true
   },
   "outputs": [
    {
     "name": "stdout",
     "output_type": "stream",
     "text": [
      "44\n",
      "0.736201112928959\n"
     ]
    }
   ],
   "source": [
    "print(df1['R_squared_adj'].idxmax())\n",
    "print(df1['R_squared_adj'].max())"
   ]
  },
  {
   "cell_type": "markdown",
   "metadata": {
    "colab_type": "text",
    "id": "CUqmq4gQkmV3"
   },
   "source": [
    "Le R^2 ajusté est meilleur pour 36 variables explicatives. Il n'est pas meilleur par rapport à une régression contenant toutes les variables explicatives. Cherchons à voir l'évolution des autres indices également en fonction du nombre des variables:"
   ]
  },
  {
   "cell_type": "code",
   "execution_count": 42,
   "metadata": {
    "colab": {},
    "colab_type": "code",
    "id": "pF0osrylkmV4",
    "outputId": "22dfb830-a636-451d-a16c-99070c61408d",
    "scrolled": false
   },
   "outputs": [
    {
     "data": {
      "image/png": "[encoded data removed]",
      "text/plain": [
       "<Figure size 1296x432 with 4 Axes>"
      ]
     },
     "metadata": {
      "needs_background": "light"
     },
     "output_type": "display_data"
    }
   ],
   "source": [
    "variables = ['C_p', 'AIC','BIC','R_squared_adj']\n",
    "fig = plt.figure(figsize = (18,6))\n",
    "\n",
    "for i,v in enumerate(variables):\n",
    "    ax = fig.add_subplot(1, 4, i+1)\n",
    "    ax.plot(df1['numb_features'],df1[v], color = 'lightblue')\n",
    "    ax.scatter(df1['numb_features'],df1[v], color = 'darkblue')\n",
    "    if v == 'R_squared_adj':\n",
    "        ax.plot(df1[v].idxmax(),df1[v].max(), marker = 'x', markersize = 20)\n",
    "    else:\n",
    "        ax.plot(df1[v].idxmin(),df1[v].min(), marker = 'x', markersize = 20)\n",
    "    ax.set_xlabel('Number of predictors')\n",
    "    ax.set_ylabel(v)\n",
    "\n",
    "fig.suptitle('Subset selection using C_p, AIC, BIC, Adjusted R2', fontsize = 16)\n",
    "plt.show()"
   ]
  },
  {
   "cell_type": "markdown",
   "metadata": {
    "colab_type": "text",
    "id": "aa3KzeDFkmV8"
   },
   "source": [
    "Les 4 indices indiquent que le nombre optimal de variables à choisir est entre 20 et 40. Nous choissons le $R^2$ ajusté pour sélectionner le sous ensemble des variables à garder, soit 44 variables avec un $R^2$ ajusté de 73%"
   ]
  },
  {
   "cell_type": "markdown",
   "metadata": {
    "colab_type": "text",
    "id": "EXxnQzbJkmV8"
   },
   "source": [
    "<b> Conclusion : </b>\n",
    "\n",
    "Cette méthode, bien qu'elle permet de réduire le nombre de variables explicatives à prendre en compte, elle ne nous a pas permis d'améliorer les performances de notre modèle de régression linéaire. Cela peut être dû au fait que ces variables présentent une colinéarité. Le section suivante permettrait de résoudre ce problème puisqu'elle consiste à performer une régression en composantes principales."
   ]
  },
  {
   "cell_type": "markdown",
   "metadata": {
    "colab_type": "text",
    "id": "OxkzlaFskmV8"
   },
   "source": [
    "# IV. Analyse par Composante Principale et Régression"
   ]
  },
  {
   "cell_type": "markdown",
   "metadata": {
    "colab_type": "text",
    "id": "MxXRwzpakmV8"
   },
   "source": [
    "Pour palier à la multicolinéarité de nos variables, nous effectuons une Analyse par Composante Principale (ACP). \n",
    "\n",
    "Le choix du nombre de colonnes se fait par validation croisée : cela nous permet d'éviter de sur-apprendre les données en sélectionnant trop de variables."
   ]
  },
  {
   "cell_type": "markdown",
   "metadata": {
    "colab_type": "text",
    "id": "vnsT_zrFkmV9"
   },
   "source": [
    "### ACP sur l'ensemble des colonnes : "
   ]
  },
  {
   "cell_type": "code",
   "execution_count": 43,
   "metadata": {
    "colab": {},
    "colab_type": "code",
    "id": "jSnu-KpOkmV9",
    "outputId": "84c0f129-c450-49ba-b020-bd3c55d3cc69"
   },
   "outputs": [
    {
     "name": "stdout",
     "output_type": "stream",
     "text": [
      "Nombre de colonnes conservées : 5\n"
     ]
    }
   ],
   "source": [
    "from sklearn.model_selection import cross_val_score\n",
    "from sklearn.decomposition import PCA\n",
    "from sklearn.metrics import mean_squared_error\n",
    "\n",
    "n = X_train_prepared.shape[1]\n",
    "p = np.zeros(n)\n",
    "\n",
    "for i in range(0,n):\n",
    "    pca = PCA(n_components = i+1)\n",
    "    X_pca = pca.fit_transform(X_train_prepared)\n",
    "    lm = linear_model.LinearRegression()\n",
    "    lm.fit(X_pca,y_train.iloc[:,0])\n",
    "    cross = cross_val_score(lm, X_pca, y_train.iloc[:,0], cv=10, scoring = 'neg_mean_squared_error')\n",
    "    p[i] = -np.mean(cross)\n",
    "\n",
    "best = np.argmin(p)+1\n",
    "print(\"Nombre de colonnes conservées : \" + str(best))"
   ]
  },
  {
   "cell_type": "markdown",
   "metadata": {
    "colab_type": "text",
    "id": "OwlVnF1tkmWB"
   },
   "source": [
    "### Prédictions de NA_Sales et Global_Sales avec cette ACP :"
   ]
  },
  {
   "cell_type": "code",
   "execution_count": 44,
   "metadata": {
    "colab": {},
    "colab_type": "code",
    "id": "GvaLHaw4kmWC"
   },
   "outputs": [],
   "source": [
    "pca = PCA(n_components=best)\n",
    "\n",
    "X_train_pca = pca.fit_transform(X_train_prepared)\n",
    "\n",
    "lm1 = linear_model.LinearRegression()\n",
    "lm1.fit(X_train_pca,y_train.Global_Sales)\n",
    "\n",
    "lm2 = linear_model.LinearRegression()\n",
    "lm2.fit(X_train_pca,y_train.Global_Sales)\n",
    "\n",
    "X_test_pca = pca.transform(X_test_prepared)\n",
    "\n",
    "pred_NA = lm1.predict(X_test_pca)\n",
    "pred_Global = lm2.predict(X_test_pca)"
   ]
  },
  {
   "cell_type": "markdown",
   "metadata": {
    "colab_type": "text",
    "id": "QM_QaqqJkmWC"
   },
   "source": [
    "### Exportation de la regression : "
   ]
  },
  {
   "cell_type": "markdown",
   "metadata": {
    "colab_type": "text",
    "id": "JSqKUb1WkmWD"
   },
   "source": [
    "Avant d'exporter les résultats, nous effectuons un seuillage des prédictions : en effet, il se peut que l'on prévoit des ventes négatives, ce qui n'a aucun sens, et donc on ramène ces valeurs à 0.\n",
    "\n",
    "Nous avons tenté pour palier à ce problème différentes transformations, comme par exemple prévoir non pas les ventes mais le logarithme des ventes afin d'avoir des valeurs sur l'ensemble des réels, mais ces méthodes n'ont pas permis d'améliorer le résultat (score élevé par validation croisée)"
   ]
  },
  {
   "cell_type": "code",
   "execution_count": 45,
   "metadata": {
    "colab": {},
    "colab_type": "code",
    "id": "PPyKUXdxkmWD"
   },
   "outputs": [],
   "source": [
    "for i in range(len(pred_NA)):\n",
    "    if pred_NA[i] < 0:\n",
    "        pred_NA[i] = 0\n",
    "    if pred_Global[i] < 0:\n",
    "        pred_Global[i] = 0\n",
    "\n",
    "\n",
    "results['NA_Sales'] = pred_NA\n",
    "results['Global_Sales'] = pred_Global\n",
    "results.to_csv('results.csv', index = False)"
   ]
  },
  {
   "cell_type": "code",
   "execution_count": 46,
   "metadata": {
    "colab": {},
    "colab_type": "code",
    "id": "dN2b5wSgkmWG",
    "outputId": "52c1d18c-92f3-455b-df8d-29cdad6fbe62"
   },
   "outputs": [
    {
     "data": {
      "text/html": [
       "<div>\n",
       "<style scoped>\n",
       "    .dataframe tbody tr th:only-of-type {\n",
       "        vertical-align: middle;\n",
       "    }\n",
       "\n",
       "    .dataframe tbody tr th {\n",
       "        vertical-align: top;\n",
       "    }\n",
       "\n",
       "    .dataframe thead th {\n",
       "        text-align: right;\n",
       "    }\n",
       "</style>\n",
       "<table border=\"1\" class=\"dataframe\">\n",
       "  <thead>\n",
       "    <tr style=\"text-align: right;\">\n",
       "      <th></th>\n",
       "      <th>ID</th>\n",
       "      <th>NA_Sales</th>\n",
       "      <th>Global_Sales</th>\n",
       "    </tr>\n",
       "  </thead>\n",
       "  <tbody>\n",
       "    <tr>\n",
       "      <th>0</th>\n",
       "      <td>14095</td>\n",
       "      <td>0.237941</td>\n",
       "      <td>0.237941</td>\n",
       "    </tr>\n",
       "    <tr>\n",
       "      <th>1</th>\n",
       "      <td>14096</td>\n",
       "      <td>0.431635</td>\n",
       "      <td>0.431635</td>\n",
       "    </tr>\n",
       "    <tr>\n",
       "      <th>2</th>\n",
       "      <td>14097</td>\n",
       "      <td>0.848696</td>\n",
       "      <td>0.848696</td>\n",
       "    </tr>\n",
       "    <tr>\n",
       "      <th>3</th>\n",
       "      <td>14098</td>\n",
       "      <td>0.211170</td>\n",
       "      <td>0.211170</td>\n",
       "    </tr>\n",
       "    <tr>\n",
       "      <th>4</th>\n",
       "      <td>14099</td>\n",
       "      <td>1.029939</td>\n",
       "      <td>1.029939</td>\n",
       "    </tr>\n",
       "  </tbody>\n",
       "</table>\n",
       "</div>"
      ],
      "text/plain": [
       "      ID  NA_Sales  Global_Sales\n",
       "0  14095  0.237941      0.237941\n",
       "1  14096  0.431635      0.431635\n",
       "2  14097  0.848696      0.848696\n",
       "3  14098  0.211170      0.211170\n",
       "4  14099  1.029939      1.029939"
      ]
     },
     "execution_count": 46,
     "metadata": {},
     "output_type": "execute_result"
    }
   ],
   "source": [
    "results.head()"
   ]
  },
  {
   "cell_type": "markdown",
   "metadata": {
    "colab_type": "text",
    "id": "wX12WdR8kmWH"
   },
   "source": [
    "### Score par validation croisée :"
   ]
  },
  {
   "cell_type": "markdown",
   "metadata": {
    "colab_type": "text",
    "id": "4ZGMKVaQkmWI"
   },
   "source": [
    "Tout au long du projet, nous visualisons la performance de nos modèles en observant le score par validation croisée. Voici celui que l'on a avec les choix que l'on a fait jusque ici :"
   ]
  },
  {
   "cell_type": "code",
   "execution_count": 47,
   "metadata": {
    "colab": {},
    "colab_type": "code",
    "id": "pwLdq9u_kmWJ",
    "outputId": "9f9f909f-d2b0-404d-d401-a3f64f024669"
   },
   "outputs": [
    {
     "name": "stdout",
     "output_type": "stream",
     "text": [
      "MSE Pour NA_Sales par CV : 0.3953058392692691\n",
      "MSE Pour Global_Sales par CV : 0.7767994364299866\n"
     ]
    }
   ],
   "source": [
    "print(\"MSE Pour NA_Sales par CV :\", -np.mean(cross_val_score(lm1, X_train_pca, y_train.NA_Sales, cv=5, scoring = 'neg_mean_squared_error')))\n",
    "print(\"MSE Pour Global_Sales par CV :\", -np.mean(cross_val_score(lm2, X_train_pca, y_train.Global_Sales, cv=5, scoring = 'neg_mean_squared_error')))"
   ]
  },
  {
   "cell_type": "markdown",
   "metadata": {
    "colab_type": "text",
    "id": "8ceSHmufkmWL"
   },
   "source": [
    "### Affichage des ventes en fonction des premières composantes de l'ACP : "
   ]
  },
  {
   "cell_type": "code",
   "execution_count": 48,
   "metadata": {
    "colab": {},
    "colab_type": "code",
    "id": "3o4VZvWNkmWL",
    "outputId": "31475a23-3a16-481a-af07-9f59e54f69d7"
   },
   "outputs": [
    {
     "data": {
      "image/png": "[encoded data removed]",
      "text/plain": [
       "<Figure size 432x288 with 1 Axes>"
      ]
     },
     "metadata": {
      "needs_background": "light"
     },
     "output_type": "display_data"
    },
    {
     "data": {
      "image/png": "[encoded data removed]",
      "text/plain": [
       "<Figure size 432x288 with 1 Axes>"
      ]
     },
     "metadata": {
      "needs_background": "light"
     },
     "output_type": "display_data"
    },
    {
     "data": {
      "image/png": "[encoded data removed]",
      "text/plain": [
       "<Figure size 432x288 with 1 Axes>"
      ]
     },
     "metadata": {
      "needs_background": "light"
     },
     "output_type": "display_data"
    },
    {
     "data": {
      "image/png": "[encoded data removed]",
      "text/plain": [
       "<Figure size 432x288 with 1 Axes>"
      ]
     },
     "metadata": {
      "needs_background": "light"
     },
     "output_type": "display_data"
    },
    {
     "data": {
      "image/png": "[encoded data removed]",
      "text/plain": [
       "<Figure size 432x288 with 1 Axes>"
      ]
     },
     "metadata": {
      "needs_background": "light"
     },
     "output_type": "display_data"
    },
    {
     "data": {
      "image/png": "[encoded data removed]",
      "text/plain": [
       "<Figure size 432x288 with 1 Axes>"
      ]
     },
     "metadata": {
      "needs_background": "light"
     },
     "output_type": "display_data"
    }
   ],
   "source": [
    "plt.xlabel('X1')\n",
    "plt.ylabel('Global Sales')\n",
    "plt.plot(X_train_pca[:,0], y_train.Global_Sales, 'r+')\n",
    "plt.show()\n",
    "\n",
    "plt.xlabel('X2')\n",
    "plt.ylabel('Global Sales')\n",
    "plt.plot(X_train_pca[:,1], y_train.Global_Sales, 'r+')\n",
    "plt.show()\n",
    "\n",
    "plt.xlabel('X3')\n",
    "plt.ylabel('Global Sales')\n",
    "plt.plot(X_train_pca[:,2],y_train.Global_Sales, 'r+')\n",
    "plt.show()\n",
    "\n",
    "plt.xlabel('X1')\n",
    "plt.ylabel('NA Sales')\n",
    "plt.plot(X_train_pca[:,0],y_train.NA_Sales, 'r+')\n",
    "plt.show()\n",
    "\n",
    "plt.xlabel('X2')\n",
    "plt.ylabel('NA Sales')\n",
    "plt.plot(X_train_pca[:,1],y_train.NA_Sales, 'r+')\n",
    "plt.show()\n",
    "\n",
    "plt.xlabel('X3')\n",
    "plt.ylabel('NA Sales')\n",
    "plt.plot(X_train_pca[:,2],y_train.NA_Sales, 'r+')\n",
    "plt.show()"
   ]
  },
  {
   "cell_type": "markdown",
   "metadata": {
    "colab_type": "text",
    "id": "ZuXNKq8KkmWN"
   },
   "source": [
    "En observant les relations entre les variables explicatives et nos données à prédire, on observe que la relation linéaire que l'on souhaitait observer n'est pas si évidente, et qu'il est possible de faire passer une multitude de droites sur chacuns des graphes. Néanmoins, il ne se distingue pas non plus de relations non linéaire, comme un relation polynomiale par exemple, c'est pourquoi nous n'avons pas exploré la regression polynomiale.\n",
    "\n",
    "On observe également des outliers qui semblent très suspects, ou du moins qui se détachent beaucoup du reste des données."
   ]
  },
  {
   "cell_type": "markdown",
   "metadata": {
    "colab_type": "text",
    "id": "sCJB4gzKkmWN"
   },
   "source": [
    "### Alternative à l'ACP basique ? "
   ]
  },
  {
   "cell_type": "markdown",
   "metadata": {
    "colab_type": "text",
    "id": "qvxdk0IukmWP"
   },
   "source": [
    "Une piste d'amélioration de notre modèle a été de ne pas utiliser une ACP classique, mais plutôt d'utiliser une ACP par variable catégorielle (*platform*, *genre*, etc.). En effet, puisque ces variables sont représentés non pas par une colonne mais plusieurs, l'importance de chaque feature pouvait être trop \"dilué\" dans l'ACP globale, et réduire la dimension en faisant une ACP pour chacune des composantes sur laquelle on a effectué un *one-hot encoding* a été essayé.\n",
    "\n",
    "Cependant, nous ne conservons pas cette méthode car celle-ci donnait un score en validation croisée similaire, alors qu'elle conservait beaucoup plus de colonnes."
   ]
  },
  {
   "cell_type": "markdown",
   "metadata": {
    "colab_type": "text",
    "id": "AKBTR_Y8kmWP"
   },
   "source": [
    "# V. Analyse de la regression par ACP"
   ]
  },
  {
   "cell_type": "markdown",
   "metadata": {
    "colab_type": "text",
    "id": "YQw4-fQwkmWQ"
   },
   "source": [
    "### V.1. Courbe d'ajustement"
   ]
  },
  {
   "cell_type": "markdown",
   "metadata": {
    "colab_type": "text",
    "id": "DrtblyzFkmWQ"
   },
   "source": [
    "Un premier moyen d'analyser notre régression est d'afficher la courbe d'apprentissage :\n",
    "\n",
    "On divise le jeu de données en deux (ensemble d'entraînement et de validation), et pour $i$ allant 1 à $n_{train}$, où $n_{train}$ est là taille de l'ensemble d'entraînement, on entraine les i premières valeurs de cet ensemble, et on observe le score sur celui-ci ainsi que sur l'ensemble de validation.\n",
    "\n",
    "On peut donc afficher deux courbes qui correspondent au RMSE pour l'ensemble d'entraînement et l'ensemble de validation, en fonction de la taille de l'ensemble d'entraînement. On s'attend alors à observer une courbe croissante pour l'ensemble d'entrainement, car plus on ajoute de données à entraîner, plus il va être difficile d'y fitter une courbe, et une courbe décroissante pour l'ensemble de validation, car plus on a de données d'entrainement, mieux on pourra (en théorie) prévoit ces valeurs. Ainsi, en fonction du palier que ces fonctions atteignent et de l'écart entre ces deux courbes, on peut en déduire que notre modèle fait du sous-apprentissage, ou du sur-apprentissage."
   ]
  },
  {
   "cell_type": "code",
   "execution_count": 49,
   "metadata": {
    "colab": {},
    "colab_type": "code",
    "id": "iPUptjn8kmWQ"
   },
   "outputs": [],
   "source": [
    "from sklearn.metrics import mean_squared_error\n",
    "from sklearn.model_selection import train_test_split\n",
    "\n",
    "def plot_learning_curves(model, X, y):\n",
    "    A_train, A_val, b_train, b_val = train_test_split(X, y, test_size=0.2, random_state=10)\n",
    "    train_errors, val_errors = [], []\n",
    "    for m in range(1, len(A_train)):\n",
    "        model.fit(A_train[:m], b_train[:m])\n",
    "        b_train_predict = model.predict(A_train[:m])\n",
    "        b_val_predict = model.predict(A_val)\n",
    "        train_errors.append(mean_squared_error(b_train[:m], b_train_predict))\n",
    "        val_errors.append(mean_squared_error(b_val, b_val_predict))\n",
    "\n",
    "    plt.plot(np.sqrt(train_errors), \"r-+\", linewidth=2, label=\"train\")\n",
    "    plt.plot(np.sqrt(val_errors), \"b-\", linewidth=3, label=\"val\")\n",
    "    plt.legend(loc=\"upper right\", fontsize=14)\n",
    "    plt.xlabel(\"Training set size\", fontsize=14)\n",
    "    plt.ylabel(\"RMSE\", fontsize=14) "
   ]
  },
  {
   "cell_type": "markdown",
   "metadata": {
    "colab_type": "text",
    "id": "A9kjkHmbkmWS"
   },
   "source": [
    "Voici ce que l'on affiche :"
   ]
  },
  {
   "cell_type": "code",
   "execution_count": 50,
   "metadata": {
    "colab": {},
    "colab_type": "code",
    "id": "PIGoWK5TkmWS",
    "outputId": "2a89318a-fb52-44e5-d9f2-7f2ae40e29f9"
   },
   "outputs": [
    {
     "data": {
      "image/png": "[encoded data removed]",
      "text/plain": [
       "<Figure size 432x288 with 1 Axes>"
      ]
     },
     "metadata": {
      "needs_background": "light"
     },
     "output_type": "display_data"
    }
   ],
   "source": [
    "plot_learning_curves(lm1, X_train_pca, y_train.Global_Sales)\n",
    "# plt.axis([0, 10000, 0, 0.8])\n",
    "plt.show()"
   ]
  },
  {
   "cell_type": "markdown",
   "metadata": {
    "colab_type": "text",
    "id": "9JFsi1BUkmWU"
   },
   "source": [
    "Ce que l'on observe est pour le moins déroutant : en effet, pour une grande valeur de l'ensemble d'entraînement, on effectue une erreur bien plus grande sur ce même ensemble que sur un ensemble de validation !\n",
    "\n",
    "Ceci ne peut-être expliqué que par un seul phénomène, dont l'intuition est donné par les '*steps*' dans la courbe : des *outliers* sont présents dans l'ensemble d'entraînement, et ces outliers augmentent considérablement le RMSE de l'ensemble d'entraînement."
   ]
  },
  {
   "cell_type": "markdown",
   "metadata": {
    "colab_type": "text",
    "id": "9f4hgKUYkmWU"
   },
   "source": [
    "### V.2. Valeurs suspectes ?"
   ]
  },
  {
   "cell_type": "markdown",
   "metadata": {
    "colab_type": "text",
    "id": "w17iSL6PkmWV"
   },
   "source": [
    "Nous allons dans cette partie déterminer les outliers du modele de régression linéaire.\n",
    "\n",
    "Commencons par établir la liste des données suspectes avec la fonction *find_susp*, qui retourne les résidus studentisés des predictions :"
   ]
  },
  {
   "cell_type": "code",
   "execution_count": 51,
   "metadata": {
    "colab": {},
    "colab_type": "code",
    "id": "bOojv7VwkmWV"
   },
   "outputs": [],
   "source": [
    "def find_susp(X, Y, Y_pred):\n",
    "    H = X @ np.linalg.inv(np.transpose(X) @ X) @ np.transpose(X)\n",
    "    n = X.shape[0]\n",
    "    p = X.shape[1]\n",
    "    sigma2 = (np.sum((Y-Y_pred)**2)/(n-p-1))\n",
    "    \n",
    "    f = (lambda e, h: (e/np.sqrt(sigma2*(1-h))))\n",
    "              \n",
    "    return f(Y-Y_pred, np.diagonal(H))\n",
    "              \n",
    "y_NA_pred = lm1.predict(X_train_pca)\n",
    "\n",
    "y_NA_train = y_train[\"NA_Sales\"]\n",
    "\n",
    "susp = pd.DataFrame()\n",
    "\n",
    "susp[\"Name\"] = Names\n",
    "susp[\"RS\"] = np.abs(find_susp(X_train_pca, y_NA_train, y_NA_pred)) # residus studentises\n"
   ]
  },
  {
   "cell_type": "markdown",
   "metadata": {
    "colab_type": "text",
    "id": "SVhablsFkmWV"
   },
   "source": [
    "Voici les plus gros outliers que l'on trouve avec cet méthode, et leurs résidus associés :"
   ]
  },
  {
   "cell_type": "code",
   "execution_count": 52,
   "metadata": {
    "colab": {},
    "colab_type": "code",
    "id": "MJhZpP11kmWW",
    "outputId": "99410ff7-b010-42ad-e640-fa302080e105"
   },
   "outputs": [
    {
     "data": {
      "text/html": [
       "<div>\n",
       "<style scoped>\n",
       "    .dataframe tbody tr th:only-of-type {\n",
       "        vertical-align: middle;\n",
       "    }\n",
       "\n",
       "    .dataframe tbody tr th {\n",
       "        vertical-align: top;\n",
       "    }\n",
       "\n",
       "    .dataframe thead th {\n",
       "        text-align: right;\n",
       "    }\n",
       "</style>\n",
       "<table border=\"1\" class=\"dataframe\">\n",
       "  <thead>\n",
       "    <tr style=\"text-align: right;\">\n",
       "      <th></th>\n",
       "      <th>Name</th>\n",
       "      <th>RS</th>\n",
       "    </tr>\n",
       "  </thead>\n",
       "  <tbody>\n",
       "    <tr>\n",
       "      <th>1975</th>\n",
       "      <td>Grand Theft Auto: San Andreas</td>\n",
       "      <td>34.442813</td>\n",
       "    </tr>\n",
       "    <tr>\n",
       "      <th>2161</th>\n",
       "      <td>Gran Turismo 4</td>\n",
       "      <td>30.206346</td>\n",
       "    </tr>\n",
       "    <tr>\n",
       "      <th>4730</th>\n",
       "      <td>Duck Hunt</td>\n",
       "      <td>23.850233</td>\n",
       "    </tr>\n",
       "    <tr>\n",
       "      <th>11742</th>\n",
       "      <td>Animal Crossing: Wild World</td>\n",
       "      <td>16.065797</td>\n",
       "    </tr>\n",
       "    <tr>\n",
       "      <th>110</th>\n",
       "      <td>Brain Age: Train Your Brain in Minutes a Day</td>\n",
       "      <td>15.152540</td>\n",
       "    </tr>\n",
       "  </tbody>\n",
       "</table>\n",
       "</div>"
      ],
      "text/plain": [
       "                                               Name         RS\n",
       "1975                  Grand Theft Auto: San Andreas  34.442813\n",
       "2161                                 Gran Turismo 4  30.206346\n",
       "4730                                      Duck Hunt  23.850233\n",
       "11742                   Animal Crossing: Wild World  16.065797\n",
       "110    Brain Age: Train Your Brain in Minutes a Day  15.152540"
      ]
     },
     "execution_count": 52,
     "metadata": {},
     "output_type": "execute_result"
    }
   ],
   "source": [
    "susp = susp.sort_values(\"RS\", ascending=[0])\n",
    "susp.head()"
   ]
  },
  {
   "cell_type": "markdown",
   "metadata": {
    "colab_type": "text",
    "id": "RRYmoE_5kmWX"
   },
   "source": [
    "Il reste a déterminer quelles valeurs nous devons retirer de notre dataset selon un seuil de résidu de student (RS) acceptable. Dans le cours, nous avons comme valeur par défaut la valeur 3; cependant, il nous a paru trop arbitraire d'appliquer ce critère sans analyse plus approfondie. C'est pourquoi nous avons réalisé la fonction *find_best_rs_threshold* qui détermine le score de la regression (le MSE) selon le seuil que l'on choisit pour le RS. cette fonction trace également la courbe du MSE en fonction de RS.\n",
    "\n",
    "Pour ce faire, on applique la même méthode que pour la courbe d'apprentissage : on divise notre jeu de données en ensemble entraînement/validation, puis l'on fait varier la valeur limite de RS que l'on rejette dans l'ensemble d'entraînement, et on observe le score.\n",
    "\n",
    "Les arguments de cette fonction sont :\n",
    "\n",
    "* X : les données prétraitées\n",
    "* Y : la variable que l'on souhaite prédire\n",
    "* rst_init : le seuil de résidu de student a partir duquel on souhaite commencer l'exploration\n",
    "* rst_increment : le pas sur le rst\n",
    "* rst_max : le seuil de résidu de student d'arrêt de l'exploration (généralement la valeur la plus élevée du dataset)\n",
    "* seed : permet la division aléatoire de l'ensemble des données en ensemble d'entraînement de validation\n",
    "* nb_intern_iter : nombre de divisions aléatoires des données en ensemble d'entraînement de validation (cela revient en quelque sorte à faire une validation croisée avec des ensembles d'entrâinement et de validation aléatoires)"
   ]
  },
  {
   "cell_type": "code",
   "execution_count": 53,
   "metadata": {
    "colab": {},
    "colab_type": "code",
    "id": "93q85GdAkmWX"
   },
   "outputs": [],
   "source": [
    "from sklearn.model_selection import cross_val_score\n",
    "from sklearn.decomposition import PCA\n",
    "from sklearn.metrics import mean_squared_error\n",
    "\n",
    "def find_best_rs_threshold(X, Y, susp, rst_init, rst_increment, rst_max, seed = 0, nb_intern_iter = 1):\n",
    "    rst = rst_init # seuil des residus studentises\n",
    "    l_rst = [] # liste des seuils de residus studentises\n",
    "    l_mean_mse = []\n",
    "    # on ajoute une colonne a X et a Y correspondant aux residus studentises que l'on supprimera par la suite\n",
    "\n",
    "    X = pd.DataFrame(X)\n",
    "    Y = pd.DataFrame(Y)\n",
    "    \n",
    "    X[\"RS\"] = susp[\"RS\"]\n",
    "    Y[\"RS\"] = susp[\"RS\"]\n",
    "    \n",
    "    while rst < rst_max:\n",
    "        l_mse = []\n",
    "        \n",
    "        for i in range(nb_intern_iter):\n",
    "            # on scinde les X en train et validation\n",
    "            X_train, X_val, Y_train, Y_val = train_test_split(X, Y, test_size=0.2, random_state=i+seed)\n",
    "            # on supprime uniquement dans X_train les valeurs ayant un rs superieur a rst\n",
    "            \n",
    "            X_train = X_train[X_train[\"RS\"] < rst]\n",
    "            Y_train = Y_train[Y_train[\"RS\"] < rst]\n",
    "                        \n",
    "            # la colonne RS ne doit pas etre prise en compte comme feature\n",
    "            #print(X_train.columns)\n",
    "            X_train = X_train.drop(columns = [\"RS\"])\n",
    "            X_val = X_val.drop(columns = [\"RS\"])\n",
    "            \n",
    "            lm = linear_model.LinearRegression()\n",
    "            lm.fit(X_train, Y_train)\n",
    "\n",
    "            mse = mean_squared_error(Y_val, lm.predict(X_val))\n",
    "            l_mse.append(mse)\n",
    "            \n",
    "            \n",
    "        l_mean_mse.append(np.mean(l_mse))  \n",
    "        l_rst.append(rst)\n",
    "        rst += rst_increment\n",
    "        \n",
    "    plt.plot(l_rst, l_mean_mse)\n",
    "    plt.xlabel(\"rs threshold\")\n",
    "    plt.ylabel(\"mean MLE\")\n",
    "    \n",
    "    plt.show()\n",
    "        \n",
    "    return l_rst[np.argmin(l_mean_mse)]\n",
    "\n",
    "rst_max = np.max(susp[\"RS\"])"
   ]
  },
  {
   "cell_type": "markdown",
   "metadata": {
    "colab_type": "text",
    "id": "rlPjsxdDkmWY"
   },
   "source": [
    "En faisant des observations, nous avons constaté que la façon dont on séparait les données en ensemble d'entraînement et de validation était cruciale. En particulier, la présence des plus gros outliers (par exemple le jeu \"*GTA San Andreas*\") dans l'ensemble d'entraînement ou de validation était capital.\n",
    "\n",
    "On commence par faire le test en ayant GTA San Andreas dans l'ensemble d'entraînement. (nous avons vérifié expérimentalement que c'était le cas avec le seed par défaut)."
   ]
  },
  {
   "cell_type": "code",
   "execution_count": 54,
   "metadata": {
    "colab": {},
    "colab_type": "code",
    "id": "ibYNJUQskmWY",
    "outputId": "d1613410-080d-4681-df1b-730736311fd4"
   },
   "outputs": [
    {
     "data": {
      "image/png": "[encoded data removed]",
      "text/plain": [
       "<Figure size 432x288 with 1 Axes>"
      ]
     },
     "metadata": {
      "needs_background": "light"
     },
     "output_type": "display_data"
    }
   ],
   "source": [
    "best_rst = find_best_rs_threshold(X = X_train_pca, \n",
    "                                  Y = y_train, \n",
    "                                  susp = susp, \n",
    "                                  rst_init = 5, \n",
    "                                  rst_increment = 1, \n",
    "                                  rst_max = rst_max)"
   ]
  },
  {
   "cell_type": "markdown",
   "metadata": {
    "colab_type": "text",
    "id": "lNYW8bUNkmWb"
   },
   "source": [
    "On remarque que plus on ajoute des éléments ayant un résidu de student élevé, plus le MSE augmente.\n",
    "\n",
    "Faisons maintenant le test pour GTA dans l'ensemble de validation :"
   ]
  },
  {
   "cell_type": "code",
   "execution_count": 58,
   "metadata": {
    "colab": {},
    "colab_type": "code",
    "id": "XMWK_m4XkmWb",
    "outputId": "0b5a0aa7-4d48-478c-89ef-62eb5d118f87"
   },
   "outputs": [
    {
     "data": {
      "image/png": "[encoded data removed]",
      "text/plain": [
       "<Figure size 432x288 with 1 Axes>"
      ]
     },
     "metadata": {
      "needs_background": "light"
     },
     "output_type": "display_data"
    }
   ],
   "source": [
    "best_rst = find_best_rs_threshold(X = X_train_pca, \n",
    "                                  Y = y_train, \n",
    "                                  susp = susp, \n",
    "                                  rst_init = 5, \n",
    "                                  rst_increment = 1, \n",
    "                                  rst_max = rst_max,\n",
    "                                  seed = 12)\n",
    "y_train = y_train.drop(columns=[\"RS\"])"
   ]
  },
  {
   "cell_type": "markdown",
   "metadata": {
    "colab_type": "text",
    "id": "nPlOmdjlkmWc"
   },
   "source": [
    "On remarque le phénomene inverse."
   ]
  },
  {
   "cell_type": "markdown",
   "metadata": {
    "colab_type": "text",
    "id": "BQ6WbOIikmWc"
   },
   "source": [
    "### Interprétation du résultat et ouverture"
   ]
  },
  {
   "cell_type": "markdown",
   "metadata": {
    "colab_type": "text",
    "id": "q5usz7LckmWd"
   },
   "source": [
    "On a remarqué que notre décision sur le seuil de résidu de student est grandement influencé par la présence de GTA (la valeur la plus suspecte du dataset) dans l'ensemble de validation. Si GTA est présent dans l'ensemble de validation, il est recommandé de garder toutes les valeurs à haut rs pour mieux prédire GTA, et inversement. Cette observation n'est d'ailleurs pas spécifique à GTA, mais à tout les jeux qui apparaissent comme outliers, et qui souvent sont des jeux qui ont été énormément vendus mais qui ont chacuns des tendances très spécifiques en fonction du continent.\n",
    "\n",
    "Cela nous indique qu'on devrait classer les jeux sous deux catégories : les outliers et les autres jeux. On effectuerait alors deux régressions distinctes sur ces deux sous ensembles des données."
   ]
  },
  {
   "cell_type": "markdown",
   "metadata": {
    "colab_type": "text",
    "id": "Rw9fhQlbkmWd"
   },
   "source": [
    "Nous devrions maintenant trouver une façon de classer les jeux selon selon le caractere \"Outlier\". Pour cela, nous effectuerions une régression logistique avec comme variable a prédire les résidus de student que nous avons trouvés avec le modèle linéaire précédent. Une fois le résidu de student prédit, nous pourrions séparer le dataset en deux groupes selon le seuil déterminé dans la partie précédente (10 lorsque GTA n'est pas dans l'ensemble de validation). Enfin, on appliquerait le modele linéaire que l'on utilise ici sur les jeux qui auraient déjà bien été 'expliqués' par celui-ci (c'est à dire avec un RS prédit faible), et un modèle différent sur les outliers."
   ]
  },
  {
   "cell_type": "markdown",
   "metadata": {},
   "source": [
    "Puisque nous n'explorons pas cette piste jusqu'au bout, nous allons effectuer des régressions linéaires par classe pour chaque variable qualitative. L'idée derrière est que la relation entre Y et X peut être très différente selon la classe des observations pour une variable donnée."
   ]
  },
  {
   "cell_type": "markdown",
   "metadata": {
    "colab_type": "text",
    "id": "fTzwgjWykmWd"
   },
   "source": [
    "# VI. Régression linéaire par classe de chaque variable qualitative "
   ]
  },
  {
   "cell_type": "markdown",
   "metadata": {},
   "source": [
    "Nous allons faire cette approche pour les variables Genre, Rating, Publisher, Developer et enfin Platform."
   ]
  },
  {
   "cell_type": "markdown",
   "metadata": {
    "colab_type": "text",
    "id": "kZq0zPe2kmWd"
   },
   "source": [
    "### VI.1 Régression linéaire dépendamment de la variable \"Genre\" "
   ]
  },
  {
   "cell_type": "code",
   "execution_count": 56,
   "metadata": {
    "colab": {},
    "colab_type": "code",
    "id": "g3cfy8MDkmWd"
   },
   "outputs": [],
   "source": [
    "Genres = ['Genre1', 'Genre2', 'Genre3', 'Genre4', 'Genre5','Genre6', 'Genre7', 'Genre8', 'Genre9', 'Genre10', 'Genre11', 'Genre12','Genre13']\n",
    "# lm est un dictionnaire contenant tous les modèles de régression linéaires pour chaque genre, selon chaque Output\n",
    "lm={}\n",
    "for (i,j) in enumerate(Genres):\n",
    "    X = X_train_prepared[X_train_prepared[j] == 1]\n",
    "    Y = y_train[X_train_prepared[j] == 1]\n",
    "    lm[str(i)+\"_1\"] = linear_model.LinearRegression()\n",
    "    lm[str(i)+\"_1\"].fit(X,Y.iloc[:,0])\n",
    "    lm[str(i)+\"_2\"] = linear_model.LinearRegression()\n",
    "    lm[str(i)+\"_2\"].fit(X,Y.iloc[:,1])"
   ]
  },
  {
   "cell_type": "markdown",
   "metadata": {},
   "source": [
    "Après avoir fait ajuster nos modèles, on prédit désormais pour l'ensemble de test"
   ]
  },
  {
   "cell_type": "code",
   "execution_count": 63,
   "metadata": {},
   "outputs": [
    {
     "data": {
      "text/plain": [
       "Index(['Genre1', 'Genre2', 'Genre3', 'Genre4', 'Genre5', 'Genre6', 'Genre7',\n",
       "       'Genre8', 'Genre9', 'Genre10', 'Genre11', 'Genre12', 'Genre13'],\n",
       "      dtype='object')"
      ]
     },
     "execution_count": 63,
     "metadata": {},
     "output_type": "execute_result"
    }
   ],
   "source": [
    "X_train_prepared.columns[12:25]"
   ]
  },
  {
   "cell_type": "code",
   "execution_count": 64,
   "metadata": {
    "colab": {},
    "colab_type": "code",
    "id": "9tPoRLP8kmWf"
   },
   "outputs": [],
   "source": [
    "Prediction = pd.DataFrame(np.zeros((X_test_prepared.shape[0],2)),columns=[\"NA_Sales\",\"Global_Sales\"])\n",
    "for i in range(X_test_prepared.shape[0]):\n",
    "    X = X_test_prepared\n",
    "    a = np.where(np.array(X_test_prepared.iloc[i,12:25]) == 1)[0][0]\n",
    "    Prediction.iloc[i,0] = lm[str(a)+\"_1\"].predict(X.iloc[[i]])\n",
    "    Prediction.iloc[i,1] = lm[str(a)+\"_2\"].predict(X.iloc[[i]])"
   ]
  },
  {
   "cell_type": "markdown",
   "metadata": {},
   "source": [
    "Nous transformons par la suite les valeurs négatives en valeurs nulles."
   ]
  },
  {
   "cell_type": "code",
   "execution_count": 65,
   "metadata": {
    "colab": {},
    "colab_type": "code",
    "id": "SUu5DJ4nkmWf"
   },
   "outputs": [],
   "source": [
    "for i in range(Prediction.shape[0]):\n",
    "    if Prediction.iloc[i,0] <0:\n",
    "        Prediction.iloc[i,0] = 0\n",
    "    if Prediction.iloc[i,1] <0:\n",
    "        Prediction.iloc[i,1] = 0"
   ]
  },
  {
   "cell_type": "code",
   "execution_count": 67,
   "metadata": {
    "colab": {},
    "colab_type": "code",
    "id": "Cs5HxX8RkmWl"
   },
   "outputs": [],
   "source": [
    "results['NA_Sales'] = Prediction['NA_Sales']\n",
    "results['Global_Sales'] = Prediction['Global_Sales']\n",
    "results.to_csv('results.csv', index = False)"
   ]
  },
  {
   "cell_type": "markdown",
   "metadata": {},
   "source": [
    "### VI.2 Régression linéaire dépendamment du Rating"
   ]
  },
  {
   "cell_type": "markdown",
   "metadata": {},
   "source": [
    "Nous appliquons la même démarche pour Rating"
   ]
  },
  {
   "cell_type": "code",
   "execution_count": 74,
   "metadata": {},
   "outputs": [],
   "source": [
    "Ratings = ['Rating1', 'Rating2', 'Rating3', 'Rating4', 'Rating5', 'Rating6']\n",
    "lm={}\n",
    "for (i,j) in enumerate(Ratings):\n",
    "    X = X_train_prepared[X_train_prepared[j] == 1]\n",
    "    Y = y_train[X_train_prepared[j] == 1]\n",
    "    lm[str(i)+\"_1\"] = linear_model.LinearRegression()\n",
    "    lm[str(i)+\"_1\"].fit(X,Y.iloc[:,0])\n",
    "    lm[str(i)+\"_2\"] = linear_model.LinearRegression()\n",
    "    lm[str(i)+\"_2\"].fit(X,Y.iloc[:,1])\n",
    "Prediction = pd.DataFrame(np.zeros((X_test_prepared.shape[0],2)),columns=[\"NA_Sales\",\"Global_Sales\"])\n",
    "for i in range(X_test_prepared.shape[0]):\n",
    "    X = X_test_prepared\n",
    "    a = np.where(np.array(X_test_prepared.iloc[i,25:31]) == 1)[0][0]\n",
    "    Prediction.iloc[i,0] = lm[str(a)+\"_1\"].predict(X.iloc[[i]])\n",
    "    Prediction.iloc[i,1] = lm[str(a)+\"_2\"].predict(X.iloc[[i]])\n",
    "for i in range(Prediction.shape[0]):\n",
    "    if Prediction.iloc[i,0] <0:\n",
    "        Prediction.iloc[i,0] = 0\n",
    "    if Prediction.iloc[i,1] <0:\n",
    "        Prediction.iloc[i,1] = 0"
   ]
  },
  {
   "cell_type": "markdown",
   "metadata": {
    "colab_type": "text",
    "id": "g0_2JREOkmWm"
   },
   "source": [
    "### VI.3 Régression linéaire dépendamment du Publisher"
   ]
  },
  {
   "cell_type": "markdown",
   "metadata": {},
   "source": [
    "Nous appliquons la même démarche pour Publisher"
   ]
  },
  {
   "cell_type": "code",
   "execution_count": 79,
   "metadata": {
    "colab": {},
    "colab_type": "code",
    "id": "fH0rEMC1kmWn"
   },
   "outputs": [],
   "source": [
    "Publishers = ['Publisher1', 'Publisher2', 'Publisher3', 'Publisher4',\n",
    "       'Publisher5', 'Publisher6', 'Publisher7', 'Publisher8', 'Publisher9',\n",
    "       'Publisher10', 'Publisher11']\n",
    "lm={}\n",
    "for (i,j) in enumerate(Publishers):\n",
    "    X = X_train_prepared[X_train_prepared[j] == 1]\n",
    "    Y = y_train[X_train_prepared[j] == 1]\n",
    "    lm[str(i)+\"_1\"] = linear_model.LinearRegression()\n",
    "    lm[str(i)+\"_1\"].fit(X,Y.iloc[:,0])\n",
    "    lm[str(i)+\"_2\"] = linear_model.LinearRegression()\n",
    "    lm[str(i)+\"_2\"].fit(X,Y.iloc[:,1])\n",
    "Prediction = pd.DataFrame(np.zeros((X_test_prepared.shape[0],2)),columns=[\"NA_Sales\",\"Global_Sales\"])\n",
    "for i in range(X_test_prepared.shape[0]):\n",
    "    X = X_test_prepared\n",
    "    a = np.where(np.array(X_test_prepared.iloc[i,31:42]) == 1)[0][0]\n",
    "    Prediction.iloc[i,0] = lm[str(a)+\"_1\"].predict(X.iloc[[i]])\n",
    "    Prediction.iloc[i,1] = lm[str(a)+\"_2\"].predict(X.iloc[[i]])\n",
    "for i in range(Prediction.shape[0]):\n",
    "    if Prediction.iloc[i,0] <0:\n",
    "        Prediction.iloc[i,0] = 0\n",
    "    if Prediction.iloc[i,1] <0:\n",
    "        Prediction.iloc[i,1] = 0"
   ]
  },
  {
   "cell_type": "markdown",
   "metadata": {
    "colab_type": "text",
    "id": "kSruIQA4kmWo"
   },
   "source": [
    "### VI.4 Régression linéaire dépendamment de Developer"
   ]
  },
  {
   "cell_type": "markdown",
   "metadata": {},
   "source": [
    "Nous appliquons la même démarche Pour Developer"
   ]
  },
  {
   "cell_type": "code",
   "execution_count": 87,
   "metadata": {
    "colab": {},
    "colab_type": "code",
    "id": "oqlLUPSykmWo"
   },
   "outputs": [],
   "source": [
    "Developer = ['Developer1', 'Developer2', 'Developer3', 'Developer4', 'Developer5',\n",
    "       'Developer6', 'Developer7', 'Developer8', 'Developer9', 'Developer10',\n",
    "       'Developer11', 'Developer12', 'Developer13', 'Developer14',\n",
    "       'Developer15', 'Developer16']\n",
    "lm={}\n",
    "for (i,j) in enumerate(Developer):\n",
    "    X = X_train_prepared[X_train_prepared[j] == 1]\n",
    "    Y = y_train[X_train_prepared[j] == 1]\n",
    "    lm[str(i)+\"_1\"] = linear_model.LinearRegression()\n",
    "    lm[str(i)+\"_1\"].fit(X,Y.iloc[:,0])\n",
    "    lm[str(i)+\"_2\"] = linear_model.LinearRegression()\n",
    "    lm[str(i)+\"_2\"].fit(X,Y.iloc[:,1])\n",
    "    \n",
    "Prediction = pd.DataFrame(np.zeros((X_test_prepared.shape[0],2)),columns=[\"NA_Sales\",\"Global_Sales\"])\n",
    "for i in range(X_test_prepared.shape[0]):\n",
    "    X = X_test_prepared\n",
    "    a = np.where(np.array(X_test_prepared.iloc[i,42:58]) == 1)[0][0]\n",
    "    Prediction.iloc[i,0] = lm[str(a)+\"_1\"].predict(X.iloc[[i]])\n",
    "    Prediction.iloc[i,1] = lm[str(a)+\"_2\"].predict(X.iloc[[i]])\n",
    "    \n",
    "for i in range(Prediction.shape[0]):\n",
    "    if Prediction.iloc[i,0] <0:\n",
    "        Prediction.iloc[i,0] = 0\n",
    "    if Prediction.iloc[i,1] <0:\n",
    "        Prediction.iloc[i,1] = 0"
   ]
  },
  {
   "cell_type": "markdown",
   "metadata": {
    "colab_type": "text",
    "id": "B4z0L131kmWp"
   },
   "source": [
    "### VI.5 Régression linéaire dépendamment de Platform"
   ]
  },
  {
   "cell_type": "markdown",
   "metadata": {},
   "source": [
    "Nous appliquons la même démarche pour Platform"
   ]
  },
  {
   "cell_type": "code",
   "execution_count": 97,
   "metadata": {
    "colab": {},
    "colab_type": "code",
    "id": "9AkNOruikmWp",
    "outputId": "0b8a274a-3ace-405c-f567-f574410f3e42"
   },
   "outputs": [],
   "source": [
    "Platform = ['Platform1', 'Platform2', 'Platform3', 'Platform4', 'Platform5',\n",
    "       'Platform6', 'Platform7', 'Platform8', 'Platform9', 'Platform10',\n",
    "       'Platform11', 'Platform12', 'Platform13', 'Platform14', 'Platform15']\n",
    "lm={}\n",
    "for (i,j) in enumerate(Platform):\n",
    "    X = X_train_prepared[X_train_prepared[j] == 1]\n",
    "    Y = y_train[X_train_prepared[j] == 1]\n",
    "    lm[str(i)+\"_1\"] = linear_model.LinearRegression()\n",
    "    lm[str(i)+\"_1\"].fit(X,Y.iloc[:,0])\n",
    "    lm[str(i)+\"_2\"] = linear_model.LinearRegression()\n",
    "    lm[str(i)+\"_2\"].fit(X,Y.iloc[:,1])\n",
    "    \n",
    "Prediction = pd.DataFrame(np.zeros((X_test_prepared.shape[0],2)),columns=[\"NA_Sales\",\"Global_Sales\"])\n",
    "for i in range(X_test_prepared.shape[0]):\n",
    "    X = X_test_prepared\n",
    "    a = np.where(np.array(X_test_prepared.iloc[i,58:73]) == 1)[0][0]\n",
    "    Prediction.iloc[i,0] = lm[str(a)+\"_1\"].predict(X.iloc[[i]])\n",
    "    Prediction.iloc[i,1] = lm[str(a)+\"_2\"].predict(X.iloc[[i]])\n",
    "    \n",
    "for i in range(Prediction.shape[0]):\n",
    "    if Prediction.iloc[i,0] <0:\n",
    "        Prediction.iloc[i,0] = 0\n",
    "    if Prediction.iloc[i,1] <0:\n",
    "        Prediction.iloc[i,1] = 0"
   ]
  },
  {
   "cell_type": "markdown",
   "metadata": {},
   "source": [
    "- Conclusion intermédiaire:\n",
    "\n",
    "Selon nos soumissions sur Kaggle pour chacun des 5 cas, nous remarquons que la démarche qui donne le plus petit RMSE concerne la variable Platform."
   ]
  },
  {
   "cell_type": "markdown",
   "metadata": {},
   "source": [
    "### Ouverture sur une autre idée :  \n",
    "\n",
    "Nous arrivons à améliorer le score sur Kaggle avec cette méthode. Cependant, remarquons que nous n'utilisons pas le lien entre les 2 variables de sortie alors qu'elles sont fortement corrélées. Analysons les résultats de la régression linéaire de NA Sales sur à Global Sales:"
   ]
  },
  {
   "cell_type": "code",
   "execution_count": 0,
   "metadata": {
    "colab": {},
    "colab_type": "code",
    "id": "V0lX8ODQkmW-",
    "outputId": "1068b84c-6751-4cc7-cea8-7b6696550c81",
    "scrolled": false
   },
   "outputs": [
    {
     "name": "stdout",
     "output_type": "stream",
     "text": [
      "                            OLS Regression Results                            \n",
      "==============================================================================\n",
      "Dep. Variable:               NA_Sales   R-squared:                       0.890\n",
      "Model:                            OLS   Adj. R-squared:                  0.890\n",
      "Method:                 Least Squares   F-statistic:                 1.139e+05\n",
      "Date:                Tue, 11 Dec 2018   Prob (F-statistic):               0.00\n",
      "Time:                        23:30:23   Log-Likelihood:                -1864.5\n",
      "No. Observations:               14094   AIC:                             3733.\n",
      "Df Residuals:                   14092   BIC:                             3748.\n",
      "Df Model:                           1                                         \n",
      "Covariance Type:            nonrobust                                         \n",
      "================================================================================\n",
      "                   coef    std err          t      P>|t|      [0.025      0.975]\n",
      "--------------------------------------------------------------------------------\n",
      "const           -0.0078      0.002     -3.164      0.002      -0.013      -0.003\n",
      "Global_Sales     0.5094      0.002    337.525      0.000       0.506       0.512\n",
      "==============================================================================\n",
      "Omnibus:                    21182.282   Durbin-Watson:                   2.006\n",
      "Prob(Omnibus):                  0.000   Jarque-Bera (JB):        117974602.438\n",
      "Skew:                           8.294   Prob(JB):                         0.00\n",
      "Kurtosis:                     450.904   Cond. No.                         1.83\n",
      "==============================================================================\n",
      "\n",
      "Warnings:\n",
      "[1] Standard Errors assume that the covariance matrix of the errors is correctly specified.\n"
     ]
    }
   ],
   "source": [
    "import statsmodels.api as sm\n",
    "X = sm.add_constant(y_train.Global_Sales)\n",
    "model_na_sales = sm.OLS(y_train.NA_Sales, X).fit()\n",
    "\n",
    "print(model_na_sales.summary())"
   ]
  },
  {
   "cell_type": "markdown",
   "metadata": {
    "colab": {},
    "colab_type": "code",
    "id": "Nt4DJp_3kmXE"
   },
   "source": [
    "Nous retrouver que $R^2$ de cette regression linéaire est de 89%: 89% de la variabilité de NA Sales est expliquée par Global Sales.\n",
    "\n",
    "Il nous faut alors un modèle qui prend en compte la relation en X et Y. Nous utiliserons alors les réseaux de neuronnes qui permettent de capturer généralement la relation entre les différentes composantes de Y."
   ]
  },
  {
   "cell_type": "markdown",
   "metadata": {},
   "source": [
    "# VII. Réseaux de neurones"
   ]
  },
  {
   "cell_type": "markdown",
   "metadata": {},
   "source": [
    "Nous choisissons d'utiliser les réseaux de neuronnes puisqu'ils permettent de capturer la relation entre NA Sales et Global Sales. Nous ferons par la suite une petite introduction théorique aux réseaux de neuronnes que vous pouvez retrouver avec plus de détails dans la référence 4:\n",
    "\n",
    "Remarque: 2 membres de l'équipe suivent le cours \"Méthodes statistiques d'apprentissage\" et donc ils sont déjà été exposés à la théorie des réseaux de neuronnes et leurs utilisation dans le logiciel R.\n",
    "\n",
    "### VII.1. Introduction à la théorie des réseaux de neurones (ref.4): \n",
    "\n",
    "Un réseau neuronal est l’association, en un graphe plus ou moins complexe, d’objets élémentaires, les neurones formels. Les principaux réseaux se distinguent par l’organisation du graphe, c’est-à-dire leur architecture (nombre de couches par exemple), son niveau de complexité (le nombre de neurones par exemple), par le type des neurones (leurs fonctions de transition ou d’activation) et enfin par l’objectif visé : apprentissage supervisé ou non, optimisation, systèmes dynamiques...\n",
    "\n",
    "Dans le contexte de ce projet, nous utilisons ce qu'on appelle le perceptron multicouche.\n",
    "\n",
    "#### VII.1.i. Définition du perceptron multicouche et architecture(ref.4): \n",
    "\n",
    "Le perceptron multicouche (PMC) est un réseau composé de couches successives. Une couche est un ensemble de neurones n’ayant pas de connexion entre eux. Une couche d’entrée lit les signaux entrant, un neurone par entrée $x_j$, une couche en sortie fournit la réponse du système. Une ou plusieurs couches cachées participent au transfert. Dans un perceptron, un neurone d’une couche cachée est connecté en entrée à chacun des neurones de la couche précédente et en sortie à chaque neurone de la couche suivante.\n",
    "\n",
    "#### VII.1.ii. Fonction de transfert(ref.4):\n",
    "\n",
    "Les entrées d’un réseau sont encore notées $X_1$, . . . , $X_p$ comme les variables explicatives d’un modèle tandis que les poids des entrées sont des paramètres $\\alpha$, $\\beta$ à estimer lors de la procédure d’apprentissage et que la sortie est la variable $Y$ à expliquer ou cible du modèle.\n",
    "\n",
    "Un perceptron multicouche réalise donc une transformation des variables d’entrée : $Y = f(X_1, . . . , X_p; \\alpha)$ où $\\alpha$ est le vecteur contenant chacun des paramètres $\\alpha_{jkl}$ de la $j^{ème}$ entrée du $k^{ème}$ neurone de la $l^{ème}$ couche ; la couche d’entrée (l = 0) n’est pas paramétrée, elle ne fait que distribuer les entrées sur tous les neurones de la couche suivante. Un théorème dit d’approximation universelle montre que cette structure élémentaire à une seule couche cachée est suffisante pour prendre en compte les problèmes classiques de modélisation ou apprentissage statistique. En effet, toute fonction régulière peut être approchée uniformément avec une précision arbitraire et dans un domaine fini de l’espace de ses variables, par un réseau de neurones comportant une couche de neurones cachés en nombre fini possédant tous la même fonction d’activation et un neurone de sortie linéaire.\n",
    "\n",
    "De façon usuelle et en régression (Y quantitative), la dernière couche est constituée d’un seul neurone muni de la fonction d’activation identité tandis que les autres neurones (couche cachée) sont munis de la fonction sigmoïde.\n",
    "\n",
    "Ainsi, en régression avec un perceptron à une couche cachée de $q$ neurones et un neurone de sortie, cette fonction s’écrit :\n",
    "$ y = f(x; \\alpha, \\beta) = \\beta_0 + \\beta' z $ avec $z_k= g( \\alpha_{k0} + \\alpha_{k}' x)$ , k= 1,..,q. \n",
    "\n",
    "#### VII.1.iii. Apprentissage(ref.4):\n",
    "\n",
    "Supposons que l’on dispose d’une base d’apprentissage de taille n d’observations $(x_i^1,..,x_i^p;y_i)$ des variables explicatives $X^1, . . . , X^p$ et de la variable à prévoir $Y$. Considérons le cas le plus simple de la régression avec un réseau\n",
    "constitué d’un neurone de sortie linéaire et d’une couche à q neurones dont les paramètres sont optimisés par moindres carrés. Ceci se généralise à toute fonction perte dérivable et donc à la discrimination à m classes.\n",
    "\n",
    "L’apprentissage est l’estimation des paramètres $\\alpha_{j=0,p;k=1,q}$ et $\\beta_{k=0,q}$ par minimisation de la fonction perte quadratique: $Q(\\alpha, \\beta) = \\sum_{i=1}^{n} [y_i − f(x; \\alpha, \\beta)]^2$. \n",
    "\n",
    "Différents algorithmes d’optimisation sont proposés, ils sont généralement basés sur une évaluation du gradient par rétro-propagation.\n",
    "\n",
    "**Rétro-propagation de l’erreur :**\n",
    "\n",
    "Il s’agit donc dévaluer la dérivée de la fonction coût en une observation et par rapport aux différents paramètres. Soit $z_{ki} = g(\\alpha_{k0} + \\alpha_{k}' x_i)$ et $z_i = {z_{1i}, . . . , z_{qi}}$. Les dérivées partielles de la fonction perte quadratique s’écrivent :\n",
    "\n",
    "$$∂Q_i  / ∂ \\beta_k = −2(y_i − φ(x_i))(β'z_i)z_{ki} = δ_i z_{ki}$$.\n",
    "\n",
    "et \n",
    "\n",
    "$$∂Q_i /  ∂ \\alpha_{kj} = −2(y_i − φ(x_i))(\\beta'z_i)\\beta_k g'(\\alpha_k' x_i)x_{ip} = s_{ki} x_{ip}$$.\n",
    "\n",
    "Les termes δ_i et s_{ki} sont respectivement les termes d’erreur du modèle courant à la sortie et sur chaque neurone caché. Ces termes d’erreur vérifient les équations dites de rétro-propagation :\n",
    "\n",
    "$$s_{ki} = g'(\\alpha_k' x_i)\\beta_k δ_i$$\n",
    "\n",
    "dont les termes sont évalués en deux passes. Une passe avant, avec les valeurs courantes des poids : l’application des différentes entrées $x_i$ au réseau permet de déterminer les valeurs ajustées $\\hat{f}(x_i)$. La passe retour permet ensuite de\n",
    "déterminer les $δ_i$ qui sont rétro-propagés afin de calculer les $s_{ki}$ et ainsi obtenir les évaluations des gradients.\n",
    "\n",
    "**Algorithmes d’optimisation :**\n",
    "\n",
    "Sachant évaluer les gradients, différents algorithmes, plus ou moins sophistiqués, sont implémentés. Le plus élémentaire est une utilisation itérative du gradient : en tout point de l’espace des paramètres, le vecteur gradient de Q pointe dans la direction de l’erreur croissante. Pour faire décroître Q il suffit donc de se déplacer en sens contraire. D’autres algorithmes encore sont des versions adaptatives. Lorsque de nouvelles observations sont proposées une à une au réseau. Dans ce dernier type d’algorithme, des propriétés de dynamique markovienne (processus ergodique convergeant vers la mesure stationnaire) impliquent une convergence presque sûre : la probabilité d’atteindre une précision fixée a priori tend vers 1 lorsque la taille de l’échantillon d’apprentissage tend vers l’infini.\n",
    "\n",
    "**Vous pouvez consulter la référence 4 pour plus de détails**.\n",
    "\n",
    "\n",
    "### VII.2. Application des réseaux de neuronnes à notre problème:\n",
    "\n",
    "Nous avons constaté à partir de l'analyse précédente que faire un modèle de regression par catégorie de la variable \"platform\" était le plus efficace. Dans la même optique, nous allons entrainer un réseau de neurones par catégorie de cette variable et faire les prédictions selon cette catégorie."
   ]
  },
  {
   "cell_type": "code",
   "execution_count": 98,
   "metadata": {},
   "outputs": [],
   "source": [
    "from sklearn.neural_network import MLPRegressor"
   ]
  },
  {
   "cell_type": "markdown",
   "metadata": {},
   "source": [
    "Nous utiliserons la variable Platform puisqu'à priori, c'est la colonne qui nous a donné le meilleur RMSE sur Kaggle avec Régression Linéaire."
   ]
  },
  {
   "cell_type": "code",
   "execution_count": 100,
   "metadata": {},
   "outputs": [],
   "source": [
    "Platform = ['Platform1',\n",
    "       'Platform2', 'Platform3', 'Platform4', 'Platform5', 'Platform6',\n",
    "       'Platform7', 'Platform8', 'Platform9','Platform10','Platform11','Platform12','Platform13','Platform14','Platform15']\n",
    "# NN est un dictionnaire contenant tous les modèles de réseaux de neurones pour chaque genre\n",
    "NN={}\n",
    "for (i,j) in enumerate(Platform):\n",
    "    X = X_train_prepared[X_train_prepared[j] == 1]\n",
    "    Y = y_train[X_train_prepared[j] == 1]\n",
    "    NN[str(i)] = MLPRegressor(hidden_layer_sizes=(100,50))\n",
    "    NN[str(i)].fit(X,Y)\n",
    "    \n",
    "Prediction = pd.DataFrame(np.zeros((X_test_prepared.shape[0],2)),columns=[\"NA_Sales\",\"Global_Sales\"])\n",
    "for i in range(X_test_prepared.shape[0]):\n",
    "    X = X_test_prepared\n",
    "    a = np.where(np.array(X_test_prepared.iloc[i,58:73]) == 1)[0][0]\n",
    "    Prediction.iloc[i,:] = NN[str(a)].predict(X.iloc[[i]])\n",
    "    \n",
    "for i in range(Prediction.shape[0]):\n",
    "    if Prediction.iloc[i,0] <0:\n",
    "        Prediction.iloc[i,0] = 0\n",
    "    if Prediction.iloc[i,1] <0:\n",
    "        Prediction.iloc[i,1] = 0"
   ]
  },
  {
   "cell_type": "code",
   "execution_count": null,
   "metadata": {},
   "outputs": [],
   "source": [
    "results['NA_Sales'] = Predict['NA_Sales']\n",
    "results['Global_Sales'] = Predict['Global_Sales']\n",
    "results.to_csv('results_NN.csv', index = False)"
   ]
  },
  {
   "cell_type": "markdown",
   "metadata": {
    "colab_type": "text",
    "id": "wKNTodHekmXG"
   },
   "source": [
    "# VIII. Évolution du résultat et Conclusions"
   ]
  },
  {
   "cell_type": "markdown",
   "metadata": {
    "colab_type": "text",
    "id": "noLjupP1kmXH"
   },
   "source": [
    "Avant d'aboutir à cette version finale, beaucoup de tentatives ont été effectués tout au long du projet : nous sommes néanmoins toujours resté sur une approche \"classique\" et non bayesienne, car nous avons préféré exploiter au maximum toutes nos idées pour améliorer ce que nous avions fait, plutôt que repartir de 0."
   ]
  },
  {
   "cell_type": "markdown",
   "metadata": {
    "colab_type": "text",
    "id": "OqPVaMUwkmXH"
   },
   "source": [
    "L'organisation que nous souhaitions avoir était la suivante : nous souhaitions partir d'un modèle très simple avec très peu de variables, et l'enrichir au fur et à mesure en fonction des résultats que nous obtenons pour essayer de diminuer le score. Cependant, les résultats que nous obtenions nous ont beaucoup interrogés, en particulier en début de projet."
   ]
  },
  {
   "cell_type": "markdown",
   "metadata": {
    "colab_type": "text",
    "id": "-XBPXZ_PkmXJ"
   },
   "source": [
    "###### Chronologie des améliorations : "
   ]
  },
  {
   "cell_type": "markdown",
   "metadata": {
    "colab_type": "text",
    "id": "erDTxkpPkmXK"
   },
   "source": [
    "* 1ère tentative : on construit le squelette du code permettant d'effectuer une regression linéaire à partir de variables continues (modèle le plus simple, pas d'encodage, d'ACP, etc), en *droppant* les NaN values.\n",
    "* On ajoute ensuite au fur et à mesure les autres variables (discrètes, etc.), et on effectue un traitement des données (normalisation, remplissage des NaN Values, etc)\n",
    "* On gère la multicolinéarité : utilisation de l'ACP\n",
    "* On applique la validation croisée pour utilisé le meilleur paramètre dans chacune des étapes\n",
    "* Ensuite, on aborde diverses pistes d'améliorations pour tenter d'améliorer notre score : modèle linéaire généralisés, changement dans l'ACP, isolement de données pour effectués plusieurs modèles de regressions, sélection de variables, etc.\n",
    "* Finalement, on utilise des réseaux de neuronnes pour exploiter leurs caractéristiques particulières."
   ]
  },
  {
   "cell_type": "code",
   "execution_count": 5,
   "metadata": {
    "colab": {},
    "colab_type": "code",
    "id": "2dUNq0dukmXK",
    "outputId": "6905e56a-b182-4096-c255-6115ce72d209"
   },
   "outputs": [
    {
     "data": {
      "text/plain": [
       "[<matplotlib.lines.Line2D at 0x17316e50eb8>]"
      ]
     },
     "execution_count": 5,
     "metadata": {},
     "output_type": "execute_result"
    },
    {
     "data": {
      "image/png": "[encoded data removed]",
      "text/plain": [
       "<Figure size 432x288 with 1 Axes>"
      ]
     },
     "metadata": {
      "needs_background": "light"
     },
     "output_type": "display_data"
    }
   ],
   "source": [
    "submissions = [0.56974, 1.00207, 1.07525, 1.14955, \n",
    "               0.58889, 1.27302, 0.67517, 0.73865,\n",
    "               0.52266, 0.49055, 1.02971, 0.50777,\n",
    "               0.51087, 0.43299, 0.49193, 0.38281,\n",
    "               0.48082]\n",
    "\n",
    "index_submit = [1, 1.5, 4, 4.5, 5, 7, 7.5, 8, 9, 9.5, 10,\n",
    "                10.5, 14, 16, 16.5, 17, 17.5]\n",
    "\n",
    "plt.title('Soumissions des résultats sur KAGGLE')\n",
    "plt.xlabel('Jour')\n",
    "plt.ylabel('Score sur Kaggle')\n",
    "plt.plot(index_submit, submissions, 'b:')"
   ]
  },
  {
   "cell_type": "markdown",
   "metadata": {
    "colab_type": "text",
    "id": "-nt3nfW6kmXO"
   },
   "source": [
    "Ce graphe nous montre l'évolution du score que nous obtenions sur Kaggle en fonction du temps.\n",
    "\n",
    "On observe ainsi ce qui nous a dérouté au début du projet : notre premier essai, le plus simple possible, a eut un score plutôt bon (0.56974), et nous avons mis plus d'une semaine avant de l'améliorer !\n",
    "\n",
    "Ainsi, même après avoir corrigé toutes les erreurs dans le code, inclure toutes les variables, les traités, et effectué une PCA ne nous a pas permis d'améliorer le score (0.58889). C'est donc après une semaine que nous nous sommes divisés les tâches et que chacun a essayé de trouver une piste d'amélioration. Et le score a été finalement amélioré lorsque l'on a effectué une regression par catégorie d'une variable catégorielle (0.49055 lorsqu'on utilise *platform*). Cependant, beaucoup de nos approches n'ont pas abouti, certaines n'ont pas amélioré le score sur Kaggle et d'autres avaient un score en validation croisée trop elevée pour pouvoir même essayer de soumettre le résultat. \n",
    "La dernière difficulté a été ensuite de mettre en commun toutes les idées exploités, et de faire le tri sur ce les améliorations que l'on conservait ou non.\n",
    "\n",
    "Finalement, le meilleur score que nous avons obtenu sur Kaggle était 0.38281 en utilisant les réseaux de neuronnes qui ont permis d'exploiter la corrélation entre les variables de sortie."
   ]
  },
  {
   "cell_type": "markdown",
   "metadata": {
    "colab_type": "text",
    "id": "8jYgSU2ckmXP"
   },
   "source": [
    "# Références:\n",
    "\n",
    "(ref.1) https://datascience.stackexchange.com/questions/10459/calculation-and-visualization-of-correlation-matrix-with-pandas  \n",
    "(ref.2) Traitement des données dans la matière INF8215.  \n",
    "(ref.3) https://xavierbourretsicotte.github.io/subset_selection.html\n",
    "(ref.4) https://www.math.univ-toulouse.fr/~besse/Wikistat/pdf/st-m-app-rn.pdf"
   ]
  }
 ],
 "metadata": {
  "colab": {
   "collapsed_sections": [
    "eP6TCWlAkmTl",
    "pEge1M1TkmTm",
    "SkSr3jfCkmT3",
    "1Up3NDOWkmT4",
    "zIIXuVxEkmUs",
    "fvKFtBImkmUv",
    "ME1iwZoekmVG",
    "TVm3HClKkmVH",
    "CMEGi5XBkmVT",
    "OxkzlaFskmV8",
    "vnsT_zrFkmV9",
    "OwlVnF1tkmWB",
    "QM_QaqqJkmWC",
    "wX12WdR8kmWH",
    "8ceSHmufkmWL",
    "sCJB4gzKkmWN",
    "AKBTR_Y8kmWP",
    "YQw4-fQwkmWQ",
    "9f4hgKUYkmWU",
    "BQ6WbOIikmWc",
    "fTzwgjWykmWd",
    "3VJLkPuskmWr"
   ],
   "name": "kaggle_V1312.ipynb",
   "provenance": [],
   "version": "0.3.2"
  },
  "kernelspec": {
   "display_name": "Python 3",
   "language": "python",
   "name": "python3"
  },
  "language_info": {
   "codemirror_mode": {
    "name": "ipython",
    "version": 3
   },
   "file_extension": ".py",
   "mimetype": "text/x-python",
   "name": "python",
   "nbconvert_exporter": "python",
   "pygments_lexer": "ipython3",
   "version": "3.7.1"
  }
 },
 "nbformat": 4,
 "nbformat_minor": 1
}
