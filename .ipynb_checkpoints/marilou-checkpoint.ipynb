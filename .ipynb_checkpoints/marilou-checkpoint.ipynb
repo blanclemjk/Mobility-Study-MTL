{
 "cells": [
  {
   "cell_type": "markdown",
   "metadata": {},
   "source": [
    "\n",
    "# MTH3302 : Méthodes probabilistes et statistiques pour l'I.A.\n",
    "\n",
    "Jonathan Jalbert<br/>\n",
    "Professeur adjoint au Département de mathématiques et de génie industriel<br/>\n",
    "Polytechnique Montréal<br/>\n",
    "\n",
    "Ce TD a été développé avec l'aide précieuse de :\n",
    "- Sanae Lofti, candidate à la maîtrise,\n",
    "- Amine Bellahsen, candidat à la maîtrise.<br/>\n",
    "\n",
    "Tous les deux étaient inscrits au cours à l'automne 2018.\n",
    "\n",
    "---\n",
    "\n",
    "\n",
    "# TD 9 : Analyse exploratoire des données du projet final et première soumission \n",
    "___\n",
    "\n",
    "### Description\n",
    "\n",
    "Dans ce travail dirigé, nous explorerons le lien entre le mode de transport emprunté pour les déplacements avec un certains nombre de variables explicatives. Vous devrez compléter par vous-même cette analyse exploratoire pour ultimement améliorer la qualité de vos modèles et par le fait même de vos prédictions.\n",
    "\n",
    "### Objectif\n",
    "\n",
    "L'objectif de ce TP n'est pas de répondre à toutes les questions ouvertes de ce problème, mais de vous préparer et vous donner des outils pour le projet final du cours MTH3302. On essayera alors de faire une analyse brève des données qui permettra de vous donner des idées. **Une analyse plus profonde sera attendue de vous pour le projet final, surtout en ce qui concerne la relation entre : le type de transport utilisé, la proximité des moyens de transports et le nombre d'emploi accessibles en transport en commun en moins de 45 minutes à 8 heures le matin.** \n",
    "\n",
    "Dans ce TD, nous utilisons un modèle très simple de classifaction bayésienne naïve pour prédire le mode de transport. Ce sera voter travail d'améliorer ce modèle. Notez que vous n'êtes pas contraint d'utiliser la classification bayésienne naïve pour réaliser votre projet final.\n",
    "\n",
    "\n",
    "### Données\n",
    "\n",
    "Les données des ensembles d'entraînement et de test peuvent être récupérées sur Moodle.\n",
    "\n",
    "\n",
    "\n",
    "### Sommaire:\n",
    "___\n",
    "\n",
    "\n",
    "[Préliminaires](#unit0)  \n",
    "[Exercice 1](#unit1)  \n",
    "[Exercice 2](#unit2)  \n",
    "[Exercice 3](#unit3)  \n"
   ]
  },
  {
   "cell_type": "code",
   "execution_count": null,
   "metadata": {},
   "outputs": [
    {
     "name": "stderr",
     "output_type": "stream",
     "text": [
      "┌ Info: Loading DataFrames support into Gadfly.jl\n",
      "└ @ Gadfly /Users/BenjaminBeaudry/.julia/packages/Gadfly/09PWZ/src/mapping.jl:228\n"
     ]
    }
   ],
   "source": [
    "using CSV, DataFrames, Gadfly, Distributions, StatsBase"
   ]
  },
  {
   "cell_type": "markdown",
   "metadata": {},
   "source": [
    "## Chargement des données de l'ensemble d'entraînement\n",
    "\n",
    "Le fichier *ODtrain.csv* doit être télécharger depuis Moodle dans le répertoire du présent calepin."
   ]
  },
  {
   "cell_type": "code",
   "execution_count": null,
   "metadata": {},
   "outputs": [],
   "source": [
    "train = CSV.read(\"ODtrain.csv\")\n",
    "first(train,5)"
   ]
  },
  {
   "cell_type": "code",
   "execution_count": null,
   "metadata": {},
   "outputs": [],
   "source": [
    "n = size(train,1)\n",
    "p = size(train,2)\n",
    "println(\"Le fichier d'entraînement contient $n déplacements et $p variables.\")"
   ]
  },
  {
   "cell_type": "markdown",
   "metadata": {},
   "source": [
    "## Nettoyage des données\n",
    "\n",
    "Dans ce jeu de données, il n'y a aucune valeurs manquantes. La première étape consiste à se débarasser du type complexe des variables permettant d'avoir des valeurs manquantes. La deuxième étape consiste à transformer le mode de transport en une variable catégorielle avec un beau nom pour faire des plus beaux graphiques."
   ]
  },
  {
   "cell_type": "code",
   "execution_count": null,
   "metadata": {},
   "outputs": [],
   "source": [
    "dropmissing!(train, disallowmissing=true)\n",
    "first(train,5)"
   ]
  },
  {
   "cell_type": "code",
   "execution_count": null,
   "metadata": {},
   "outputs": [],
   "source": [
    "str_mode = [\"Voiture\", \"Transport Collectif\", \"Hybride\", \"Actif\", \"Autre\"]\n",
    "\n",
    "d = Array{String}(undef,n)\n",
    "\n",
    "for i=1:length(str_mode)\n",
    "   \n",
    "    ind = train[:D_Mode] .== i\n",
    "    d[ind] .= str_mode[i] \n",
    "    \n",
    "end\n",
    "\n",
    "train[:D_Mode_str] = d\n",
    "\n",
    "categorical!(train, :D_Mode_str)\n",
    "\n",
    "first(train,5)"
   ]
  },
  {
   "cell_type": "markdown",
   "metadata": {},
   "source": [
    "## Analyse exploratoire\n",
    "___\n",
    "\n",
    "L'analyse exploratoire de données est une étape essentielle, car c'est un processus d'inspection, de nettoyage, de transformation et de modélisation de données visant à\n",
    "\n",
    "- découvrir des informations utiles ;\n",
    "- alimenter des conclusions ;\n",
    "- appuyer la prise de décision. \n",
    "\n",
    "Documenter son approche est une tâche essentielle en apprentissage machine. Vous serez donc évalué sur la clarté de la présentation de vos résultats et de la justification de la méthodologie. Les figures que vous produierai lors de l'analyse exploratoire seront donc utiles pour justifier votre démarche."
   ]
  },
  {
   "cell_type": "code",
   "execution_count": null,
   "metadata": {},
   "outputs": [],
   "source": [
    "#= fonction permettant d'extraire la fréquence relative de chaque mode en fonction des \n",
    "classes «edges» de la variable explicatives =#\n",
    "\n",
    "function histnorm(train::DataFrame, edges::AbstractVector, varname::Symbol)\n",
    "\n",
    "    center = (edges[1:end-1]+edges[2:end])/2\n",
    "\n",
    "    c = Array{Float64}(undef,5,length(center))\n",
    "    \n",
    "    m = unique(train[:D_Mode_str])\n",
    "    \n",
    "\n",
    "    for i=1:length(m)\n",
    "        ind = train[:D_Mode_str] .== m[i]\n",
    "        x = train[ind, varname]\n",
    "\n",
    "        h = fit(Histogram,x, edges)\n",
    "\n",
    "        c[i,:] = h.weights\n",
    "\n",
    "    end\n",
    "\n",
    "    nᵢ = vec(sum(c, dims=1))\n",
    "\n",
    "    df = DataFrame(Center = center)\n",
    "\n",
    "    for i=1:5\n",
    "        df[Symbol(m[i])] = c[i,:] ./ nᵢ\n",
    "    end\n",
    "\n",
    "    df = melt(df, :Center)\n",
    "\n",
    "    rename!(df, :Center => varname)\n",
    "    rename!(df, :value => :proportion)\n",
    "    rename!(df, :variable => :D_Mode_str)\n",
    "\n",
    "    return df\n",
    "    \n",
    "end"
   ]
  },
  {
   "cell_type": "markdown",
   "metadata": {},
   "source": [
    "### Fréquence des modes de transport\n",
    "\n",
    "Affiche le nombre de déplacements dans l'ensemble d'entraînement pour chacun des modes. "
   ]
  },
  {
   "cell_type": "code",
   "execution_count": null,
   "metadata": {},
   "outputs": [],
   "source": [
    "set_default_plot_size(9inch, 6inch)\n",
    "plot(train, x=:D_Mode_str, Geom.histogram)"
   ]
  },
  {
   "cell_type": "markdown",
   "metadata": {},
   "source": [
    "> <font color=\"blue\"> On remarque que la voiture est le mode de transport le plus populaire."
   ]
  },
  {
   "cell_type": "markdown",
   "metadata": {},
   "source": [
    "### Fréquence des modes de transport en fonction de la distance du ménage au centre ville\n",
    "\n",
    "Affiche le nombre de déplacements par modes en fonction de la distance du domicile à la gare centrale de Montréal."
   ]
  },
  {
   "cell_type": "code",
   "execution_count": null,
   "metadata": {},
   "outputs": [],
   "source": [
    "plot(train, x=:M_dist_centre, color=:D_Mode_str,\n",
    "     Geom.histogram(bincount=30), Coord.cartesian(xmin=0, xmax = 65))"
   ]
  },
  {
   "cell_type": "markdown",
   "metadata": {},
   "source": [
    "> <font color=\"blue\"> On remarque que quand la distance du domicile à la gare centrale de Montréal est petite, les gens ont tendance à utiliser un mode de transport actif ou les transports collectifs. Plus le domicile est loi de la gare centrale, plus l'usage de l'automobile devient important.\n",
    "    \n",
    "> <font color=\"blue\"> On remarque aussi que la plupart des gens questionnés avaient un domicile proche de la Gare de la gare centrale de Montréal. Ceci peut refléter la réalité où la densité de la population est plus importante au centre-ville que dans les banlieues."
   ]
  },
  {
   "cell_type": "code",
   "execution_count": null,
   "metadata": {},
   "outputs": [],
   "source": [
    "df = histnorm(train,0:1:40,:M_dist_centre)\n",
    "plot(df, x = :M_dist_centre, y=:proportion, color=:D_Mode_str, Geom.bar, Coord.cartesian(ymin=0, ymax=1))"
   ]
  },
  {
   "cell_type": "markdown",
   "metadata": {},
   "source": [
    "### Fréquence des modes de transport en fonction de l'âge des individus\n",
    "\n",
    "Affiche le nombre de déplacements par modes en fonction de l'âge des individus."
   ]
  },
  {
   "cell_type": "code",
   "execution_count": null,
   "metadata": {},
   "outputs": [],
   "source": [
    "plot(train, x=:P_AGE, color=:D_Mode_str, Geom.histogram(bincount=8))"
   ]
  },
  {
   "cell_type": "markdown",
   "metadata": {},
   "source": [
    "> <font color=\"blue\"> On remarque que les gens de moins de 25 ans ont plus tendance à prendre d'autres modes de transport que la voiture."
   ]
  },
  {
   "cell_type": "code",
   "execution_count": null,
   "metadata": {},
   "outputs": [],
   "source": [
    "df = histnorm(train,0:10:80,:P_AGE)\n",
    "plot(df, x = :P_AGE, y=:proportion, color=:D_Mode_str, Geom.bar, Coord.cartesian(ymin=0, ymax=1))"
   ]
  },
  {
   "cell_type": "markdown",
   "metadata": {},
   "source": [
    "### Fréquence des modes de transport en fonction de la distance au métro le plus proche\n",
    "\n",
    "La distance est en km."
   ]
  },
  {
   "cell_type": "code",
   "execution_count": null,
   "metadata": {},
   "outputs": [],
   "source": [
    "plot(train, x=:M_dist_metro, color=:D_Mode_str,\n",
    "     Geom.histogram(bincount=20), Coord.cartesian(xmin=0, xmax = 65))"
   ]
  },
  {
   "cell_type": "markdown",
   "metadata": {},
   "source": [
    "> <font color=\"blue\"> L'utilisation des transports collectifs et des modes actifs sont prépondérant lorsque la distance entre le domicile et la station de métro la plus proche est à moins de ~2 km. L'automobile est plus prisée au fur et à mesure que la distance augmente. \n",
    "    "
   ]
  },
  {
   "cell_type": "code",
   "execution_count": null,
   "metadata": {},
   "outputs": [],
   "source": [
    "df = histnorm(train,0:2:40,:M_dist_metro)\n",
    "plot(df, x = :M_dist_metro, y=:proportion, color=:D_Mode_str, Geom.bar, Coord.cartesian(ymin=0, ymax=1))"
   ]
  },
  {
   "cell_type": "markdown",
   "metadata": {},
   "source": [
    "### Fréquence des modes de transport en fonction du nombre d'emplois disponibles à moins de 45 min de transport en commun\n",
    "\n",
    "Trajet calculé à 8h00 du matin."
   ]
  },
  {
   "cell_type": "code",
   "execution_count": null,
   "metadata": {},
   "outputs": [],
   "source": [
    "plot(train, x=:M_emploiTC, color=:D_Mode_str, Geom.histogram(bincount=30))"
   ]
  },
  {
   "cell_type": "code",
   "execution_count": null,
   "metadata": {},
   "outputs": [],
   "source": [
    "df = histnorm(train,0:1e5:1e6,:M_emploiTC)\n",
    "plot(df, x = :M_emploiTC, y=:proportion, color=:D_Mode_str, Geom.bar, Coord.cartesian(ymin=0, ymax=1))"
   ]
  },
  {
   "cell_type": "markdown",
   "metadata": {},
   "source": [
    "### Fréquence des modes de transport en fonction du nombre de personnes par ménage"
   ]
  },
  {
   "cell_type": "code",
   "execution_count": null,
   "metadata": {},
   "outputs": [],
   "source": [
    "plot(train, x=:M_PERS, color=:D_Mode_str, Geom.histogram(bincount=20))"
   ]
  },
  {
   "cell_type": "code",
   "execution_count": null,
   "metadata": {},
   "outputs": [],
   "source": [
    "df = histnorm(train,0:1:19,:M_PERS)\n",
    "plot(df, x = :M_PERS, y=:proportion, color=:D_Mode_str, Geom.bar, Coord.cartesian(ymin=0, ymax=1))"
   ]
  },
  {
   "cell_type": "markdown",
   "metadata": {},
   "source": [
    "### Fréquence des modes de transport en fonction du secteur municipal"
   ]
  },
  {
   "cell_type": "code",
   "execution_count": null,
   "metadata": {},
   "outputs": [],
   "source": [
    "plot(train, x=:M_DOMSM, color=:D_Mode_str, Geom.histogram(bincount=113))"
   ]
  },
  {
   "cell_type": "code",
   "execution_count": null,
   "metadata": {},
   "outputs": [],
   "source": [
    "df = histnorm(train,100:1:700,:M_DOMSM)\n",
    "plot(df, x = :M_DOMSM, y=:proportion, color=:D_Mode_str, Geom.bar, Coord.cartesian(ymin=0, ymax=1))"
   ]
  },
  {
   "cell_type": "markdown",
   "metadata": {},
   "source": [
    "### Fréquence des modes de transport en fonction du secteur municipal (regroupés)"
   ]
  },
  {
   "cell_type": "code",
   "execution_count": null,
   "metadata": {},
   "outputs": [],
   "source": [
    "d = Array{Int64}(undef,n)\n",
    "\n",
    "for i=1:length(train[:M_DOMSM])\n",
    "    mun = train[:M_DOMSM][i];\n",
    "    if mun == 101 || mun == 102\n",
    "        d[i] = 1;\n",
    "    elseif (mun >= 103 && mun <= 112) || (mun >= 120 && mun <= 124)\n",
    "        d[i] = 2;\n",
    "    elseif mun >= 113 && mun <= 118\n",
    "        d[i] = 3;\n",
    "    elseif mun >= 126 && mun <= 141\n",
    "        d[i] = 4;\n",
    "    elseif mun >= 301 && mun <= 310\n",
    "        d[i] = 5;\n",
    "    elseif mun >= 401 && mun <= 408\n",
    "        d[i] = 6;\n",
    "    elseif mun >= 501 && mun <= 576\n",
    "        d[i] = 7;\n",
    "    elseif mun >= 601 && mun <= 691\n",
    "        d[i] = 8;\n",
    "    else\n",
    "        d[i] = 9;\n",
    "    end\n",
    "end\n",
    "\n",
    "train[:M_DOMSM_G] = d\n",
    "\n",
    "first(train,5)"
   ]
  },
  {
   "cell_type": "code",
   "execution_count": null,
   "metadata": {},
   "outputs": [],
   "source": [
    "plot(train, x=:M_DOMSM_G, color=:D_Mode_str, Geom.histogram(bincount=9))"
   ]
  },
  {
   "cell_type": "code",
   "execution_count": null,
   "metadata": {},
   "outputs": [],
   "source": [
    "df = histnorm(train,0:1:9,:M_DOMSM_G)\n",
    "plot(df, x = :M_DOMSM_G, y=:proportion, color=:D_Mode_str, Geom.bar, Coord.cartesian(ymin=0, ymax=1))"
   ]
  },
  {
   "cell_type": "markdown",
   "metadata": {},
   "source": [
    "### A priori"
   ]
  },
  {
   "cell_type": "code",
   "execution_count": null,
   "metadata": {},
   "outputs": [],
   "source": [
    "dep = 5;\n",
    "voi = train[train[:D_Mode] .== dep, :];\n",
    "n = length(voi[:D_Mode]);\n",
    "nm = round(sqrt(n));\n",
    "print(nm);\n",
    "\n",
    "plot(voi , x=:M_dist_centre, color=:D_Mode_str, Geom.histogram(bincount=nm))"
   ]
  },
  {
   "cell_type": "code",
   "execution_count": null,
   "metadata": {},
   "outputs": [],
   "source": [
    "fd = fit(Gamma, voi[:M_dist_centre]);\n",
    "xx = 0:0.1:60;\n",
    "f = pdf.(fd, xx);\n",
    "h = layer(x = voi[:M_dist_centre], Geom.histogram(density = true));\n",
    "f = layer(x = xx, y = f, Geom.line, Theme(default_color=\"red\"));\n",
    "plot(f, h)"
   ]
  },
  {
   "cell_type": "code",
   "execution_count": null,
   "metadata": {
    "collapsed": true
   },
   "outputs": [],
   "source": []
  },
  {
   "cell_type": "code",
   "execution_count": null,
   "metadata": {
    "collapsed": true
   },
   "outputs": [],
   "source": []
  },
  {
   "cell_type": "markdown",
   "metadata": {},
   "source": [
    "## Génération d'un fichier de prédiction pour Kaggle"
   ]
  },
  {
   "cell_type": "code",
   "execution_count": null,
   "metadata": {
    "collapsed": true
   },
   "outputs": [],
   "source": []
  },
  {
   "cell_type": "code",
   "execution_count": null,
   "metadata": {
    "collapsed": true
   },
   "outputs": [],
   "source": []
  },
  {
   "cell_type": "code",
   "execution_count": null,
   "metadata": {
    "collapsed": true
   },
   "outputs": [],
   "source": []
  },
  {
   "cell_type": "code",
   "execution_count": null,
   "metadata": {
    "collapsed": true
   },
   "outputs": [],
   "source": []
  },
  {
   "cell_type": "code",
   "execution_count": null,
   "metadata": {
    "collapsed": true
   },
   "outputs": [],
   "source": []
  },
  {
   "cell_type": "code",
   "execution_count": null,
   "metadata": {
    "collapsed": true
   },
   "outputs": [],
   "source": []
  },
  {
   "cell_type": "code",
   "execution_count": null,
   "metadata": {
    "collapsed": true
   },
   "outputs": [],
   "source": []
  },
  {
   "cell_type": "code",
   "execution_count": null,
   "metadata": {
    "collapsed": true
   },
   "outputs": [],
   "source": [
    "d = min.(data[:M_dist_metro],data[:M_dist_metro])\n",
    "data[:M_dist_TC] = d;"
   ]
  },
  {
   "cell_type": "code",
   "execution_count": null,
   "metadata": {
    "collapsed": true
   },
   "outputs": [],
   "source": [
    "ind = data[:M_dist_TC] .< 3\n",
    "df = data[ind,:]\n",
    "plot(df, x=:D_Mode, Geom.histogram)"
   ]
  },
  {
   "cell_type": "code",
   "execution_count": null,
   "metadata": {
    "collapsed": true
   },
   "outputs": [],
   "source": [
    "ind = data[:M_dist_centre] .< 1\n",
    "df = data[ind,:]\n",
    "plot(df, x=:D_Mode, Geom.histogram)"
   ]
  },
  {
   "cell_type": "code",
   "execution_count": null,
   "metadata": {
    "collapsed": true
   },
   "outputs": [],
   "source": []
  },
  {
   "cell_type": "code",
   "execution_count": null,
   "metadata": {
    "collapsed": true
   },
   "outputs": [],
   "source": [
    "ind = data[:D_Mode] .== \"TC\"\n",
    "Mode2 = data[ind,:]"
   ]
  },
  {
   "cell_type": "code",
   "execution_count": null,
   "metadata": {
    "collapsed": true
   },
   "outputs": [],
   "source": [
    "n = size(Mode2,1)\n",
    "nbin = round(sqrt(n))\n",
    "\n",
    "fd = fit(Gamma,Mode2[:M_dist_metro])\n",
    "xx = range(0,stop = 40, length=1000)\n",
    "\n",
    "\n",
    "h = layer(Mode2,x=:M_dist_metro, Geom.histogram(bincount=nbin, density=true), Theme(default_color=\"deepskyblue\"))\n",
    "d = layer(x=xx,y=pdf.(fd,xx), Geom.line, Theme(default_color=\"red\"))\n",
    "plot(d,h, Coord.cartesian(xmin=0, xmax=25))"
   ]
  },
  {
   "cell_type": "code",
   "execution_count": null,
   "metadata": {
    "collapsed": true
   },
   "outputs": [],
   "source": [
    "n = size(Mode2,1)\n",
    "nbin = round(sqrt(n))\n",
    "\n",
    "fd = fit(Weibull,Mode2[:M_dist_metro])\n",
    "xx = range(0,stop = 40, length=1000)\n",
    "\n",
    "\n",
    "h = layer(Mode2,x=:M_dist_metro, Geom.histogram(bincount=nbin, density=true), Theme(default_color=\"deepskyblue\"))\n",
    "d = layer(x=xx,y=pdf.(fd,xx), Geom.line, Theme(default_color=\"red\"))\n",
    "plot(d,h, Coord.cartesian(xmin=0, xmax=25))"
   ]
  },
  {
   "cell_type": "code",
   "execution_count": null,
   "metadata": {
    "collapsed": true
   },
   "outputs": [],
   "source": []
  },
  {
   "cell_type": "code",
   "execution_count": null,
   "metadata": {
    "collapsed": true
   },
   "outputs": [],
   "source": []
  }
 ],
 "metadata": {
  "kernelspec": {
   "display_name": "Julia 1.0.3",
   "language": "julia",
   "name": "julia-1.0"
  },
  "language_info": {
   "file_extension": ".jl",
   "mimetype": "application/julia",
   "name": "julia",
   "version": "1.0.3"
  }
 },
 "nbformat": 4,
 "nbformat_minor": 2
}
